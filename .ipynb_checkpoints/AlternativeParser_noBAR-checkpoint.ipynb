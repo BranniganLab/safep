{
 "cells": [
  {
   "cell_type": "markdown",
   "id": "fc3a9315",
   "metadata": {},
   "source": [
    "User Settings:"
   ]
  },
  {
   "cell_type": "code",
   "execution_count": null,
   "id": "45948662",
   "metadata": {},
   "outputs": [],
   "source": [
    "from glob import glob #file regexes\n",
    "\n",
    "files = glob(\"*.fep\")\n",
    "equil = 10000\n",
    "temperature = 300"
   ]
  },
  {
   "cell_type": "markdown",
   "id": "e086bfc0",
   "metadata": {},
   "source": [
    "Imports"
   ]
  },
  {
   "cell_type": "code",
   "execution_count": null,
   "id": "d60e6de9",
   "metadata": {
    "tags": []
   },
   "outputs": [],
   "source": [
    "import pandas as pd\n",
    "import matplotlib.pyplot as plt\n",
    "import numpy as np\n",
    "from tqdm import tqdm #for progress bars\n",
    "import re #regex\n",
    "from natsort import natsorted #for sorting \"naturally\" instead of alphabetically\n"
   ]
  },
  {
   "cell_type": "code",
   "execution_count": null,
   "id": "8e5f259a",
   "metadata": {},
   "outputs": [],
   "source": [
    "from Analysis_Scripts import *"
   ]
  },
  {
   "cell_type": "markdown",
   "id": "aca3f4d7",
   "metadata": {},
   "source": [
    "Read files"
   ]
  },
  {
   "cell_type": "code",
   "execution_count": null,
   "id": "ed1804d9",
   "metadata": {},
   "outputs": [],
   "source": [
    "files = natsorted(files)\n",
    "data = readFiles(files)"
   ]
  },
  {
   "cell_type": "code",
   "execution_count": null,
   "id": "cdbd190c",
   "metadata": {},
   "outputs": [],
   "source": [
    "data.to_pickle(\"all_data.pkl\")"
   ]
  },
  {
   "cell_type": "markdown",
   "id": "e6a2e1ca",
   "metadata": {},
   "source": [
    "Trim the data to remove pre-equilibration samples"
   ]
  },
  {
   "cell_type": "code",
   "execution_count": null,
   "id": "bdbfac9c",
   "metadata": {},
   "outputs": [],
   "source": [
    "trimmed = data.loc[data.step>=equil]"
   ]
  },
  {
   "cell_type": "code",
   "execution_count": null,
   "id": "69d93129",
   "metadata": {},
   "outputs": [],
   "source": [
    "dG_f, dG_b = get_dG_fromData(trimmed, temperature)"
   ]
  },
  {
   "cell_type": "code",
   "execution_count": null,
   "id": "7adc22c0",
   "metadata": {},
   "outputs": [],
   "source": [
    "plt.plot(dG_f.index, dG_f, label='dG_fwd')\n",
    "plt.plot(dG_b.index, -dG_b, label='- dG_bwd')\n",
    "\n",
    "plt.title('Fwd and bwd free energy difference by lambda (exponential estimator)')\n",
    "plt.xlabel('Lambda')\n",
    "plt.ylabel('delta-G')\n",
    "plt.legend()\n",
    "plt.savefig(\"change_by_lambda_trimmed.png\", dpi=1200)"
   ]
  },
  {
   "cell_type": "code",
   "execution_count": null,
   "id": "c07ec483",
   "metadata": {},
   "outputs": [],
   "source": [
    "discrepancies = (dG_f + dG_b).dropna()\n",
    "plt.vlines(discrepancies.index, np.zeros(len(discrepancies)), discrepancies, label=\"fwd - bwd\", linewidth=3)\n",
    "\n",
    "plt.legend()\n",
    "plt.title('Fwd-bwd discrepancies by lambda')\n",
    "plt.xlabel('Lambda')\n",
    "plt.ylabel('Diff. in delta-G')\n",
    "plt.savefig(\"hysteresis_Exp_Nov30_trimmed.png\", dpi=1200)"
   ]
  },
  {
   "cell_type": "code",
   "execution_count": null,
   "id": "8de6d3c4",
   "metadata": {},
   "outputs": [],
   "source": [
    "plt.hist(discrepancies)\n",
    "plt.title('Distribution of Fwd-bwd discrepancies')\n",
    "plt.ylabel('count')\n",
    "plt.xlabel('ddG (kT)')\n",
    "plt.savefig(\"Distribution_of_discrepancies_trimmed.png\", dpi=1200)"
   ]
  },
  {
   "cell_type": "code",
   "execution_count": null,
   "id": "d2396d91",
   "metadata": {},
   "outputs": [],
   "source": [
    "print(f'The rough estimate for total dG (forward windows only) is: {np.sum(dG_f).round(2)}kT. The backward estimate is {-np.sum(dG_b).round(2)}kT')"
   ]
  },
  {
   "cell_type": "markdown",
   "id": "316d90ea",
   "metadata": {},
   "source": [
    "Plot dE distributions for EACH complete window (may take several minutes)"
   ]
  },
  {
   "cell_type": "code",
   "execution_count": null,
   "id": "26fa95ca",
   "metadata": {},
   "outputs": [],
   "source": [
    "#split into forward and backward values for each window\n",
    "backward = data.dE[~(data.up) * data.step>=equil].sort_index()*(-1)\n",
    "forward = data.dE[data.up * data.step>=equil].sort_index()\n",
    "print(f'equilibration Time: {equil}\\n backward: {backward.mean()}, forward: {forward.mean()}') "
   ]
  },
  {
   "cell_type": "code",
   "execution_count": null,
   "id": "6be8e93c",
   "metadata": {},
   "outputs": [],
   "source": [
    "import seaborn as sns"
   ]
  },
  {
   "cell_type": "code",
   "execution_count": null,
   "id": "be45703d",
   "metadata": {},
   "outputs": [],
   "source": [
    "completeWindows = np.sort(list(set(backward.index) & set(forward.index))) #those windows which have both forward and backward data"
   ]
  },
  {
   "cell_type": "code",
   "execution_count": null,
   "id": "0d4a35e9",
   "metadata": {},
   "outputs": [],
   "source": [
    "for i in completeWindows:\n",
    "    \n",
    "    # creating a figure composed of two matplotlib.Axes objects (ax_box and ax_hist)\n",
    "    f, (ax_box, ax_hist) = plt.subplots(2, sharex=True, gridspec_kw={\"height_ratios\": (.15, .85)})\n",
    "\n",
    "    # assigning a graph to each ax\n",
    "    tempDat = [forward.loc[i], backward.loc[i]]\n",
    "    \n",
    "    ax_box.boxplot(tempDat, vert=False)\n",
    "    ax_box.set_yticklabels([\"forward\", \"backward\"])\n",
    "    plt.title(f'[{np.round(i-0.004,3)} {np.round(i+0.004, 3)}]')\n",
    "    # Remove x axis name for the boxplot\n",
    "    ax_box.set(xlabel='')\n",
    "\n",
    "    sns.histplot(backward.loc[i], bins=50, label=\"backward\", ax=ax_hist);\n",
    "    sns.histplot(forward.loc[i], bins=50, label=\"forward\", ax=ax_hist, color=\"orange\");\n",
    "    \n",
    "    plt.legend()\n",
    "    plt.show()\n",
    "    #plt.savefig(f'./diagnosticPlots/dE_SmallerWindows{np.round(i,3)}.svg')\n",
    "    plt.clf()\n",
    "    plt.close()"
   ]
  }
 ],
 "metadata": {
  "kernelspec": {
   "display_name": "Python 3 (ipykernel)",
   "language": "python",
   "name": "python3"
  },
  "language_info": {
   "codemirror_mode": {
    "name": "ipython",
    "version": 3
   },
   "file_extension": ".py",
   "mimetype": "text/x-python",
   "name": "python",
   "nbconvert_exporter": "python",
   "pygments_lexer": "ipython3",
   "version": "3.9.5"
  }
 },
 "nbformat": 4,
 "nbformat_minor": 5
}
