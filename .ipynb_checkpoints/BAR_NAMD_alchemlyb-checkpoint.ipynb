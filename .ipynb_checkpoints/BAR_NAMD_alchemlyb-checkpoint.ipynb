{
 "cells": [
  {
   "cell_type": "code",
   "execution_count": null,
   "metadata": {},
   "outputs": [],
   "source": [
    "from glob import glob\n",
    "\n",
    "fepoutFiles = glob('../FEP_AllData/FirstAttempt/IDWS.fepout')\n",
    "temperature = 300\n",
    "RT = 0.00198720650096 * temperature\n",
    "\n",
    "print(f\"Will process {len(fepoutFiles)} fepout files.\")\n",
    "# print('\\n'.join(sorted(fepoutFiles)))"
   ]
  },
  {
   "cell_type": "code",
   "execution_count": null,
   "metadata": {},
   "outputs": [],
   "source": [
    "from alchemlyb.parsing import namd\n",
    "from alchemlyb.estimators import BAR\n",
    "import pandas as pd\n",
    "import matplotlib.pyplot as plt\n",
    "import numpy as np\n",
    "from alchemlyb.visualisation.dF_state import plot_dF_state"
   ]
  },
  {
   "cell_type": "code",
   "execution_count": null,
   "metadata": {},
   "outputs": [],
   "source": [
    "# USER PARAMETERS\n",
    "plt.rcParams['figure.dpi'] = 150\n"
   ]
  },
  {
   "cell_type": "code",
   "execution_count": null,
   "metadata": {},
   "outputs": [],
   "source": [
    "u_nk = namd.extract_u_nk(fepoutFiles, temperature)"
   ]
  },
  {
   "cell_type": "markdown",
   "metadata": {},
   "source": [
    "For Incomplete lambda schedules"
   ]
  },
  {
   "cell_type": "code",
   "execution_count": null,
   "metadata": {
    "jupyter": {
     "source_hidden": true
    },
    "tags": []
   },
   "outputs": [],
   "source": [
    "\n",
    "# up and down both start at L=0.5\n",
    "u_nk_up = namd.extract_u_nk('upIDWS.fepout', temperature);\n",
    "u_nk_down = namd.extract_u_nk('downIDWS.fepout', temperature);\n",
    "\n",
    "u_nk = (-1*u_nk_down).append(u_nk_up) #make both lambda schedules consistent (0 to 1)\n",
    "\n",
    "u_nk = u_nk.sort_index(level=1).sort_index(axis='columns') #sort the data so it can be interpreted by the BAR estimator\n",
    "\n",
    "u_nk=u_nk[u_nk.columns[1:-1]] #Remove the one-way windows at either end"
   ]
  },
  {
   "cell_type": "code",
   "execution_count": null,
   "metadata": {
    "tags": []
   },
   "outputs": [],
   "source": [
    "bar = BAR()\n",
    "bar.fit(u_nk)"
   ]
  },
  {
   "cell_type": "code",
   "execution_count": null,
   "metadata": {
    "tags": []
   },
   "outputs": [],
   "source": [
    "# Extract data for plotting\n",
    "states = bar.states_\n",
    "\n",
    "f = bar.delta_f_.iloc[0,:] # dataframe\n",
    "l = np.array([float(s) for s in states])\n",
    "# lambda midpoints for each window\n",
    "l_mid = 0.5*(l[1:] + l[:-1])\n",
    "\n",
    "# FE differences are off diagonal\n",
    "df = np.array([bar.delta_f_.iloc[i, i+1] for i in range(len(states)-1)])\n",
    "print(df.cumsum() * RT)\n",
    "\n",
    "# error estimates are too small because we use correlated data\n",
    "\n",
    "tau = 5e3 # expected correlation length of series\n",
    "\n",
    "# error estimates are off diagonal\n",
    "ddf = np.array([bar.d_delta_f_.iloc[i, i+1] for i in range(len(states)-1)]) * np.sqrt(tau)\n",
    "\n",
    "# Accumulate errors as sum of squares\n",
    "errors = np.array([np.sqrt((ddf[:i]**2).sum()) for i in range(len(states))])\n",
    "print(\"Errors\", errors)"
   ]
  },
  {
   "cell_type": "code",
   "execution_count": null,
   "metadata": {
    "tags": []
   },
   "outputs": [],
   "source": [
    "plt.errorbar(l, f, yerr=errors, marker='.')\n",
    "plt.xlabel('lambda')\n",
    "plt.ylabel('DeltaG(lambda) (kT)')\n",
    "plt.show()\n",
    "\n",
    "plt.errorbar(l_mid, df, yerr=ddf, marker='.')\n",
    "plt.xlabel('lambda')\n",
    "plt.ylabel('Delta G per window (kT)')\n",
    "plt.show()"
   ]
  },
  {
   "cell_type": "code",
   "execution_count": null,
   "metadata": {
    "tags": []
   },
   "outputs": [],
   "source": [
    "grouped = u_nk.groupby('fep-lambda')\n",
    "data_list = [grouped.get_group(s) for s in states]\n",
    "\n",
    "forward = []\n",
    "forward_error = []\n",
    "backward = []\n",
    "backward_error = []\n",
    "num_points = 10\n",
    "for i in range(1, num_points+1):\n",
    "    # forward\n",
    "    partial = pd.concat([data[:int(len(data)/num_points*i)] for data in data_list])\n",
    "    estimate = BAR().fit(partial)\n",
    "    forward.append(estimate.delta_f_.iloc[0,-1])\n",
    "    # For BAR, the error estimates are off-diagonal\n",
    "    ddf = [estimate.d_delta_f_.iloc[i+1,i] * np.sqrt(tau) for i in range(len(states)-1)]\n",
    "    error = np.sqrt((np.array(ddf)**2).sum())\n",
    "    forward_error.append(error)\n",
    "\n",
    "    # backward\n",
    "    partial = pd.concat([data[-int(len(data)/num_points*i):] for data in data_list])\n",
    "    estimate = BAR().fit(partial)\n",
    "    backward.append(estimate.delta_f_.iloc[0,-1])\n",
    "    ddf = [estimate.d_delta_f_.iloc[i+1,i] * np.sqrt(tau) for i in range(len(states)-1)]\n",
    "    error = np.sqrt((np.array(ddf)**2).sum())\n",
    "    backward_error.append(error)\n",
    "\n",
    "from alchemlyb.visualisation import plot_convergence\n",
    "ax = plot_convergence(forward, forward_error, backward, backward_error)\n",
    "# ax.set_ylim(-40, -36)"
   ]
  },
  {
   "cell_type": "code",
   "execution_count": null,
   "metadata": {},
   "outputs": [],
   "source": [
    "#the data frame is organized from index level 1 (fep-lambda) TO column\n",
    "#dG will be FROM column TO index\n",
    "groups = u_nk.groupby(level=1)\n",
    "dG=pd.DataFrame([])\n",
    "for name, group in groups:\n",
    "    dG[name] = np.log(np.mean(np.exp(-1*group)))\n",
    "    \n",
    "dG_f=np.diag(dG, k=1)\n",
    "dG_b=np.diag(dG, k=-1)\n",
    "\n",
    "l=dG.columns.to_list()\n",
    "l_mid = np.mean([l[1:],l[:-1]], axis=0)"
   ]
  },
  {
   "cell_type": "code",
   "execution_count": null,
   "metadata": {},
   "outputs": [],
   "source": [
    "plt.vlines(l_mid, np.zeros(len(l_mid)), dG_f + np.array(dG_b), label=\"fwd - bwd\", linewidth=3)\n",
    "\n",
    "plt.legend()\n",
    "plt.title('Fwd-bwd discrepancies by lambda')\n",
    "plt.xlabel('Lambda')\n",
    "plt.ylabel('Diff. in delta-G')"
   ]
  },
  {
   "cell_type": "code",
   "execution_count": null,
   "metadata": {},
   "outputs": [],
   "source": [
    "plt.hist(dG_f + np.array(dG_b));\n",
    "plt.title('Distribution of fwd-bwd discrepancies')\n",
    "plt.xlabel('Difference in delta-G')\n",
    "plt.ylabel('Count')"
   ]
  },
  {
   "cell_type": "code",
   "execution_count": null,
   "metadata": {},
   "outputs": [],
   "source": []
  },
  {
   "cell_type": "code",
   "execution_count": null,
   "metadata": {},
   "outputs": [],
   "source": []
  }
 ],
 "metadata": {
  "kernelspec": {
   "display_name": "Python 3 (ipykernel)",
   "language": "python",
   "name": "python3"
  },
  "language_info": {
   "codemirror_mode": {
    "name": "ipython",
    "version": 3
   },
   "file_extension": ".py",
   "mimetype": "text/x-python",
   "name": "python",
   "nbconvert_exporter": "python",
   "pygments_lexer": "ipython3",
   "version": "3.9.5"
  }
 },
 "nbformat": 4,
 "nbformat_minor": 4
}
