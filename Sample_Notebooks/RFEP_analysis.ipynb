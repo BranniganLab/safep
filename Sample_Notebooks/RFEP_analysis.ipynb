{
 "cells": [
  {
   "cell_type": "code",
   "execution_count": null,
   "metadata": {},
   "outputs": [],
   "source": [
    "%load_ext autoreload\n",
    "%autoreload 2\n",
    "\n",
    "import safep\n",
    "from glob import glob\n",
    "import re\n",
    "import numpy as np\n",
    "import pandas as pd\n",
    "import matplotlib.pyplot as plt\n",
    "import os"
   ]
  },
  {
   "cell_type": "code",
   "execution_count": null,
   "metadata": {},
   "outputs": [],
   "source": [
    "logfile = 'RFEP_decouple.log'"
   ]
  },
  {
   "cell_type": "code",
   "execution_count": null,
   "metadata": {},
   "outputs": [],
   "source": [
    "global_conf, colvars, biases, TI_traj = safep.parse_Colvars_log(logfile)\n",
    "for c in colvars:\n",
    "    print(c['name'])\n",
    "for b in biases:\n",
    "    print(b['name'])\n",
    "\n",
    "# Need to pick the right restraint if there are several\n",
    "# TODO look for moving harmonic wall, there should not be many - this can be done for each\n",
    "restraint_config = biases[0]\n",
    "rest_name = restraint_config['name']\n",
    "\n",
    "print(f'Processing TI data for restraint {rest_name}')\n",
    "\n",
    "\n",
    "path = os.path.dirname(logfile) # We assume the colvars traj and log are in the same directory\n",
    "\n",
    "if 'traj_file' in global_conf:\n",
    "    colvarsTraj = path + global_conf['traj_file']\n",
    "else:\n",
    "    colvarsTraj = path + global_conf['output_prefix'] + '.colvars.traj'"
   ]
  },
  {
   "cell_type": "code",
   "execution_count": null,
   "metadata": {},
   "outputs": [],
   "source": [
    "# Extract precomputed TI info from traj file\n",
    "dAdL = TI_traj[rest_name]['dAdL']\n",
    "lambdas =  TI_traj[rest_name]['L']\n",
    "dL = lambdas[1] - lambdas[0] # FIXME assumes uniform spacing\n",
    "if restraint_config['decoupling']: # lambdas are in reverse order\n",
    "    dAdL = dAdL[::-1]\n",
    "    lambdas = lambdas[::-1]"
   ]
  },
  {
   "cell_type": "code",
   "execution_count": null,
   "metadata": {},
   "outputs": [],
   "source": [
    "# Setup and processing of colvars data\n",
    "with open(colvarsTraj) as f:\n",
    "    first_line = f.readline()\n",
    "columns = re.split(' +', first_line)[1:-1]\n",
    "dataTI = pd.read_csv(colvarsTraj, delim_whitespace=True, names=columns, comment='#', index_col=0)\n",
    "\n",
    "# Process the harmonic wall restraint\n",
    "DBC_rest = safep.make_harmonicWall_from_Colvars(restraint_config)\n",
    "nLambdas = DBC_rest['numStages'] + 1\n",
    "n_equil = DBC_rest['targetEQ']\n",
    "cv =  DBC_rest['colvar']\n",
    "dataTI = dataTI.rename(columns={cv:'DBC'})\n",
    "\n",
    "if DBC_rest['schedule'] == []:\n",
    "    schedule = np.linspace(0, 1, nLambdas) \n",
    "else:\n",
    "    schedule = DBC_rest['schedule']\n",
    "\n",
    "dataTI = dataTI[dataTI.index>=n_equil][1:] # Remove first samples of each window from analysis\n",
    "dataTI.index = dataTI.index-n_equil\n",
    "\n",
    "Ls = (dataTI.index.values-1)//DBC_rest['numSteps']\n",
    "Ls[0] = 0\n",
    "Ls[Ls==41] = 40 # This is a small hack in case there are extra samples for the last window\n",
    "\n",
    "dataLs = np.round([schedule[i] for i in Ls], 3)\n",
    "dataTI.loc[:,'L'] = dataLs\n",
    "dataTI = dataTI.iloc[1:]\n",
    "\n",
    "TIperWindow, TIcumulative = safep.process_TI(dataTI, DBC_rest, None)"
   ]
  },
  {
   "cell_type": "code",
   "execution_count": null,
   "metadata": {},
   "outputs": [],
   "source": [
    "dG_DBC = np.round(TIcumulative['dG'][1], 1)\n",
    "error_DBC = np.round(TIcumulative['error'][1], 1)\n",
    "change_mkd_TI = f'\\u0394G<sub>DBC</sub> = {dG_DBC} kcal/mol'\n",
    "error_mkd_TI = f'Standard Deviation: {error_DBC} kcal/mol'\n",
    "print(change_mkd_TI, error_mkd_TI)"
   ]
  },
  {
   "cell_type": "code",
   "execution_count": null,
   "metadata": {},
   "outputs": [],
   "source": [
    "''' Plot the results. '''\n",
    "fig, axes = safep.plot_TI(TIcumulative, TIperWindow, fontsize=20)\n",
    "axes[1].plot(1-np.array(lambdas), np.array(dAdL)*dL, marker='o', label='Colvars internal dAdlambda', color='red')\n",
    "axes[1].legend()\n",
    "plt.show()"
   ]
  },
  {
   "cell_type": "code",
   "execution_count": null,
   "metadata": {},
   "outputs": [],
   "source": []
  }
 ],
 "metadata": {
  "kernelspec": {
   "display_name": "safep",
   "language": "python",
   "name": "python3"
  },
  "language_info": {
   "codemirror_mode": {
    "name": "ipython",
    "version": 3
   },
   "file_extension": ".py",
   "mimetype": "text/x-python",
   "name": "python",
   "nbconvert_exporter": "python",
   "pygments_lexer": "ipython3",
   "version": "3.13.1"
  }
 },
 "nbformat": 4,
 "nbformat_minor": 2
}
