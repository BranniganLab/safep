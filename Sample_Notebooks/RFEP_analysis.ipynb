{
 "cells": [
  {
   "cell_type": "code",
   "execution_count": null,
   "metadata": {},
   "outputs": [],
   "source": [
    "import safep\n",
    "from glob import glob\n",
    "import re\n",
    "import numpy as np\n",
    "import pandas as pd\n",
    "import matplotlib.pyplot as plt"
   ]
  },
  {
   "cell_type": "code",
   "execution_count": null,
   "metadata": {},
   "outputs": [],
   "source": [
    "logfile = 'RFEP_decouple.log'\n",
    "colvarsTraj = 'RFEP_decouple.colvars.traj'\n",
    "\n",
    "global_conf, colvars, biases = safep.parse_Colvars_log(logfile)\n",
    "for c in colvars:\n",
    "    print(c['name'])\n",
    "for b in biases:\n",
    "    print(b['name'])\n",
    "\n",
    "# Need to pick the right restraint if there are several\n",
    "restraint_config = biases[0]"
   ]
  },
  {
   "cell_type": "code",
   "execution_count": null,
   "metadata": {},
   "outputs": [],
   "source": [
    "# Setup and processing of colvars data\n",
    "with open(colvarsTraj) as f:\n",
    "    first_line = f.readline()\n",
    "columns = re.split(' +', first_line)[1:-1]\n",
    "dataTI = pd.read_csv(colvarsTraj, delim_whitespace=True, names=columns, comment='#', index_col=0)\n",
    "\n",
    "# Process the harmonic wall restraint\n",
    "DBC_rest = safep.make_harmonicWall_from_Colvars(restraint_config)\n",
    "nLambdas = DBC_rest['numStages'] + 1\n",
    "n_equil = DBC_rest['targetEQ']\n",
    "cv =  DBC_rest['colvar']\n",
    "dataTI = dataTI.rename(columns={cv:'DBC'})\n",
    "\n",
    "if DBC_rest['schedule'] == []:\n",
    "    schedule = np.linspace(0, 1, nLambdas) \n",
    "else:\n",
    "    schedule = DBC_rest['schedule']\n",
    "\n",
    "dataTI = dataTI[dataTI.index>=n_equil][1:] # Remove first samples of each window from analysis\n",
    "dataTI.index = dataTI.index-n_equil\n",
    "\n",
    "Ls = (dataTI.index.values-1)//DBC_rest['numSteps']\n",
    "Ls[0] = 0\n",
    "Ls[Ls==41] = 40 # This is a small hack in case there are extra samples for the last window\n",
    "\n",
    "dataLs = np.round([schedule[i] for i in Ls], 3)\n",
    "dataTI.loc[:,'L'] = dataLs\n",
    "dataTI = dataTI.iloc[1:]\n",
    "\n",
    "TIperWindow, TIcumulative = safep.process_TI(dataTI, DBC_rest, None)"
   ]
  },
  {
   "cell_type": "code",
   "execution_count": null,
   "metadata": {},
   "outputs": [],
   "source": [
    "dG_DBC = np.round(TIcumulative['dG'][1], 1)\n",
    "error_DBC = np.round(TIcumulative['error'][1], 1)\n",
    "change_mkd_TI = f'\\u0394G<sub>DBC</sub> = {dG_DBC} kcal/mol'\n",
    "error_mkd_TI = f'Standard Deviation: {error_DBC} kcal/mol'\n",
    "print(change_mkd_TI, error_mkd_TI)"
   ]
  },
  {
   "cell_type": "code",
   "execution_count": null,
   "metadata": {},
   "outputs": [],
   "source": [
    "''' Plot the results. '''\n",
    "fig, axes = safep.plot_TI(TIcumulative, TIperWindow, fontsize=20)\n",
    "plt.show()"
   ]
  },
  {
   "cell_type": "code",
   "execution_count": null,
   "metadata": {},
   "outputs": [],
   "source": []
  }
 ],
 "metadata": {
  "kernelspec": {
   "display_name": "safep",
   "language": "python",
   "name": "python3"
  },
  "language_info": {
   "codemirror_mode": {
    "name": "ipython",
    "version": 3
   },
   "file_extension": ".py",
   "mimetype": "text/x-python",
   "name": "python",
   "nbconvert_exporter": "python",
   "pygments_lexer": "ipython3",
   "version": "3.12.3"
  }
 },
 "nbformat": 4,
 "nbformat_minor": 2
}
