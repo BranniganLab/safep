{
 "cells": [
  {
   "cell_type": "code",
   "execution_count": null,
   "metadata": {},
   "outputs": [],
   "source": [
    "%load_ext autoreload\n",
    "%autoreload 2\n",
    "\n",
    "import safep\n",
    "from glob import glob\n",
    "import re\n",
    "import numpy as np\n",
    "import pandas as pd\n",
    "import matplotlib.pyplot as plt\n",
    "import os"
   ]
  },
  {
   "cell_type": "code",
   "execution_count": 2,
   "metadata": {},
   "outputs": [],
   "source": [
    "# This should be the only user parameter we need\n",
    "logfile = 'RFEP_decouple.log'\n",
    "\n",
    "# Everything is automated and generic below this"
   ]
  },
  {
   "cell_type": "code",
   "execution_count": null,
   "metadata": {},
   "outputs": [],
   "source": [
    "global_conf, colvars, biases, TI_traj = safep.parse_Colvars_log(logfile)\n",
    "\n",
    "\n",
    "# Need to pick the right restraint if there are several\n",
    "# TODO look for harmonic wall with changing k\n",
    "\n",
    "for b in biases:\n",
    "    if float(b['targetForceConstant']) >= 0 or b['decoupling'] in ['on', 'yes', 'true']:\n",
    "        restraint_config = b\n",
    "        break\n",
    "\n",
    "rest_name = restraint_config['name']\n",
    "cvs = restraint_config['colvars']\n",
    "\n",
    "print(f'Processing TI data for restraint {rest_name} on CVs {cvs}')\n",
    "\n",
    "\n",
    "path = os.path.dirname(logfile) # We assume the colvars traj and log are in the same directory\n",
    "\n",
    "if 'traj_file' in global_conf:\n",
    "    colvarsTraj = path + global_conf['traj_file']\n",
    "else:\n",
    "    colvarsTraj = path + global_conf['output_prefix'] + '.colvars.traj'"
   ]
  },
  {
   "cell_type": "code",
   "execution_count": 4,
   "metadata": {},
   "outputs": [],
   "source": [
    "# Extract precomputed TI info from traj file\n",
    "dAdL = TI_traj[rest_name]['dAdL']\n",
    "lambdas =  TI_traj[rest_name]['L']\n",
    "\n",
    "# if lambdaExponent >=2, set a zero derivative for lambda=0 (might be NaN in the data)\n",
    "if int(restraint_config['lambdaExponent']) >= 2 and np.isnan(dAdL[-1]):\n",
    "    dAdL[-1] = 0.0\n",
    "\n",
    "if restraint_config['decoupling']: # lambdas have opposite meaning\n",
    "    # Convert to coupling\n",
    "    dAdL = - np.array(dAdL)\n",
    "    lambdas = 1.0 - np.array(lambdas)\n"
   ]
  },
  {
   "cell_type": "code",
   "execution_count": null,
   "metadata": {},
   "outputs": [],
   "source": [
    "# Setup and processing of colvars data\n",
    "with open(colvarsTraj) as f:\n",
    "    first_line = f.readline()\n",
    "columns = re.split(' +', first_line)[1:-1]\n",
    "\n",
    "# trajectory could be read using colvartools (read multiple files etc)\n",
    "# this might fail if vector variables are present\n",
    "dataTI = pd.read_csv(colvarsTraj, delim_whitespace=True, names=columns, comment='#', index_col=0) \n",
    "\n",
    "# Process the harmonic wall restraint\n",
    "DBC_rest = safep.make_harmonicWall_from_Colvars(restraint_config)\n",
    "\n",
    "# We could also take a user parameter to adjust this in post-processing, or do equilibration detection\n",
    "n_equil = DBC_rest['targetEquilSteps']\n",
    "\n",
    "cv =  DBC_rest['colvar']\n",
    "dataTI = dataTI.rename(columns={cv:'DBC'})\n",
    "\n",
    "schedule = DBC_rest['lambdaSchedule']\n",
    "\n",
    "dataTI = dataTI[dataTI.index>=n_equil][1:] # Remove first samples of each window from analysis\n",
    "dataTI.index = dataTI.index-n_equil\n",
    "\n",
    "Ls = (dataTI.index.values-1)//DBC_rest['targetNumSteps']\n",
    "\n",
    "dataLs = np.round([schedule[i] for i in Ls], 3)\n",
    "dataTI.loc[:,'L'] = dataLs\n",
    "dataTI = dataTI.iloc[1:]\n",
    "\n",
    "TIperWindow, TIcumulative = safep.process_TI(dataTI, DBC_rest, None)"
   ]
  },
  {
   "cell_type": "code",
   "execution_count": null,
   "metadata": {},
   "outputs": [],
   "source": [
    "dG_DBC = np.round(TIcumulative['dG'][1], 1)\n",
    "error_DBC = np.round(TIcumulative['error'][1], 1)\n",
    "\n",
    "print(f'ΔG_DBC = {dG_DBC} kcal/mol')\n",
    "print(f'Standard Deviation: {error_DBC} kcal/mol')\n"
   ]
  },
  {
   "cell_type": "code",
   "execution_count": null,
   "metadata": {},
   "outputs": [],
   "source": [
    "''' Plot the results. '''\n",
    "fig, axes = safep.plot_TI(TIcumulative, TIperWindow, fontsize=20)\n",
    "# This plot \n",
    "axes[1].plot(lambdas, np.array(dAdL), marker='o', label='Colvars internal dA/dlambda', color='red')\n",
    "axes[1].legend()\n",
    "plt.show()"
   ]
  },
  {
   "cell_type": "code",
   "execution_count": null,
   "metadata": {},
   "outputs": [],
   "source": []
  }
 ],
 "metadata": {
  "kernelspec": {
   "display_name": "safep",
   "language": "python",
   "name": "python3"
  },
  "language_info": {
   "codemirror_mode": {
    "name": "ipython",
    "version": 3
   },
   "file_extension": ".py",
   "mimetype": "text/x-python",
   "name": "python",
   "nbconvert_exporter": "python",
   "pygments_lexer": "ipython3",
   "version": "3.12.3"
  }
 },
 "nbformat": 4,
 "nbformat_minor": 2
}
