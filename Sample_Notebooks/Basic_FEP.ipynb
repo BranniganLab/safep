{
 "cells": [
  {
   "cell_type": "markdown",
   "id": "3313f57d-9f77-43d0-bb72-d697a8422272",
   "metadata": {},
   "source": [
    "# Basic FEP Processing"
   ]
  },
  {
   "cell_type": "markdown",
   "id": "164b7c6d-70c2-4329-9748-dae169d68d7f",
   "metadata": {},
   "source": [
    "## Imports and constants"
   ]
  },
  {
   "cell_type": "code",
   "execution_count": null,
   "id": "31f9d34e-e862-4bc6-aa1f-1a306e1b01d5",
   "metadata": {},
   "outputs": [],
   "source": [
    "import safep\n",
    "#import alchemlyb\n",
    "from glob import glob\n",
    "import numpy as np\n",
    "import pandas as pd\n",
    "import matplotlib.pyplot as plt\n",
    "from alchemlyb.parsing import namd\n",
    "from IPython.display import display, Markdown\n",
    "from scipy.stats import gaussian_kde\n",
    "\n",
    "from scipy.constants import R\n",
    "from scipy.constants import calorie\n",
    "kcal = calorie*1000\n",
    "\n",
    "import warnings\n",
    "warnings.simplefilter(action='ignore', category=FutureWarning)"
   ]
  },
  {
   "cell_type": "markdown",
   "id": "507e9767-a415-4702-93ea-83778ceffa48",
   "metadata": {},
   "source": [
    "## Plotting function definitions (hidden by default)"
   ]
  },
  {
   "cell_type": "code",
   "execution_count": null,
   "id": "a151afc5-a3c1-4283-a78e-e73f3e87f1d0",
   "metadata": {
    "jupyter": {
     "source_hidden": true
    },
    "tags": []
   },
   "outputs": [],
   "source": [
    "# Plotting function definitions\n",
    "\n",
    "def plot_general(cumulative, cumulativeYlim, perWindow, perWindowYlim, RT, width=8, height=4, PDFtype='KDE', fontsize=12):\n",
    "    fig, axes = plt.subplots(3,2, sharex='col', sharey='row', gridspec_kw={'width_ratios': [2, 1]})\n",
    "    ((cumAx, del1),( eachAx, del2), (hystAx, pdfAx)) = axes\n",
    "\n",
    "    fig.delaxes(del1)\n",
    "    fig.delaxes(del2)\n",
    "\n",
    "    # Cumulative change in kcal/mol\n",
    "    cumAx.errorbar(cumulative.index, cumulative.BAR.f*RT, yerr=cumulative.BAR.errors, marker=None, linewidth=1)\n",
    "    cumAx.set(ylabel=r'Cumulative $\\mathrm{\\Delta} G_{\\lambda}$'+'\\n(kcal/mol)', ylim=cumulativeYlim)\n",
    "\n",
    "    # Per-window change in kcal/mol\n",
    "    eachAx.errorbar(perWindow.index, perWindow.BAR.df*RT, yerr=perWindow.BAR.ddf, marker=None, linewidth=1)\n",
    "    eachAx.plot(perWindow.index, perWindow.EXP.dG_f*RT, marker=None, linewidth=1, alpha=0.5)\n",
    "    eachAx.errorbar(perWindow.index, -perWindow.EXP.dG_b*RT, marker=None, linewidth=1, alpha=0.5)\n",
    "    eachAx.set(ylabel=r'$\\mathrm{\\Delta} G_\\lambda$'+'\\n'+r'$\\left(kcal/mol\\right)$', ylim=perWindowYlim)\n",
    "\n",
    "    #Hysteresis Plots\n",
    "    diff = perWindow.EXP['difference']\n",
    "    hystAx.vlines(perWindow.index, np.zeros(len(perWindow)), diff, label=\"fwd - bwd\", linewidth=2)\n",
    "    hystAx.set(ylabel=r'$\\delta_\\lambda$ (kcal/mol)', ylim=(-1,1))\n",
    "    hystAx.set_xlabel(xlabel=r'$\\lambda$', fontsize=fontsize)\n",
    "    \n",
    "    if PDFtype=='KDE':\n",
    "        kernel = gaussian_kde(diff)\n",
    "        pdfX = np.linspace(-1, 1, 1000)\n",
    "        pdfY = kernel(pdfX)\n",
    "        pdfAx.plot(pdfY, pdfX, label='KDE')\n",
    "    elif PDFtype=='Histogram':\n",
    "        pdfY, pdfX = np.histogram(diff, density=True)\n",
    "        pdfX = pdfX[:-1]+(pdfX[1]-pdfX[0])/2\n",
    "        pdfAx.plot(pdfY, pdfX,  label=\"Estimated Distribution\")\n",
    "    else:\n",
    "        raise(f\"Error: PDFtype {PDFtype} not recognized\")\n",
    "    \n",
    "    pdfAx.set_xlabel(PDFtype, fontsize=fontsize)\n",
    "\n",
    "    std = np.std(diff)\n",
    "    mean = np.average(diff)\n",
    "    temp = pd.Series(pdfY, index=pdfX)\n",
    "    mode = temp.idxmax()\n",
    "    \n",
    "    textstr = r\"$\\rm mode=$\"+f\"{np.round(mode,2)}\"+\"\\n\"+fr\"$\\mu$={np.round(mean,2)}\"+\"\\n\"+fr\"$\\sigma$={np.round(std,2)}\"\n",
    "    props = dict(boxstyle='square', facecolor='white', alpha=0.5)\n",
    "    pdfAx.text(0.15, 0.95, textstr, transform=pdfAx.transAxes, fontsize=14,\n",
    "            verticalalignment='top', bbox=props)\n",
    "\n",
    "    fig.set_figwidth(width)\n",
    "    fig.set_figheight(height*3)\n",
    "    fig.tight_layout()\n",
    "    \n",
    "    for ax in [cumAx,eachAx,hystAx,pdfAx]:\n",
    "        ax.set_ylabel(ax.get_ylabel(), fontsize=fontsize)\n",
    "\n",
    "    return fig, [cumAx,eachAx,hystAx,pdfAx] \n",
    "\n",
    "def convergence_plot(theax, fs, ferr, bs, berr, fwdColor='#0072B2', bwdColor='#D55E00', lgndF=None, lgndB=None, fontsize=12):\n",
    "    '''\n",
    "    Convergence plot. Does the convergence calculation and plotting.\n",
    "    Arguments: u_nk, tau (an error tuning factor), units (kT or kcal/mol), RT\n",
    "    Returns: a pyplot\n",
    "    '''\n",
    "    if not lgndF:\n",
    "        lgndF=fwdColor\n",
    "        lgndB=bwdColor\n",
    "        \n",
    "        \n",
    "    lower = fs[-1]-ferr[-1]\n",
    "    upper = fs[-1]+ferr[-1]\n",
    "    theax.fill_between([0,1],[lower, lower], [upper, upper], color=bwdColor, alpha=0.25)\n",
    "    theax.errorbar(np.arange(len(fs))/len(fs)+0.1, fs, yerr=ferr, marker='o', linewidth=1, color=fwdColor, markerfacecolor='white', markeredgewidth=1, markeredgecolor=fwdColor, ms=5)\n",
    "    theax.errorbar(np.arange(len(bs))/len(fs)+0.1, bs, yerr=berr, marker='o', linewidth=1, color=bwdColor, markerfacecolor='white', markeredgewidth=1, markeredgecolor=bwdColor, ms=5, linestyle='--')\n",
    "\n",
    "    theax.xaxis.set_ticks([0, 0.2, 0.4, 0.6, 0.8, 1])\n",
    "    \n",
    "    finalMean = fs[-1]\n",
    "    theax.axhline(y= finalMean, linestyle='-.', color='gray')\n",
    "    theax.set_ylim((finalMean-0.75, finalMean+0.75))\n",
    "    \n",
    "    theax.plot(0, finalMean, linewidth=1, color=lgndF, label='Forward Time Sampling')\n",
    "    theax.plot(0, finalMean, linewidth=1, color=lgndB, linestyle='--', label='Backward Time Sampling')\n",
    "    theax.set_xlabel('Fraction of Simulation Time', fontsize=fontsize)\n",
    "    theax.set_ylabel(r'Total $\\mathrm{\\Delta} G$ (kcal/mol)', fontsize=fontsize)\n",
    "    theax.legend()\n",
    "    return theax"
   ]
  },
  {
   "cell_type": "markdown",
   "id": "7fad67e5-1d94-4ac2-b258-94265a85ac52",
   "metadata": {
    "tags": []
   },
   "source": [
    "## User parameters"
   ]
  },
  {
   "cell_type": "code",
   "execution_count": null,
   "id": "db586f67-4160-4cb2-9550-81d6f91d92fe",
   "metadata": {},
   "outputs": [],
   "source": [
    "path='/path/to/data'\n",
    "filename='*.fepout'\n",
    "\n",
    "temperature = 303.15 #in Kelvin\n",
    "RT = (R/kcal) * temperature\n",
    "\n",
    "decorrelate = True #Flag for decorrelation of samples\n",
    "detectEQ = True #Flag for automated equilibrium detection\n",
    "\n",
    "fepoutFiles = glob(path+filename)"
   ]
  },
  {
   "cell_type": "code",
   "execution_count": null,
   "id": "3b596c43-214e-41de-a728-65b49a54da1a",
   "metadata": {},
   "outputs": [],
   "source": [
    "u_nk = safep.read_and_process(fepoutFiles, temperature, decorrelate, detectEQ)"
   ]
  },
  {
   "cell_type": "markdown",
   "id": "733bb0c9-f610-4618-a4a3-152cfd2835e2",
   "metadata": {
    "tags": []
   },
   "source": [
    "## Do the BAR fitting and get ΔG\n",
    "**Note: alchemlyb operates in units of kT by default. We multiply by RT to convert to units of kcal/mol.**"
   ]
  },
  {
   "cell_type": "code",
   "execution_count": null,
   "id": "1a2ee05f-a8a6-4f1b-8ebb-190e89f2fe40",
   "metadata": {},
   "outputs": [],
   "source": [
    "perWindow, cumulative = safep.do_estimation(u_nk) #Run the BAR estimator on the fep data\n",
    "forward, forward_error, backward, backward_error = safep.do_convergence(u_nk) #Used later in the convergence plot'\n",
    "per_lambda_convergence = safep.do_per_lambda_convergence(u_nk)"
   ]
  },
  {
   "cell_type": "code",
   "execution_count": null,
   "id": "c3045c81-9680-40ed-b7fc-474f0d315402",
   "metadata": {},
   "outputs": [],
   "source": [
    "dG = np.round(cumulative.BAR.f.iloc[-1]*RT, 1)\n",
    "error = np.round(cumulative.BAR.errors.iloc[-1]*RT, 1)\n",
    "\n",
    "changeAndError = f'\\u0394G = {dG}\\u00B1{error} kcal/mol'\n",
    "Markdown('<font size=5>{}</font><br/>'.format(changeAndError))"
   ]
  },
  {
   "cell_type": "markdown",
   "id": "d7785e45-4a7e-4d60-bb93-ade5a3e2b5ac",
   "metadata": {},
   "source": [
    "## Generate Plots \n",
    "- General plots:\n",
    "Cumulative and per-window delta G.\n",
    "- Convergence plots: \n",
    "Plot the estimated total change in free energy as a function of simulation time; contiguous subsets starting at t=0 (\"Forward\") and t=end (\"Reverse\")\n",
    "- Per-window Convergence:\n",
    "Difference between BAR estimates using first and last halves of the samples (with respect to simulation time)"
   ]
  },
  {
   "cell_type": "code",
   "execution_count": null,
   "id": "9171458d-af09-4e23-aa76-a59d04cd7aa9",
   "metadata": {},
   "outputs": [],
   "source": [
    "fig, axes = plot_general(cumulative, None, perWindow, None, RT)\n",
    "fig.suptitle(changeAndError)\n",
    "plt.savefig(f'{path}FEP_general_figures.pdf')"
   ]
  },
  {
   "cell_type": "code",
   "execution_count": null,
   "id": "06b4695b-0328-4816-8a9b-b9dede5bc404",
   "metadata": {},
   "outputs": [],
   "source": [
    "fig, convAx = plt.subplots(1,1)\n",
    "convAx = convergence_plot(convAx, forward*RT, forward_error*RT, backward*RT, backward_error*RT)\n",
    "plt.savefig(f'{path}FEP_convergence.pdf')"
   ]
  },
  {
   "cell_type": "code",
   "execution_count": null,
   "id": "93c17bf1-eed3-4d00-8fad-60e5171171c7",
   "metadata": {},
   "outputs": [],
   "source": [
    "fig, ax = plt.subplots()\n",
    "ax.errorbar(per_lambda_convergence.index, per_lambda_convergence.BAR.df*RT)\n",
    "ax.set_xlabel(r\"$\\lambda$\")\n",
    "ax.set_ylabel(r\"$D_{last-first}$ (kcal/mol)\")\n",
    "plt.savefig(f\"{path}FEP_perLambda_convergence.pdf\")"
   ]
  }
 ],
 "metadata": {
  "kernelspec": {
   "display_name": "Python 3 (ipykernel)",
   "language": "python",
   "name": "python3"
  },
  "language_info": {
   "codemirror_mode": {
    "name": "ipython",
    "version": 3
   },
   "file_extension": ".py",
   "mimetype": "text/x-python",
   "name": "python",
   "nbconvert_exporter": "python",
   "pygments_lexer": "ipython3",
   "version": "3.9.12"
  }
 },
 "nbformat": 4,
 "nbformat_minor": 5
}
