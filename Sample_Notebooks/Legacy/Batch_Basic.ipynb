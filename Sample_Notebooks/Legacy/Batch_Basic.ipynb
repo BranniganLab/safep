{
 "cells": [
  {
   "cell_type": "markdown",
   "id": "fd0bd302",
   "metadata": {},
   "source": [
    "# Import necessary libraries\n",
    "SAFEP_parse.py contains all the functions and library calls necessary to run the notebook\n",
    "# Required libraries:\n",
    "- numpy\n",
    "- pandas\n",
    "- matplotlib\n",
    "- alchemlyb (pip install git+https://github.com/alchemistry/alchemlyb)\n",
    "- natsort (for sorting file names)\n",
    "- glob (for unix-like file paths)\n",
    "\n"
   ]
  },
  {
   "cell_type": "markdown",
   "id": "28c611cf-9400-4bbe-b8c1-fe4b8d66ab73",
   "metadata": {},
   "source": [
    "# IMPORTANT: Make sure the temperature (set below) matches the temperature you used to run the simulations."
   ]
  },
  {
   "cell_type": "code",
   "execution_count": null,
   "id": "708b4d0d",
   "metadata": {},
   "outputs": [],
   "source": [
    "from AFEP_parse import *\n",
    "plt.rcParams['figure.dpi'] = 150"
   ]
  },
  {
   "cell_type": "code",
   "execution_count": null,
   "id": "dfb3aa52-17f1-44fc-afd8-dfda2787cf32",
   "metadata": {},
   "outputs": [],
   "source": [
    "def batchProcess(paths, RT):\n",
    "    u_nks = {}\n",
    "    affixes = {}\n",
    "\n",
    "    #Read all\n",
    "    for path in paths:\n",
    "        print(f\"Reading {path}\")\n",
    "        key = path.split('/')[-2]\n",
    "        fepoutFiles = glob(path+'/'+pattern)\n",
    "        u_nks[key], affix = readAndProcess(fepoutFiles, temperature, decorrelate, detectEQ)\n",
    "\n",
    "\n",
    "    ls = {}\n",
    "    l_mids = {}\n",
    "    fs = {}\n",
    "    dfs = {}\n",
    "    ddfs = {}\n",
    "    errorses = {}\n",
    "    dG_fs = {}\n",
    "    dG_bs = {}\n",
    "\n",
    "    #do BAR fitting\n",
    "    for key in u_nks:\n",
    "        u_nk = u_nks[key]\n",
    "        u_nk = u_nk.sort_index(level=1)\n",
    "        bar = BAR()\n",
    "        bar.fit(u_nk)\n",
    "        ls[key], l_mids[key], fs[key], dfs[key], ddfs[key], errorses[key] = get_BAR(bar)\n",
    "        \n",
    "        expl, expmid, dG_fs[key], dG_bs[key] = get_EXP(u_nk)\n",
    "\n",
    "    #Collect into dataframes - could be more pythonic but it works\n",
    "    cumulative = pd.DataFrame()\n",
    "    for key in ls:\n",
    "        #cumulative[(key, 'l')] = ls[key]\n",
    "        cumulative[(key, 'f')] = fs[key]\n",
    "        cumulative[(key, 'errors')] = errorses[key]\n",
    "    cumulative.columns = pd.MultiIndex.from_tuples(cumulative.columns)\n",
    "\n",
    "    perWindow = pd.DataFrame()\n",
    "    for key in ls:\n",
    "        #perWindow[(key, 'l_mid')] = l_mids[key]\n",
    "        perWindow[(key, 'df')] = dfs[key]\n",
    "        perWindow[(key, 'ddf')] = ddfs[key]\n",
    "        perWindow[(key, 'dG_f')] = dG_fs[key]\n",
    "        perWindow[(key, 'dG_b')] = dG_bs[key]\n",
    "    perWindow.columns = pd.MultiIndex.from_tuples(perWindow.columns)\n",
    "    perWindow.index = l_mids[key]\n",
    "    \n",
    "    return u_nks, cumulative, perWindow, affix"
   ]
  },
  {
   "cell_type": "code",
   "execution_count": null,
   "id": "210c2d50",
   "metadata": {},
   "outputs": [],
   "source": [
    "root = '/home/ems363/Documents/ELIC_DCDs_Analyses/ELIC5/HeninVJoseph/PCPG/'\n",
    "pattern = 'pctopg*fepout'\n",
    "prefix= 'pctopg6'\n",
    "paths = [f'/home/ems363/Documents/ELIC_DCDs_Analyses/ELIC5/HeninVJoseph/PCPG/Joseph/', f'/home/ems363/Documents/ELIC_DCDs_Analyses/ELIC5/HeninVJoseph/PCPG/Henin/']\n",
    "header = 'PC:PG 3:1'"
   ]
  },
  {
   "cell_type": "code",
   "execution_count": null,
   "id": "8f690f64-6bef-4e59-a9b3-6d2432ffa0e3",
   "metadata": {},
   "outputs": [],
   "source": [
    "temperature = 303.15\n",
    "RT = 0.00198720650096 * temperature # ca. 0.59kcal/mol\n",
    "decorrelate = False #Flag for decorrelation of samples\n",
    "detectEQ = False #Flag for automated equilibrium detection\n",
    "DiscrepancyFitting = 'LS' #ML = fit PDF of discrepancies with a normal distribution maximum likelihood estimator. LS = fit CDF of discrepancies with a normal distribution least-squares estimator"
   ]
  },
  {
   "cell_type": "code",
   "execution_count": null,
   "id": "b7b04d2d-2fce-4651-8bf8-4586dd516b61",
   "metadata": {},
   "outputs": [],
   "source": [
    "u_nks, cumulative, perWindow, affix = batchProcess(paths, RT)"
   ]
  },
  {
   "cell_type": "code",
   "execution_count": null,
   "id": "1977e96e-1235-40f6-b2ba-333187816e95",
   "metadata": {},
   "outputs": [],
   "source": [
    "perWindow[('mean', 'df')] = np.mean(perWindow.loc[:, (slice(None), 'df')], axis=1)\n",
    "perWindow[('mean', 'ddf')] = np.mean(perWindow.loc[:, (slice(None), 'ddf')], axis=1)\n",
    "perWindow[('mean', 'dG_f')] = np.mean(perWindow.loc[:, (slice(None), 'dG_f')], axis=1)\n",
    "perWindow[('mean', 'dG_b')] = np.mean(perWindow.loc[:, (slice(None), 'dG_b')], axis=1)"
   ]
  },
  {
   "cell_type": "code",
   "execution_count": null,
   "id": "a5457f51-7ae5-45af-abbc-e980aed08650",
   "metadata": {},
   "outputs": [],
   "source": [
    "l0s = list(set(perWindow.columns.get_level_values(0)))\n",
    "for key in l0s:\n",
    "    perWindow[(key, 'diff')] = perWindow[(key, 'dG_f')]+perWindow[(key, 'dG_b')]"
   ]
  },
  {
   "cell_type": "code",
   "execution_count": null,
   "id": "074c8c44-b42d-4227-9c0a-c7624fada468",
   "metadata": {},
   "outputs": [],
   "source": [
    "cumulative.loc[1, :]"
   ]
  },
  {
   "cell_type": "markdown",
   "id": "a51aba3b",
   "metadata": {
    "tags": []
   },
   "source": [
    "# Plot the change in free energy based on MBAR estimates"
   ]
  },
  {
   "cell_type": "code",
   "execution_count": null,
   "id": "7d32c0cd-21ea-4311-8427-3dd2f9699358",
   "metadata": {},
   "outputs": [],
   "source": [
    "# Cumulative change in kT\n",
    "keys = set(cumulative.columns.get_level_values(0))\n",
    "for key in keys:\n",
    "    plt.errorbar(cumulative.index, cumulative[(key, 'f')], yerr=cumulative[(key, 'errors')], marker='.', label=key)\n",
    "    plt.xlabel('lambda')\n",
    "    plt.ylabel('DeltaG(lambda) (kT)')\n",
    "    plt.legend()\n",
    "    plt.title(f'Cumulative dGs for {header}')\n",
    "plt.savefig(f\"{root}/{prefix}_cumulative_{affix}.png\", dpi=600)"
   ]
  },
  {
   "cell_type": "code",
   "execution_count": null,
   "id": "90cd755a-10fa-40a2-a9b1-a806a0f105d7",
   "metadata": {},
   "outputs": [],
   "source": [
    "# Per-window change in kT\n",
    "\n",
    "keys = set(cumulative.columns.get_level_values(0))\n",
    "for key in keys:\n",
    "    plt.errorbar(perWindow.index, perWindow[(key, 'df')], yerr=perWindow[(key, 'ddf')], label=key, linewidth=1)\n",
    "    plt.xlabel('lambda')\n",
    "    plt.ylabel('Delta G per window (kT)')\n",
    "    plt.legend()\n",
    "    plt.title(f'Per window dGs for {header}')\n",
    "    #plt.title(f'Cumulative dG with accumulated errors {affixes[0]}\\n{changeAndError}')\n",
    "plt.savefig(f\"{root}/{prefix}_perWindow_{affix}.png\", dpi=600)"
   ]
  },
  {
   "cell_type": "code",
   "execution_count": null,
   "id": "29bb6fdd-28b0-4df7-afb3-5a9f9ea11ce2",
   "metadata": {},
   "outputs": [],
   "source": [
    "keys = list(set(cumulative.columns.get_level_values(0)))\n",
    "\n",
    "\n",
    "for key in keys:\n",
    "    plt.errorbar(perWindow.index, perWindow[(key, 'df')]-perWindow[('mean', 'df')], yerr=np.sqrt(perWindow[('mean', 'ddf')]**2 + perWindow[(key, 'ddf')]**2), label=key)\n",
    "plt.xlabel('lambda')\n",
    "plt.ylabel('Delta G per window (kT)')\n",
    "plt.axhline(0, linestyle='--', color='grey', label='mean')\n",
    "plt.legend(ncol=2)\n",
    "plt.title(f'Distribution of dGs for {header}')\n",
    "plt.savefig(f\"{root}/{prefix}_perWindow_diff_{affix}.png\", dpi=600)"
   ]
  },
  {
   "cell_type": "markdown",
   "id": "9b6709db",
   "metadata": {
    "tags": []
   },
   "source": [
    "# Use an exponential estimator to assess residual discrepancies and check for hysteresis"
   ]
  },
  {
   "cell_type": "code",
   "execution_count": null,
   "id": "c3b501c4",
   "metadata": {},
   "outputs": [],
   "source": [
    "for key in u_nks:\n",
    "    #plt.vlines(perWindow.index, np.zeros(len(perWindow)), perWindow[(key, 'dG_f')] + perWindow[(key, 'dG_b')], label=key, linewidth=2)\n",
    "    plt.plot(perWindow.index, perWindow[(key, 'diff')], label=key, linewidth=1, alpha=0.8)\n",
    "\n",
    "plt.plot(perWindow.index, perWindow[('mean', 'diff')], label='mean', linewidth=1, color='black')\n",
    "\n",
    "plt.legend()\n",
    "plt.title(f'Fwd-bwd discrepancies by lambda for {header}')\n",
    "plt.xlabel('Lambda')\n",
    "plt.ylabel('Diff. in delta-G')\n",
    "plt.savefig(f'{root}/{prefix}_discrepancies_{affix}.png', dpi=600)"
   ]
  },
  {
   "cell_type": "code",
   "execution_count": null,
   "id": "a88ce458-d5f9-45a4-849e-ce1114535ba8",
   "metadata": {},
   "outputs": [],
   "source": [
    "keys = list(set(perWindow.columns.get_level_values(0)))\n",
    "for key in keys:\n",
    "    myFFT = np.fft.fft(perWindow[(key, 'diff')])\n",
    "    n_samples = len(perWindow)\n",
    "\n",
    "    amplitudes = 2/n_samples * np.abs(myFFT)\n",
    "\n",
    "    frequencies = np.fft.fftfreq(n_samples) * n_samples * 1/(perWindow.index[-1]-perWindow.index[0])\n",
    "    \n",
    "    if key == 'mean':\n",
    "        plt.plot(frequencies[:len(frequencies)//2], amplitudes[:len(myFFT)//2], label=key, color='black')\n",
    "    else:\n",
    "        plt.plot(frequencies[:len(frequencies)//2], amplitudes[:len(myFFT)//2], label=key, alpha=0.8)\n",
    "\n",
    "    plt.legend()\n",
    "    plt.title(f'FFT of Discrepancies with respect to Lambda')\n",
    "    plt.xlabel('Lambda Frequency')\n",
    "    plt.ylabel('Amplitude')\n"
   ]
  },
  {
   "cell_type": "markdown",
   "id": "6e9430c7-a886-4ab8-ac50-de42b7953460",
   "metadata": {},
   "source": [
    "# Estimate and plot the Probability Density Function (PDF) for the differences shown above."
   ]
  },
  {
   "cell_type": "code",
   "execution_count": null,
   "id": "f786fd8b-34a3-49b1-9c88-5b66d20b5e8b",
   "metadata": {
    "tags": []
   },
   "outputs": [],
   "source": [
    "from scipy.special import erfc\n",
    "from scipy.optimize import curve_fit as scipyFit\n",
    "from scipy.stats import skew\n",
    "#Wrapper for fitting the normal CDF\n",
    "def cumFn(x, m, s):\n",
    "    r = norm.cdf(x, m, s)\n",
    "    return r\n",
    "\n",
    "def pdfFn(x,m,s):\n",
    "    r = norm.pdf(x,m,s)\n",
    "    return r"
   ]
  },
  {
   "cell_type": "code",
   "execution_count": null,
   "id": "88943b75-4c3f-4149-a58a-9284fff9957f",
   "metadata": {
    "tags": []
   },
   "outputs": [],
   "source": [
    "diff = perWindow.loc[:, (slice(None), 'diff')]\n",
    "X = diff\n",
    "Y = np.arange(len(X))/len(X)\n",
    "\n",
    "#plot the data\n",
    "fig, (pdfAx, pdfResid) = plt.subplots(2, 1, sharex=True)\n",
    "plt.xlabel('Difference in delta-G')\n",
    "\n",
    "#fit a normal distribution to the existing data\n",
    "fitted = norm.fit(X) # fit a normal distribution to X\n",
    "discrepancies = diff\n",
    "\n",
    "#pdf\n",
    "dx = 0.01\n",
    "\n",
    "binNum = 20\n",
    "pdfY, pdfX = np.histogram(discrepancies, bins=binNum, density=True)\n",
    "pdfX = (pdfX[1:]+pdfX[:-1])/2\n",
    "\n",
    "pdfXnorm  = np.arange(np.min(np.min(X)), np.max(np.max(X)), dx)\n",
    "pdfYnorm = norm.pdf(pdfXnorm, fitted[0], fitted[1])\n",
    "\n",
    "pdfYexpected = norm.pdf(pdfX, fitted[0], fitted[1])\n",
    "\n",
    "pdfAx.plot(pdfX, pdfY,  label=\"Estimated Distribution\")\n",
    "pdfAx.set_ylabel(\"PDF\")\n",
    "pdfAx.plot(pdfXnorm, pdfYnorm, label=\"Fitted Normal Distribution\", color=\"orange\")\n",
    "\n",
    "#pdf residuals\n",
    "pdfResiduals = pdfY-pdfYexpected\n",
    "pdfResid.plot(pdfX, pdfResiduals)\n",
    "pdfResid.set_ylabel(\"PDF residuals\") \n",
    "\n",
    "fig.set_figheight(10)\n",
    "pdfAx.title.set_text(f\"Maximum likelihood fitting of discrepancies for {header}\\nFitted parameters: Mean={np.round(fitted[0],3)}, Stdv={np.round(fitted[1],3)}\\nPopulation parameters: Mean={np.round(np.average(X),3)}, Stdv={np.round(np.std(X.melt()),3).value}\")\n",
    "plt.savefig(f\"{root}/{prefix}_MaximumLikelihood_pdf_{affix}.png\", dpi=600)\n",
    "\n",
    "plt.show()"
   ]
  },
  {
   "cell_type": "code",
   "execution_count": null,
   "id": "018c4da4-d9c9-4503-8633-92b7c7fbf560",
   "metadata": {},
   "outputs": [],
   "source": []
  },
  {
   "cell_type": "code",
   "execution_count": null,
   "id": "4337224d-b195-4842-9cf8-2c01cab5fd19",
   "metadata": {},
   "outputs": [],
   "source": []
  },
  {
   "cell_type": "code",
   "execution_count": null,
   "id": "2449ab1f-47f0-4b97-990b-9d1d43969a53",
   "metadata": {},
   "outputs": [],
   "source": []
  }
 ],
 "metadata": {
  "kernelspec": {
   "display_name": "Python 3 (ipykernel)",
   "language": "python",
   "name": "python3"
  },
  "language_info": {
   "codemirror_mode": {
    "name": "ipython",
    "version": 3
   },
   "file_extension": ".py",
   "mimetype": "text/x-python",
   "name": "python",
   "nbconvert_exporter": "python",
   "pygments_lexer": "ipython3",
   "version": "3.9.12"
  }
 },
 "nbformat": 4,
 "nbformat_minor": 5
}
