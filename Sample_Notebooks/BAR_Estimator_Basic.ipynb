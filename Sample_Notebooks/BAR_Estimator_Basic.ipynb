{
 "cells": [
  {
   "cell_type": "code",
   "execution_count": null,
   "id": "708b4d0d",
   "metadata": {},
   "outputs": [],
   "source": [
    "import safep\n",
    "import alchemlyb\n",
    "from glob import glob\n",
    "import numpy as np\n",
    "import matplotlib.pyplot as plt\n",
    "import os\n",
    "from alchemlyb.parsing import namd\n",
    "from IPython.display import display, Markdown\n",
    "from pathlib import Path\n",
    "from dataclasses import dataclass\n",
    "import scipy as sp\n",
    "from alchemlyb.estimators import BAR\n",
    "import warnings\n",
    "warnings.simplefilter(action='ignore', category=FutureWarning)"
   ]
  },
  {
   "cell_type": "code",
   "execution_count": null,
   "id": "bf843fad",
   "metadata": {},
   "outputs": [],
   "source": [
    "import pandas as pd\n",
    "@dataclass\n",
    "class FepRun:\n",
    "    u_nk:           pd.DataFrame\n",
    "    perWindow:      pd.DataFrame\n",
    "    cumulative:     pd.DataFrame\n",
    "    forward:        pd.DataFrame\n",
    "    forward_error:  pd.DataFrame\n",
    "    backward:       pd.DataFrame\n",
    "    backward_error: pd.DataFrame\n",
    "    per_lambda_convergence: pd.DataFrame\n",
    "    color: str"
   ]
  },
  {
   "cell_type": "markdown",
   "id": "a9d06104",
   "metadata": {
    "tags": []
   },
   "source": [
    "# User parameters"
   ]
  },
  {
   "cell_type": "code",
   "execution_count": null,
   "id": "e67078a6",
   "metadata": {},
   "outputs": [],
   "source": [
    "dataroot = Path('.')\n",
    "replicas = dataroot.glob('./Sample_Data/')\n",
    "filename_regex='*.fepout'\n",
    "\n",
    "temperature = 303.15\n",
    "RT = 0.00198720650096 * temperature\n",
    "detectEQ = True #Flag for automated equilibrium detection"
   ]
  },
  {
   "cell_type": "code",
   "execution_count": null,
   "id": "a6864313",
   "metadata": {},
   "outputs": [],
   "source": [
    "colors = ['blue', 'red', 'green', 'purple', 'orange', 'violet', 'cyan']\n",
    "itcolors = iter(colors)"
   ]
  },
  {
   "cell_type": "markdown",
   "id": "30721156",
   "metadata": {
    "tags": []
   },
   "source": [
    "# Extract key features from the MBAR fitting and get ΔG\n",
    "Note: alchemlyb operates in units of kT by default. We multiply by RT to convert to units of kcal/mol."
   ]
  },
  {
   "cell_type": "markdown",
   "id": "80b1034d",
   "metadata": {},
   "source": [
    "# Read and plot number of samples after detecting EQ"
   ]
  },
  {
   "cell_type": "code",
   "execution_count": null,
   "id": "7c747b75-8fa3-48f9-9ab3-ac4a12982c01",
   "metadata": {},
   "outputs": [],
   "source": [
    "fepruns = {}\n",
    "for replica in replicas:\n",
    "    print(f\"Reading {replica}\")\n",
    "    unkpath = replica.joinpath('decorrelated.csv')\n",
    "    u_nk = None\n",
    "    if unkpath.is_file():\n",
    "        print(f\"Found existing dataframe. Reading.\")\n",
    "        u_nk = safep.read_UNK(unkpath)\n",
    "    else:\n",
    "        print(f\"Didn't find existing dataframe at {unkpath}. Checking for raw fepout files.\")\n",
    "        fepoutFiles = list(replica.glob(filename_regex))\n",
    "        totalSize = 0\n",
    "        for file in fepoutFiles:\n",
    "            totalSize += os.path.getsize(file)\n",
    "        print(f\"Will process {len(fepoutFiles)} fepout files.\\nTotal size:{np.round(totalSize/10**9, 2)}GB\")\n",
    "\n",
    "        if len(list(fepoutFiles))>0:\n",
    "            print(\"Reading fepout files\")\n",
    "            fig, ax = plt.subplots()\n",
    "\n",
    "            u_nk = namd.extract_u_nk(fepoutFiles, temperature)\n",
    "            u_nk = u_nk.sort_index(axis=0, level=1).sort_index(axis=1)\n",
    "            safep.plot_samples(ax, u_nk, color='blue', label='Raw Data')\n",
    "\n",
    "            if detectEQ:\n",
    "                print(\"Detecting equilibrium\")\n",
    "                u_nk = safep.detect_equilibrium_u_nk(u_nk)\n",
    "                safep.plot_samples(ax, u_nk, color='orange', label='Equilibrium-Detected')\n",
    "\n",
    "            plt.savefig(f\"./{str(replica)}_FEP_number_of_samples.pdf\")\n",
    "            plt.show()\n",
    "            safep.save_UNK(u_nk, unkpath)\n",
    "        else:\n",
    "            print(f\"WARNING: no fepout files found for {replica}. Skipping.\")\n",
    "    \n",
    "    if u_nk is not None:\n",
    "        fepruns[str(replica)] = FepRun(u_nk, None, None, None, None, None, None, None, next(itcolors))\n",
    "        "
   ]
  },
  {
   "cell_type": "code",
   "execution_count": null,
   "id": "7e81f216",
   "metadata": {},
   "outputs": [],
   "source": [
    "for key, feprun in fepruns.items():\n",
    "    u_nk = feprun.u_nk\n",
    "    feprun.perWindow, feprun.cumulative = safep.do_estimation(u_nk) #Run the BAR estimator on the fep data\n",
    "    feprun.forward, feprun.forward_error, feprun.backward, feprun.backward_error = safep.do_convergence(u_nk) #Used later in the convergence plot'\n",
    "    feprun.per_lambda_convergence = safep.do_per_lambda_convergence(u_nk)\n",
    "\n"
   ]
  },
  {
   "cell_type": "markdown",
   "id": "caae40d3",
   "metadata": {},
   "source": [
    "# Plot data"
   ]
  },
  {
   "cell_type": "code",
   "execution_count": null,
   "id": "fd69e9c8-94d8-4a2a-9ec8-a24f78059431",
   "metadata": {},
   "outputs": [],
   "source": [
    "toprint = \"\"\n",
    "dGs = []\n",
    "errors = []\n",
    "for key, feprun in fepruns.items():\n",
    "    cumulative = feprun.cumulative\n",
    "    dG = np.round(cumulative.BAR.f.iloc[-1]*RT, 1)\n",
    "    error = np.round(cumulative.BAR.errors.iloc[-1]*RT, 1)\n",
    "    dGs.append(dG)\n",
    "    errors.append(error)\n",
    "\n",
    "    changeAndError = f'{key}: \\u0394G = {dG}\\u00B1{error} kcal/mol'\n",
    "    toprint += '<font size=5>{}</font><br/>'.format(changeAndError)\n",
    "\n",
    "toprint += '<font size=5>{}</font><br/>'.format('__________________')\n",
    "mean = np.average(dGs)\n",
    "\n",
    "#If there are only a few replicas, the MBAR estimated error will be more reliable, albeit underestimated\n",
    "if len(dGs)<3:\n",
    "    sterr = np.sqrt(np.sum(np.square(errors)))\n",
    "else:\n",
    "    sterr = np.round(np.std(dGs),1)\n",
    "toprint += '<font size=5>{}</font><br/>'.format(f'mean: {mean}')\n",
    "toprint += '<font size=5>{}</font><br/>'.format(f'sterr: {sterr}')\n",
    "Markdown(toprint)"
   ]
  },
  {
   "cell_type": "code",
   "execution_count": null,
   "id": "335d89cf",
   "metadata": {},
   "outputs": [],
   "source": [
    "dGs"
   ]
  },
  {
   "cell_type": "code",
   "execution_count": null,
   "id": "d1fde633",
   "metadata": {},
   "outputs": [],
   "source": [
    "def do_agg_data(dataax, plotax):\n",
    "    agg_data = []\n",
    "    lines = dataax.lines\n",
    "    for line in lines:\n",
    "        agg_data.append(line.get_ydata())\n",
    "    flat = np.array(agg_data).flatten()\n",
    "    kernel = sp.stats.gaussian_kde(flat)\n",
    "    pdfX = np.linspace(-1, 1, 1000)\n",
    "    pdfY = kernel(pdfX)\n",
    "    std = np.std(flat)\n",
    "    mean = np.average(flat)\n",
    "    temp = pd.Series(pdfY, index=pdfX)\n",
    "    mode = temp.idxmax()\n",
    "\n",
    "    textstr = r\"$\\rm mode=$\"+f\"{np.round(mode,2)}\"+\"\\n\"+fr\"$\\mu$={np.round(mean,2)}\"+\"\\n\"+fr\"$\\sigma$={np.round(std,2)}\"\n",
    "    props = dict(boxstyle='square', facecolor='white', alpha=1)\n",
    "    plotax.text(0.175, 0.95, textstr, transform=plotax.transAxes, fontsize=14,\n",
    "            verticalalignment='top', bbox=props)\n",
    "\n",
    "    return plotax"
   ]
  },
  {
   "cell_type": "code",
   "execution_count": null,
   "id": "282938bb-988e-4e00-a2e6-ab018722569e",
   "metadata": {},
   "outputs": [],
   "source": [
    "fig = None\n",
    "for key, feprun in fepruns.items():\n",
    "    if fig is None:\n",
    "        fig, axes = safep.plot_general(feprun.cumulative, None, feprun.perWindow, None, RT, hysttype='lines', label=key, color=feprun.color)\n",
    "    else:\n",
    "        fig, axes = safep.plot_general(feprun.cumulative, None, feprun.perWindow, None, RT, fig=fig, axes=axes, hysttype='lines', label=key, color=feprun.color)\n",
    "    #fig.suptitle(changeAndError)\n",
    "\n",
    "# hack to get aggregate data:\n",
    "axes[3] = do_agg_data(axes[2], axes[3])\n",
    "\n",
    "\n",
    "axes[0].set_title(str(mean)+r'$\\pm$'+str(sterr)+' kcal/mol')\n",
    "axes[0].legend()\n",
    "plt.savefig(dataroot.joinpath('FEP_general_figures.pdf'))"
   ]
  },
  {
   "cell_type": "markdown",
   "id": "c7f90d8c",
   "metadata": {},
   "source": [
    "# Plot the estimated total change in free energy as a function of simulation time; contiguous subsets starting at t=0 (\"Forward\") and t=end (\"Reverse\")"
   ]
  },
  {
   "cell_type": "code",
   "execution_count": null,
   "id": "70523392-e935-4ff4-b6e9-cf679c787bcc",
   "metadata": {},
   "outputs": [],
   "source": [
    "fig, convAx = plt.subplots(1,1)\n",
    "\n",
    "for key, feprun in fepruns.items():\n",
    "    convAx = safep.convergence_plot(convAx, \n",
    "                                    feprun.forward*RT, \n",
    "                                    feprun.forward_error*RT, \n",
    "                                    feprun.backward*RT,\n",
    "                                    feprun.backward_error*RT,\n",
    "                                    fwdColor=feprun.color,\n",
    "                                    bwdColor=feprun.color,\n",
    "                                    errorbars=False\n",
    "                                    )\n",
    "    convAx.get_legend().remove()\n",
    "\n",
    "forward_line, = convAx.plot([],[],linestyle='-', color='black', label='Forward Time Sampling')\n",
    "backward_line, = convAx.plot([],[],linestyle='--', color='black', label='Backward Time Sampling')\n",
    "convAx.legend(handles=[forward_line, backward_line])\n",
    "ymin = np.min(dGs)-1\n",
    "ymax = np.max(dGs)+1\n",
    "convAx.set_ylim((ymin,ymax))\n",
    "plt.savefig(dataroot.joinpath('FEP_convergence.pdf'))"
   ]
  },
  {
   "cell_type": "code",
   "execution_count": null,
   "id": "e6ab4621",
   "metadata": {},
   "outputs": [],
   "source": [
    "genfig = None\n",
    "for key, feprun in fepruns.items():\n",
    "    if genfig is None:\n",
    "        genfig, genaxes = safep.plot_general(feprun.cumulative, None, feprun.perWindow, None, RT, hysttype='lines', label=key, color=feprun.color)\n",
    "    else:\n",
    "        genfig, genaxes = safep.plot_general(feprun.cumulative, None, feprun.perWindow, None, RT, fig=genfig, axes=genaxes, hysttype='lines', label=key, color=feprun.color)\n",
    "plt.delaxes(genaxes[0])\n",
    "plt.delaxes(genaxes[1])\n",
    "\n",
    "genaxes[3] = do_agg_data(axes[2], axes[3])\n",
    "genaxes[2].set_title(str(mean)+r'$\\pm$'+str(sterr)+' kcal/mol')\n",
    "\n",
    "for txt in genfig.texts:\n",
    "    print(1)\n",
    "    txt.set_visible(False)\n",
    "    txt.set_text(\"\")\n",
    "plt.show()\n",
    "plt.savefig(dataroot.joinpath('FEP_perLambda_convergence.pdf'))"
   ]
  },
  {
   "cell_type": "code",
   "execution_count": null,
   "id": "96418460",
   "metadata": {},
   "outputs": [],
   "source": []
  },
  {
   "cell_type": "code",
   "execution_count": null,
   "id": "5d26a72d",
   "metadata": {},
   "outputs": [],
   "source": [
    "from scipy.stats import wasserstein_distance"
   ]
  },
  {
   "cell_type": "code",
   "execution_count": null,
   "id": "1c19559a",
   "metadata": {},
   "outputs": [],
   "source": [
    "states = u_nk.columns\n",
    "matrices = []\n",
    "overlap_series = []\n",
    "\n",
    "bins = np.linspace(-8,8,100)\n",
    "\n",
    "step = 500\n",
    "nsteps = 50000\n",
    "time = np.arange(0, nsteps, step)\n",
    "for cutoff in time:\n",
    "    matrix = pd.DataFrame(index=states, columns=states)\n",
    "    overlap = pd.DataFrame(index=states, columns=states)\n",
    "    for i in states:\n",
    "        for j in states:\n",
    "            fwd_slice = u_nk.loc[(slice(None),i),j]\n",
    "            mask = fwd_slice.index.get_level_values(0)<cutoff\n",
    "            fwd = fwd_slice.values[mask]\n",
    "\n",
    "            bwd_slice = u_nk.loc[(slice(None),j),i]\n",
    "            mask = bwd_slice.index.get_level_values(0)<cutoff\n",
    "            bwd = bwd_slice.values[mask]\n",
    "\n",
    "            if len(fwd)>0 and len(bwd)>0 and not np.isnan(fwd[0]) and not np.isnan(bwd[0]):\n",
    "                fwd_vals, _ = np.histogram(fwd, bins)\n",
    "                fwd_vals = fwd_vals/np.sum(fwd_vals)\n",
    "                bwd_vals, _ = np.histogram(-bwd, bins)\n",
    "                bwd_vals = bwd_vals/np.sum(bwd_vals)\n",
    "                overlap.loc[i, j] = np.sum(np.min([fwd_vals, bwd_vals], axis=0))\n",
    "                matrix.loc[i,j]=wasserstein_distance(fwd, -bwd)\n",
    "\n",
    "    matrices.append(matrix)\n",
    "    overlap_series.append(overlap)"
   ]
  },
  {
   "cell_type": "code",
   "execution_count": null,
   "id": "b6d3e09b",
   "metadata": {},
   "outputs": [],
   "source": [
    "fig, ax = plt.subplots()\n",
    "distances = np.diag(matrix, k=1)\n",
    "overlaps = np.diag(overlap, k=1)\n",
    "windows = (states[1:]+states[:-1])/2\n",
    "ax.plot(windows, 1/distances)\n",
    "ax.set_ylabel(\"Inverse Distance\")\n",
    "\n",
    "ovax = ax.twinx()\n",
    "ovax.plot(windows, overlaps, color=\"tab:orange\")\n",
    "ovax.set_ylabel(\"Overlap\", color=\"tab:orange\")\n",
    "ticks = ovax.get_yticklabels()\n",
    "ovax.set_yticklabels(ticks, color=\"tab:orange\")"
   ]
  },
  {
   "cell_type": "code",
   "execution_count": null,
   "id": "63ac18d8",
   "metadata": {},
   "outputs": [],
   "source": [
    "fig, ax = plt.subplots()\n",
    "for i,j in zip(states[:-1],states[1:]):\n",
    "    ax.plot(time, [x.loc[i,j] for x in overlap_series], label=f\"{i} ↔ {j}\", color=np.array([0.8,1,0.4])*i)\n",
    "    ax.legend()\n",
    "ax.set_xlabel(\"Sampling time (steps)\")\n",
    "ax.set_ylabel(\"Overlap [0,1]\")"
   ]
  },
  {
   "cell_type": "code",
   "execution_count": null,
   "id": "f8c1dbf8",
   "metadata": {},
   "outputs": [],
   "source": [
    "import numpy as np\n",
    "import matplotlib.pyplot as plt\n",
    "from scipy.optimize import curve_fit\n",
    "from scipy.special import erf\n",
    "\n",
    "def signif(x, p):\n",
    "    x = np.asarray(x)\n",
    "    x_positive = np.where(np.isfinite(x) & (x != 0), np.abs(x), 10**(p-1))\n",
    "    mags = 10 ** (p - 1 - np.floor(np.log10(x_positive)))\n",
    "    return np.round(x * mags) / mags\n",
    "\n",
    "def extract_usable_time_series(xdata, the_data, i, j):\n",
    "    ydata = np.array([x.loc[i,j] for x in the_data]).flatten()\n",
    "    mask = np.logical_not(np.isnan(ydata))\n",
    "    ytofit = ydata[mask]\n",
    "    xtofit = xdata[mask]\n",
    "\n",
    "    return xtofit, ytofit\n",
    "\n",
    "def logistic(x, x0, k):\n",
    "    return 1/(1+np.exp(-k*(x-x0)))\n",
    "\n",
    "def hyperbola(x, x0, k):\n",
    "    return np.tanh((x-x0)*k)\n",
    "\n",
    "def errorf(x, x0, k):\n",
    "    return erf((x-x0)*k)"
   ]
  },
  {
   "cell_type": "code",
   "execution_count": null,
   "id": "a15ecad9",
   "metadata": {},
   "outputs": [],
   "source": [
    "the_func = errorf\n",
    "guess = (5000,0.001, 0.66)\n",
    "guess = (5000, 0.001)\n",
    "\n",
    "xdata = np.arange(0, nsteps, step)\n",
    "xtofit, ytofit = extract_usable_time_series(xdata, overlap_series, 0.1, 0.2)\n",
    "popt, pcov = curve_fit(the_func, xtofit, ytofit, guess)\n",
    "perr = np.sqrt(np.diag(pcov))\n",
    "upper = popt+(perr*(1.95,-1.95))\n",
    "lower = popt-(perr*(1.95,-1.95))\n",
    "\n",
    "plt.plot(xtofit, ytofit)\n",
    "\n",
    "\n",
    "project = np.linspace(0,500000,100)\n",
    "label = np.array([{signif(x,2)} for x in popt])\n",
    "plt.plot(project, the_func(project, *popt), 'k-', label='\\n'.join(label.astype(str)))\n",
    "\n",
    "label = np.array([{signif(x,2)} for x in upper])\n",
    "plt.fill_between(project, the_func(project, *upper), the_func(project, *lower), color='gray')\n",
    "plt.legend()"
   ]
  },
  {
   "cell_type": "code",
   "execution_count": null,
   "id": "ae373bc0",
   "metadata": {},
   "outputs": [],
   "source": []
  }
 ],
 "metadata": {
  "kernelspec": {
   "display_name": "Python 3 (ipykernel)",
   "language": "python",
   "name": "python3"
  },
  "language_info": {
   "codemirror_mode": {
    "name": "ipython",
    "version": 3
   },
   "file_extension": ".py",
   "mimetype": "text/x-python",
   "name": "python",
   "nbconvert_exporter": "python",
   "pygments_lexer": "ipython3",
   "version": "3.9.16"
  }
 },
 "nbformat": 4,
 "nbformat_minor": 5
}
