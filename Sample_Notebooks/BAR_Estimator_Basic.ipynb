{
 "cells": [
  {
   "cell_type": "code",
   "execution_count": null,
   "id": "708b4d0d",
   "metadata": {},
   "outputs": [],
   "source": [
    "import safep\n",
    "import alchemlyb\n",
    "from glob import glob\n",
    "import numpy as np\n",
    "import matplotlib.pyplot as plt\n",
    "import os\n",
    "from alchemlyb.parsing import namd\n",
    "from IPython.display import display, Markdown\n",
    "from pathlib import Path\n",
    "from dataclasses import dataclass\n",
    "import scipy as sp\n",
    "from alchemlyb.estimators import BAR\n",
    "import warnings\n",
    "warnings.simplefilter(action='ignore', category=FutureWarning)"
   ]
  },
  {
   "cell_type": "code",
   "execution_count": null,
   "id": "bf843fad",
   "metadata": {},
   "outputs": [],
   "source": [
    "import pandas as pd\n",
    "@dataclass\n",
    "class FepRun:\n",
    "    u_nk:           pd.DataFrame\n",
    "    perWindow:      pd.DataFrame\n",
    "    cumulative:     pd.DataFrame\n",
    "    forward:        pd.DataFrame\n",
    "    forward_error:  pd.DataFrame\n",
    "    backward:       pd.DataFrame\n",
    "    backward_error: pd.DataFrame\n",
    "    per_lambda_convergence: pd.DataFrame\n",
    "    color: str"
   ]
  },
  {
   "cell_type": "markdown",
   "id": "a9d06104",
   "metadata": {
    "tags": []
   },
   "source": [
    "# User parameters"
   ]
  },
  {
   "cell_type": "code",
   "execution_count": null,
   "id": "e67078a6",
   "metadata": {},
   "outputs": [],
   "source": [
    "dataroot = Path('.')\n",
    "replica_pattern='Replica?'\n",
    "replicas = dataroot.glob(replica_pattern)\n",
    "filename_pattern='*.fepout'\n",
    "\n",
    "temperature = 303.15\n",
    "RT = 0.00198720650096 * temperature\n",
    "detectEQ = True #Flag for automated equilibrium detection"
   ]
  },
  {
   "cell_type": "code",
   "execution_count": null,
   "id": "a6864313",
   "metadata": {},
   "outputs": [],
   "source": [
    "colors = ['blue', 'red', 'green', 'purple', 'orange', 'violet', 'cyan']\n",
    "itcolors = iter(colors)"
   ]
  },
  {
   "cell_type": "markdown",
   "id": "30721156",
   "metadata": {
    "tags": []
   },
   "source": [
    "# Extract key features from the MBAR fitting and get ΔG\n",
    "Note: alchemlyb operates in units of kT by default. We multiply by RT to convert to units of kcal/mol."
   ]
  },
  {
   "cell_type": "markdown",
   "id": "80b1034d",
   "metadata": {},
   "source": [
    "# Read and plot number of samples after detecting EQ"
   ]
  },
  {
   "cell_type": "code",
   "execution_count": null,
   "id": "7c747b75-8fa3-48f9-9ab3-ac4a12982c01",
   "metadata": {},
   "outputs": [],
   "source": [
    "fepruns = {}\n",
    "for replica in replicas:\n",
    "    print(f\"Reading {replica}\")\n",
    "    unkpath = replica.joinpath('decorrelated.csv')\n",
    "    u_nk = None\n",
    "    if unkpath.is_file():\n",
    "        print(f\"Found existing dataframe. Reading.\")\n",
    "        u_nk = safep.read_UNK(unkpath)\n",
    "    else:\n",
    "        print(f\"Didn't find existing dataframe at {unkpath}. Checking for raw fepout files.\")\n",
    "        fepoutFiles = list(replica.glob(filename_pattern))\n",
    "        totalSize = 0\n",
    "        for file in fepoutFiles:\n",
    "            totalSize += os.path.getsize(file)\n",
    "        print(f\"Will process {len(fepoutFiles)} fepout files.\\nTotal size:{np.round(totalSize/10**9, 2)}GB\")\n",
    "\n",
    "        if len(list(fepoutFiles))>0:\n",
    "            print(\"Reading fepout files\")\n",
    "            fig, ax = plt.subplots()\n",
    "\n",
    "            u_nk = namd.extract_u_nk(fepoutFiles, temperature)\n",
    "            u_nk = u_nk.sort_index(axis=0, level=1).sort_index(axis=1)\n",
    "            safep.plot_samples(ax, u_nk, color='blue', label='Raw Data')\n",
    "\n",
    "            if detectEQ:\n",
    "                print(\"Detecting equilibrium\")\n",
    "                u_nk = safep.detect_equilibrium_u_nk(u_nk)\n",
    "                safep.plot_samples(ax, u_nk, color='orange', label='Equilibrium-Detected')\n",
    "\n",
    "            plt.savefig(f\"./{str(replica)}_FEP_number_of_samples.pdf\")\n",
    "            plt.show()\n",
    "            safep.save_UNK(u_nk, unkpath)\n",
    "        else:\n",
    "            print(f\"WARNING: no fepout files found for {replica}. Skipping.\")\n",
    "    \n",
    "    if u_nk is not None:\n",
    "        fepruns[str(replica)] = FepRun(u_nk, None, None, None, None, None, None, None, next(itcolors))\n",
    "        "
   ]
  },
  {
   "cell_type": "code",
   "execution_count": null,
   "id": "7e81f216",
   "metadata": {},
   "outputs": [],
   "source": [
    "for key, feprun in fepruns.items():\n",
    "    u_nk = feprun.u_nk\n",
    "    feprun.perWindow, feprun.cumulative = safep.do_estimation(u_nk) #Run the BAR estimator on the fep data\n",
    "    feprun.forward, feprun.forward_error, feprun.backward, feprun.backward_error = safep.do_convergence(u_nk) #Used later in the convergence plot'\n",
    "    feprun.per_lambda_convergence = safep.do_per_lambda_convergence(u_nk)\n",
    "\n"
   ]
  },
  {
   "cell_type": "markdown",
   "id": "caae40d3",
   "metadata": {},
   "source": [
    "# Plot data"
   ]
  },
  {
   "cell_type": "code",
   "execution_count": null,
   "id": "fd69e9c8-94d8-4a2a-9ec8-a24f78059431",
   "metadata": {},
   "outputs": [],
   "source": [
    "toprint = \"\"\n",
    "dGs = []\n",
    "errors = []\n",
    "for key, feprun in fepruns.items():\n",
    "    cumulative = feprun.cumulative\n",
    "    dG = np.round(cumulative.BAR.f.iloc[-1]*RT, 1)\n",
    "    error = np.round(cumulative.BAR.errors.iloc[-1]*RT, 1)\n",
    "    dGs.append(dG)\n",
    "    errors.append(error)\n",
    "\n",
    "    changeAndError = f'{key}: \\u0394G = {dG}\\u00B1{error} kcal/mol'\n",
    "    toprint += '<font size=5>{}</font><br/>'.format(changeAndError)\n",
    "\n",
    "toprint += '<font size=5>{}</font><br/>'.format('__________________')\n",
    "mean = np.average(dGs)\n",
    "\n",
    "#If there are only a few replicas, the MBAR estimated error will be more reliable, albeit underestimated\n",
    "if len(dGs)<3:\n",
    "    sterr = np.sqrt(np.sum(np.square(errors)))\n",
    "else:\n",
    "    sterr = np.round(np.std(dGs),1)\n",
    "toprint += '<font size=5>{}</font><br/>'.format(f'mean: {mean}')\n",
    "toprint += '<font size=5>{}</font><br/>'.format(f'sterr: {sterr}')\n",
    "Markdown(toprint)"
   ]
  },
  {
   "cell_type": "code",
   "execution_count": null,
   "id": "d1fde633",
   "metadata": {},
   "outputs": [],
   "source": [
    "def do_agg_data(dataax, plotax):\n",
    "    agg_data = []\n",
    "    lines = dataax.lines\n",
    "    for line in lines:\n",
    "        agg_data.append(line.get_ydata())\n",
    "    flat = np.array(agg_data).flatten()\n",
    "    kernel = sp.stats.gaussian_kde(flat)\n",
    "    pdfX = np.linspace(-1, 1, 1000)\n",
    "    pdfY = kernel(pdfX)\n",
    "    std = np.std(flat)\n",
    "    mean = np.average(flat)\n",
    "    temp = pd.Series(pdfY, index=pdfX)\n",
    "    mode = temp.idxmax()\n",
    "\n",
    "    textstr = r\"$\\rm mode=$\"+f\"{np.round(mode,2)}\"+\"\\n\"+fr\"$\\mu$={np.round(mean,2)}\"+\"\\n\"+fr\"$\\sigma$={np.round(std,2)}\"\n",
    "    props = dict(boxstyle='square', facecolor='white', alpha=1)\n",
    "    plotax.text(0.175, 0.95, textstr, transform=plotax.transAxes, fontsize=14,\n",
    "            verticalalignment='top', bbox=props)\n",
    "\n",
    "    return plotax"
   ]
  },
  {
   "cell_type": "code",
   "execution_count": null,
   "id": "282938bb-988e-4e00-a2e6-ab018722569e",
   "metadata": {},
   "outputs": [],
   "source": [
    "fig = None\n",
    "for key, feprun in fepruns.items():\n",
    "    if fig is None:\n",
    "        fig, axes = safep.plot_general(feprun.cumulative, None, feprun.perWindow, None, RT, hysttype='lines', label=key, color=feprun.color)\n",
    "        axes[1].legend()\n",
    "    else:\n",
    "        fig, axes = safep.plot_general(feprun.cumulative, None, feprun.perWindow, None, RT, fig=fig, axes=axes, hysttype='lines', label=key, color=feprun.color)\n",
    "    #fig.suptitle(changeAndError)\n",
    "\n",
    "# hack to get aggregate data:\n",
    "axes[3] = do_agg_data(axes[2], axes[3])\n",
    "\n",
    "axes[0].set_title(str(mean)+r'$\\pm$'+str(sterr)+' kcal/mol')\n",
    "axes[0].legend()\n",
    "plt.savefig(dataroot.joinpath('FEP_general_figures.pdf'))"
   ]
  },
  {
   "cell_type": "markdown",
   "id": "c7f90d8c",
   "metadata": {},
   "source": [
    "# Plot the estimated total change in free energy as a function of simulation time; contiguous subsets starting at t=0 (\"Forward\") and t=end (\"Reverse\")"
   ]
  },
  {
   "cell_type": "code",
   "execution_count": null,
   "id": "70523392-e935-4ff4-b6e9-cf679c787bcc",
   "metadata": {},
   "outputs": [],
   "source": [
    "fig, convAx = plt.subplots(1,1)\n",
    "\n",
    "for key, feprun in fepruns.items():\n",
    "    convAx = safep.convergence_plot(convAx, \n",
    "                                    feprun.forward*RT, \n",
    "                                    feprun.forward_error*RT, \n",
    "                                    feprun.backward*RT,\n",
    "                                    feprun.backward_error*RT,\n",
    "                                    fwd_color=feprun.color,\n",
    "                                    bwd_color=feprun.color,\n",
    "                                    errorbars=False\n",
    "                                    )\n",
    "    convAx.get_legend().remove()\n",
    "\n",
    "forward_line, = convAx.plot([],[],linestyle='-', color='black', label='Forward Time Sampling')\n",
    "backward_line, = convAx.plot([],[],linestyle='--', color='black', label='Backward Time Sampling')\n",
    "convAx.legend(handles=[forward_line, backward_line])\n",
    "ymin = np.min(dGs)-1\n",
    "ymax = np.max(dGs)+1\n",
    "convAx.set_ylim((ymin,ymax))\n",
    "plt.savefig(dataroot.joinpath('FEP_convergence.pdf'))"
   ]
  },
  {
   "cell_type": "code",
   "execution_count": null,
   "id": "e6ab4621",
   "metadata": {},
   "outputs": [],
   "source": [
    "import scipy as sp\n",
    "fig, (Dax, pdfAx) = plt.subplots(1,2, gridspec_kw={'width_ratios': [2, 1]}, sharey='row',  figsize=(10,5))\n",
    "\n",
    "for key, feprun in fepruns.items():\n",
    "    deltas = feprun.per_lambda_convergence.BAR.df*RT\n",
    "    lambdas = feprun.per_lambda_convergence.index\n",
    "    Dax.errorbar(lambdas, deltas, color=feprun.color, label=key)\n",
    "    Dax.set_xlabel(r\"$\\lambda$\")\n",
    "    Dax.set_ylabel(r\"$\\delta_\\mathrm{50\\%}$ (kcal/mol)\")\n",
    "\n",
    "    kernel = sp.stats.gaussian_kde(deltas)\n",
    "    pdfX = np.linspace(-0.3, 0.3, 1000)\n",
    "    pdfY = kernel(pdfX)\n",
    "    pdfAx.plot(pdfY, pdfX, label='KDE', color=feprun.color)\n",
    "\n",
    "Dax.legend()\n",
    "pdfAx.set_xlabel(\"KDE\")\n",
    "plt.savefig(dataroot.joinpath('FEP_perLambda_convergence.pdf'))"
   ]
  },
  {
   "cell_type": "code",
   "execution_count": null,
   "id": "96418460",
   "metadata": {},
   "outputs": [],
   "source": []
  }
 ],
 "metadata": {
  "kernelspec": {
   "display_name": "Python 3 (ipykernel)",
   "language": "python",
   "name": "python3"
  },
  "language_info": {
   "codemirror_mode": {
    "name": "ipython",
    "version": 3
   },
   "file_extension": ".py",
   "mimetype": "text/x-python",
   "name": "python",
   "nbconvert_exporter": "python",
   "pygments_lexer": "ipython3",
   "version": "3.12.3"
  }
 },
 "nbformat": 4,
 "nbformat_minor": 5
}
