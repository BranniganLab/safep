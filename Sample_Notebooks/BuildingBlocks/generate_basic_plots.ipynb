{
 "cells": [
  {
   "cell_type": "markdown",
   "id": "d7785e45-4a7e-4d60-bb93-ade5a3e2b5ac",
   "metadata": {},
   "source": [
    "## Generate Plots \n",
    "- General plots:\n",
    "Cumulative and per-window delta G.\n",
    "- Convergence plots: \n",
    "Plot the estimated total change in free energy as a function of simulation time; contiguous subsets starting at t=0 (\"Forward\") and t=end (\"Reverse\")\n",
    "- Per-window Convergence:\n",
    "Difference between BAR estimates using first and last halves of the samples (with respect to simulation time)"
   ]
  },
  {
   "cell_type": "code",
   "execution_count": null,
   "id": "9171458d-af09-4e23-aa76-a59d04cd7aa9",
   "metadata": {},
   "outputs": [],
   "source": [
    "fig, axes = plot_general(cumulative, None, perWindow, None, RT)\n",
    "fig.suptitle(changeAndError)\n",
    "plt.savefig(f'{path}FEP_general_figures.pdf')"
   ]
  },
  {
   "cell_type": "code",
   "execution_count": null,
   "id": "06b4695b-0328-4816-8a9b-b9dede5bc404",
   "metadata": {},
   "outputs": [],
   "source": [
    "fig, convAx = plt.subplots(1,1)\n",
    "convAx = convergence_plot(convAx, forward*RT, forward_error*RT, backward*RT, backward_error*RT)\n",
    "plt.savefig(f'{path}FEP_convergence.pdf')"
   ]
  },
  {
   "cell_type": "code",
   "execution_count": null,
   "id": "93c17bf1-eed3-4d00-8fad-60e5171171c7",
   "metadata": {},
   "outputs": [],
   "source": [
    "fig, ax = plt.subplots()\n",
    "ax.errorbar(per_lambda_convergence.index, per_lambda_convergence.BAR.df*RT)\n",
    "ax.set_xlabel(r\"$\\lambda$\")\n",
    "ax.set_ylabel(r\"$D_{last-first}$ (kcal/mol)\")\n",
    "plt.savefig(f\"{path}FEP_perLambda_convergence.pdf\")"
   ]
  }
 ],
 "metadata": {
  "kernelspec": {
   "display_name": "Python 3 (ipykernel)",
   "language": "python",
   "name": "python3"
  },
  "language_info": {
   "codemirror_mode": {
    "name": "ipython",
    "version": 3
   },
   "file_extension": ".py",
   "mimetype": "text/x-python",
   "name": "python",
   "nbconvert_exporter": "python",
   "pygments_lexer": "ipython3",
   "version": "3.9.12"
  }
 },
 "nbformat": 4,
 "nbformat_minor": 5
}
