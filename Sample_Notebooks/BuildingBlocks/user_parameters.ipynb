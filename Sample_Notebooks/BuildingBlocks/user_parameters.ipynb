{
 "cells": [
  {
   "cell_type": "markdown",
   "id": "7fad67e5-1d94-4ac2-b258-94265a85ac52",
   "metadata": {
    "tags": []
   },
   "source": [
    "## User parameters"
   ]
  },
  {
   "cell_type": "code",
   "execution_count": null,
   "id": "6ab69582-0b03-4a90-9953-a49d1efed50e",
   "metadata": {},
   "outputs": [],
   "source": [
    "path='/path/to/data'\n",
    "filename='*.fepout'\n",
    "\n",
    "temperature = 303.15 #in Kelvin\n",
    "\n",
    "decorrelate = True #Flag for decorrelation of samples\n",
    "detectEQ = True #Flag for automated equilibrium detection"
   ]
  }
 ],
 "metadata": {
  "kernelspec": {
   "display_name": "Python 3 (ipykernel)",
   "language": "python",
   "name": "python3"
  },
  "language_info": {
   "codemirror_mode": {
    "name": "ipython",
    "version": 3
   },
   "file_extension": ".py",
   "mimetype": "text/x-python",
   "name": "python",
   "nbconvert_exporter": "python",
   "pygments_lexer": "ipython3",
   "version": "3.9.12"
  }
 },
 "nbformat": 4,
 "nbformat_minor": 5
}
