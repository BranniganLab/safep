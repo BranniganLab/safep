{
 "cells": [
  {
   "cell_type": "markdown",
   "id": "0b5fbec0",
   "metadata": {},
   "source": [
    "# Import necessary libraries\n",
    "SAFEP_parse.py contains all the functions and library calls necessary to run the notebook\n",
    "# Required libraries:\n",
    "- numpy\n",
    "- pandas\n",
    "- matplotlib\n",
    "- alchemlyb (pip install git+https://github.com/alchemistry/alchemlyb)\n",
    "- natsort (for sorting file names)\n",
    "- glob (for unix-like file paths)\n",
    "\n"
   ]
  },
  {
   "cell_type": "code",
   "execution_count": 1,
   "id": "f8748274",
   "metadata": {},
   "outputs": [],
   "source": [
    "from AFEP_parse import *\n",
    "plt.rcParams['figure.dpi'] = 150"
   ]
  },
  {
   "cell_type": "code",
   "execution_count": 2,
   "id": "4e45acb3",
   "metadata": {},
   "outputs": [],
   "source": [
    "import os"
   ]
  },
  {
   "cell_type": "code",
   "execution_count": 3,
   "id": "f0377f94",
   "metadata": {},
   "outputs": [
    {
     "name": "stdout",
     "output_type": "stream",
     "text": [
      "Will process 104 fepout files.\n",
      "Total size:3.62GB\n",
      "Anticipated RAM requirement: 13.09GB\n"
     ]
    }
   ],
   "source": [
    "path='../../LatestFEPOUT/'\n",
    "filename='*.fep*'\n",
    "fepoutFiles = glob(path+filename)\n",
    "temperature = 300\n",
    "RT = 0.00198720650096 * temperature # ca. 0.59kcal/mol\n",
    "totalSize = 0\n",
    "for file in fepoutFiles:\n",
    "    totalSize += os.path.getsize(file)\n",
    "print(f\"Will process {len(fepoutFiles)} fepout files.\\nTotal size:{np.round(totalSize/10**9, 2)}GB\\nAnticipated RAM requirement: {np.round((totalSize/10**9)**2, 2)}GB\")"
   ]
  },
  {
   "cell_type": "markdown",
   "id": "b39c6c2e",
   "metadata": {},
   "source": [
    "# For large data sets: read, decorrelate, save\n",
    "This reduces RAM requirements between reading and decorrelating\n",
    "\n",
    "Remember: pickles are not future-proof and should not be used for long-term data storage"
   ]
  },
  {
   "cell_type": "code",
   "execution_count": 4,
   "id": "a5eab317",
   "metadata": {},
   "outputs": [],
   "source": [
    "from alchemlyb.preprocessing import subsampling"
   ]
  },
  {
   "cell_type": "code",
   "execution_count": null,
   "id": "86d3fd72",
   "metadata": {},
   "outputs": [
    {
     "name": "stderr",
     "output_type": "stream",
     "text": [
      "  0%|                                                                                                                                                                                                                | 0/104 [00:00<?, ?it/s]/home/ezry/miniconda3/envs/jupEnv/lib/python3.9/site-packages/alchemlyb/preprocessing/subsampling.py:135: FutureWarning: In a future version of pandas all arguments of DataFrame.sort_index will be keyword-only\n",
      "  return df.sort_index(0).reset_index('time').duplicated('time').any()\n",
      "/home/ezry/miniconda3/envs/jupEnv/lib/python3.9/site-packages/alchemlyb/preprocessing/subsampling.py:133: FutureWarning: In a future version of pandas all arguments of Series.sort_index will be keyword-only\n",
      "  return df.sort_index(0).reset_index('time', name='').duplicated('time').any()\n",
      " 84%|██████████████████████████████████████████████████████████████████████████████████████████████████████████████████████████████████████████████████████████████████████▍                                | 87/104 [03:45<00:45,  2.66s/it]"
     ]
    }
   ],
   "source": [
    "method = 'dE'\n",
    "affix = f'decorrelated_{method}'\n",
    "\n",
    "pickles = []\n",
    "idx = 0\n",
    "\n",
    "for file in tqdm(fepoutFiles):\n",
    "    df = readFiles([file])\n",
    "    u_nk = u_nk_fromDF(df, temperature, 10000, warnings=False)\n",
    "\n",
    "    u_nk = subsampling.decorrelate_u_nk(u_nk, method)\n",
    "    pickle = f\"{path}{affix}{idx:03d}.pkl\"\n",
    "    u_nk.to_pickle(pickle)\n",
    "    pickles.append(pickle)\n",
    "    idx +=1"
   ]
  },
  {
   "cell_type": "code",
   "execution_count": null,
   "id": "c341e10c",
   "metadata": {},
   "outputs": [],
   "source": [
    "pickleDFs = []\n",
    "for pickle in pickles:\n",
    "    pickleDFs.append(pd.read_pickle(pickle))\n",
    "\n",
    "u_nk = pd.concat(pickleDFs)"
   ]
  },
  {
   "cell_type": "code",
   "execution_count": null,
   "id": "0a633f5c",
   "metadata": {},
   "outputs": [],
   "source": [
    "u_nk = u_nk.drop(0.975, axis=1) #particular to one use-case"
   ]
  },
  {
   "cell_type": "markdown",
   "id": "52acb028",
   "metadata": {},
   "source": [
    "# Demonstration of equivalence between the above and below methods"
   ]
  },
  {
   "cell_type": "code",
   "execution_count": null,
   "id": "c08f920b",
   "metadata": {},
   "outputs": [],
   "source": [
    "## Demonstrate that AFEP readFiles+u_nk_fromDF is identical to namd.extract_u_nk\n",
    "## readFiles is more space efficient and can handle single files. Only reads each file once. Less input validation than alchemlyb.namd.\n",
    "#u_nk_target = namd.extract_u_nk(fepoutFiles[0:5], temperature)\n",
    "#df = readFiles(fepoutFiles[0:5])\n",
    "#u_nk_test = u_nk_fromDF(df, temperature, 10000)\n",
    "#np.all(u_nk_target.fillna(100)==u_nk_test.fillna(100))"
   ]
  },
  {
   "cell_type": "markdown",
   "id": "523ff4f1",
   "metadata": {},
   "source": [
    "# Small data sets can be read and decorrelated sequentially, if desired\n",
    "See Shirts and Chodera (2008) for more details\n",
    "\n",
    "\"Statistically optimal analysis of samples from multiple equilibrium states\" doi: 10.1063/1.2978177"
   ]
  },
  {
   "cell_type": "code",
   "execution_count": null,
   "id": "3884a069",
   "metadata": {},
   "outputs": [],
   "source": [
    "if totalSize < 10**6:\n",
    "    from alchemlyb.preprocessing import subsampling\n",
    "\n",
    "    u_nk = namd.extract_u_nk(fepoutFiles, temperature)\n",
    "\n",
    "    method = 'dE'\n",
    "    affix = f'decorrelated_{method}'\n",
    "    #affix = 'unprocessed'\n",
    "\n",
    "    groups = u_nk.groupby('fep-lambda')\n",
    "    decorr = pd.DataFrame([])\n",
    "    for key, group in groups:\n",
    "        test = subsampling.decorrelate_u_nk(group, method)\n",
    "        decorr = decorr.append(test)\n",
    "\n",
    "    u_nk = decorr\n",
    "else:\n",
    "    print(f\"Warning: The files you are trying to read are quite large. Total size={totalSize}.\")"
   ]
  },
  {
   "cell_type": "markdown",
   "id": "70f30b9a",
   "metadata": {},
   "source": [
    "# Carry out MBAR Fitting and Analyses"
   ]
  },
  {
   "cell_type": "code",
   "execution_count": null,
   "id": "f773c80f",
   "metadata": {},
   "outputs": [],
   "source": [
    "bar = BAR()\n",
    "bar.fit(u_nk)"
   ]
  },
  {
   "cell_type": "markdown",
   "id": "d4fd1c65",
   "metadata": {},
   "source": [
    "# Extract key features from the MBAR fitting and get ΔG\n",
    "Note: alchemlyb operates in units of kT by default. We multiply by RT to conver to units of kcal/mol."
   ]
  },
  {
   "cell_type": "code",
   "execution_count": null,
   "id": "743510d4",
   "metadata": {},
   "outputs": [],
   "source": [
    "l, l_mid, f, df, ddf, errors = get_MBAR(bar)\n",
    "#print(\"Overall free energy\",df.cumsum() * RT) #in unit of kcal/mol\n",
    "#print(\"Errors\", errors)\n",
    "\n",
    "#Overall delta G*_site\n",
    "#print('')\n",
    "#print('')\n",
    "print(f'\\u0394G = {np.round((df.cumsum()*RT)[-1], 3)}\\u00B1{np.round(errors[-1], 3)} kcal/mol')"
   ]
  },
  {
   "cell_type": "markdown",
   "id": "f157e3e9",
   "metadata": {},
   "source": [
    "# Plot the change in free energy based on MBAR estimates"
   ]
  },
  {
   "cell_type": "code",
   "execution_count": null,
   "id": "e95583ab",
   "metadata": {},
   "outputs": [],
   "source": [
    "# Cumulative change in kT\n",
    "plt.errorbar(l, f, yerr=errors, marker='.')\n",
    "plt.xlabel('lambda')\n",
    "plt.ylabel('DeltaG(lambda) (kT)')\n",
    "plt.title(f'Cumulative dG with accumulated errors {affix}')\n",
    "plt.savefig(f'{path}dG_cumulative_kT_{affix}.png', dpi=600)\n",
    "plt.show()\n",
    "\n",
    "# Cumulative change in kcal/mol\n",
    "plt.errorbar(l, f * RT, yerr=errors*RT, marker='.')\n",
    "plt.xlabel('lambda')\n",
    "plt.ylabel('DeltaG(lambda)(kcal/mol)')\n",
    "plt.savefig(f'{path}dG_cumulative_kcal_per_mol_{affix}.png', dpi=600)\n",
    "plt.show()\n",
    "\n",
    "# Per-window change in kT\n",
    "plt.errorbar(l_mid, df, yerr=ddf, marker='.')\n",
    "plt.xlabel('lambda')\n",
    "plt.ylabel('Delta G per window (kT)')\n",
    "plt.title(f'Per-Window dG with individual errors {affix}')\n",
    "plt.savefig(f'{path}dG_{affix}.png', dpi=600)\n",
    "plt.show()\n"
   ]
  },
  {
   "cell_type": "markdown",
   "id": "a46d72b4",
   "metadata": {},
   "source": [
    "# Plot the estimated total change in free energy as a function of simulation time; contiguous subsets starting at t=0 (\"Forward\") and t=end (\"Reverse\")"
   ]
  },
  {
   "cell_type": "code",
   "execution_count": null,
   "id": "59e78e1e",
   "metadata": {},
   "outputs": [],
   "source": [
    "convergence_plot(u_nk, l)\n",
    "plt.title(f'Convergence {affix}')\n",
    "plt.savefig(f'{path}convergence_{affix}.png', dpi=600)"
   ]
  },
  {
   "cell_type": "markdown",
   "id": "07b19df2",
   "metadata": {},
   "source": [
    "# Use an exponential estimator to assess residual discrepancies and check for hysteresis"
   ]
  },
  {
   "cell_type": "code",
   "execution_count": null,
   "id": "906d7444",
   "metadata": {},
   "outputs": [],
   "source": [
    "l, l_mid, dG_f, dG_b = get_EXP(u_nk)"
   ]
  },
  {
   "cell_type": "code",
   "execution_count": null,
   "id": "7fd42e09",
   "metadata": {},
   "outputs": [],
   "source": [
    "plt.vlines(l_mid, np.zeros(len(l_mid)), dG_f + np.array(dG_b), label=\"fwd - bwd\", linewidth=2)\n",
    "\n",
    "plt.legend()\n",
    "plt.title(f'Fwd-bwd discrepancies by lambda {affix}')\n",
    "plt.xlabel('Lambda')\n",
    "plt.ylabel('Diff. in delta-G')\n",
    "plt.savefig(f'{path}discrepancies_{affix}.png', dpi=600)"
   ]
  },
  {
   "cell_type": "markdown",
   "id": "cc31026a",
   "metadata": {},
   "source": [
    "# The above data should follow a roughly normal distribution centered on 0."
   ]
  },
  {
   "cell_type": "code",
   "execution_count": null,
   "id": "0bb68074",
   "metadata": {},
   "outputs": [],
   "source": [
    "plt.hist(dG_f + np.array(dG_b));\n",
    "plt.title(f'Distribution of fwd-bwd discrepancies {affix}')\n",
    "plt.xlabel('Difference in delta-G')\n",
    "plt.ylabel('Count')\n",
    "plt.savefig(f'{path}distribution_{affix}.png', dpi=600)"
   ]
  },
  {
   "cell_type": "code",
   "execution_count": null,
   "id": "0a98393f",
   "metadata": {},
   "outputs": [],
   "source": []
  },
  {
   "cell_type": "code",
   "execution_count": null,
   "id": "b1621719",
   "metadata": {},
   "outputs": [],
   "source": []
  }
 ],
 "metadata": {
  "kernelspec": {
   "display_name": "Python 3 (ipykernel)",
   "language": "python",
   "name": "python3"
  },
  "language_info": {
   "codemirror_mode": {
    "name": "ipython",
    "version": 3
   },
   "file_extension": ".py",
   "mimetype": "text/x-python",
   "name": "python",
   "nbconvert_exporter": "python",
   "pygments_lexer": "ipython3",
   "version": "3.9.6"
  }
 },
 "nbformat": 4,
 "nbformat_minor": 5
}
