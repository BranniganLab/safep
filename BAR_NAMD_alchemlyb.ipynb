{
 "cells": [
  {
   "cell_type": "code",
   "execution_count": null,
   "metadata": {},
   "outputs": [],
   "source": [
    "# USER PARAMETERS\n",
    "from glob import glob\n",
    "\n",
    "fepoutFiles = glob('your_files_here*.fepout')\n",
    "temperature = 300\n",
    "RT = 0.00198720650096 * temperature\n",
    "\n",
    "print(f\"Will process {len(fepoutFiles)} fepout files.\")\n",
    "# print('\\n'.join(sorted(fepoutFiles)))"
   ]
  },
  {
   "cell_type": "code",
   "execution_count": null,
   "metadata": {},
   "outputs": [],
   "source": [
    "from alchemlyb.parsing import namd\n",
    "from alchemlyb.estimators import BAR\n",
    "import pandas as pd\n",
    "import matplotlib.pyplot as plt\n",
    "import numpy as np\n",
    "from alchemlyb.visualisation.dF_state import plot_dF_state\n",
    "plt.rcParams['figure.dpi'] = 150"
   ]
  },
  {
   "cell_type": "code",
   "execution_count": null,
   "metadata": {},
   "outputs": [],
   "source": [
    "u_nk = namd.extract_u_nk(fepoutFiles, temperature)"
   ]
  },
  {
   "cell_type": "code",
   "execution_count": null,
   "metadata": {},
   "outputs": [],
   "source": [
    "bar = BAR()\n",
    "bar.fit(u_nk)"
   ]
  },
  {
   "cell_type": "code",
   "execution_count": null,
   "metadata": {},
   "outputs": [],
   "source": [
    "# Extract data for plotting\n",
    "states = bar.states_\n",
    "\n",
    "f = bar.delta_f_.iloc[0,:] # dataframe\n",
    "l = np.array([float(s) for s in states])\n",
    "# lambda midpoints for each window\n",
    "l_mid = 0.5*(l[1:] + l[:-1])\n",
    "\n",
    "# FE differences are off diagonal\n",
    "df = np.array([bar.delta_f_.iloc[i, i+1] for i in range(len(states)-1)])\n",
    "print(df.cumsum() * RT)\n",
    "\n",
    "# error estimates are too small because we use correlated data\n",
    "\n",
    "tau = 5e3 # expected correlation length of series\n",
    "\n",
    "# error estimates are off diagonal\n",
    "ddf = np.array([bar.d_delta_f_.iloc[i, i+1] for i in range(len(states)-1)]) * np.sqrt(tau)\n",
    "\n",
    "# Accumulate errors as sum of squares\n",
    "errors = np.array([np.sqrt((ddf[:i]**2).sum()) for i in range(len(states))])\n",
    "print(\"Errors\", errors)"
   ]
  },
  {
   "cell_type": "code",
   "execution_count": null,
   "metadata": {},
   "outputs": [],
   "source": [
    "plt.errorbar(l, f, yerr=errors, marker='.')\n",
    "plt.xlabel('lambda')\n",
    "plt.ylabel('DeltaG(lambda) (kT)')\n",
    "plt.show()\n",
    "\n",
    "plt.errorbar(l_mid, df, yerr=ddf, marker='.')\n",
    "plt.xlabel('lambda')\n",
    "plt.ylabel('Delta G per window (kT)')\n",
    "plt.show()"
   ]
  },
  {
   "cell_type": "code",
   "execution_count": null,
   "metadata": {},
   "outputs": [],
   "source": [
    "grouped = u_nk.groupby('fep-lambda')\n",
    "data_list = [grouped.get_group(s) for s in states]\n",
    "\n",
    "forward = []\n",
    "forward_error = []\n",
    "backward = []\n",
    "backward_error = []\n",
    "num_points = 10\n",
    "for i in range(1, num_points+1):\n",
    "    # forward\n",
    "    partial = pd.concat([data[:int(len(data)/num_points*i)] for data in data_list])\n",
    "    estimate = BAR().fit(partial)\n",
    "    forward.append(estimate.delta_f_.iloc[0,-1])\n",
    "    # For BAR, the error estimates are off-diagonal\n",
    "    ddf = [estimate.d_delta_f_.iloc[i+1,i] * np.sqrt(tau) for i in range(len(states)-1)]\n",
    "    error = np.sqrt((np.array(ddf)**2).sum())\n",
    "    forward_error.append(error)\n",
    "\n",
    "    # backward\n",
    "    partial = pd.concat([data[-int(len(data)/num_points*i):] for data in data_list])\n",
    "    estimate = BAR().fit(partial)\n",
    "    backward.append(estimate.delta_f_.iloc[0,-1])\n",
    "    ddf = [estimate.d_delta_f_.iloc[i+1,i] * np.sqrt(tau) for i in range(len(states)-1)]\n",
    "    error = np.sqrt((np.array(ddf)**2).sum())\n",
    "    backward_error.append(error)\n",
    "\n",
    "from alchemlyb.visualisation import plot_convergence\n",
    "ax = plot_convergence(forward, forward_error, backward, backward_error)\n",
    "# ax.set_ylim(-40, -36)"
   ]
  },
  {
   "cell_type": "code",
   "execution_count": null,
   "metadata": {},
   "outputs": [],
   "source": [
    "u_nk = u_nk.sort_index(level=u_nk.index.names[1:])\n",
    "states = u_nk.columns.values.tolist()\n",
    "l = np.array([float(s) for s in states])\n",
    "# lambda midpoints for each window\n",
    "l_mid = 0.5*(l[1:] + l[:-1])\n",
    "\n",
    "# group u_nk by lambda states\n",
    "groups = u_nk.groupby(level=u_nk.index.names[1:])\n",
    "N_k = [(len(groups.get_group(i)) if i in groups.groups else 0) for i in u_nk.columns]\n",
    "dG_f = []\n",
    "dG_b = []\n",
    "\n",
    "for k in range(len(N_k) - 1):\n",
    "    # get us from lambda step k\n",
    "    uk = groups.get_group(states[k])\n",
    "    # get w_F\n",
    "    w_f = uk.iloc[:, k+1] - uk.iloc[:, k]\n",
    "    dG_f.append(np.log(np.mean(np.exp(-1*w_f))))\n",
    "    #plt.plot(np.array(w_f))\n",
    "\n",
    "    # get us from lambda step k+1\n",
    "    uk1 = groups.get_group(states[k+1])\n",
    "    # get w_R\n",
    "    w_b = uk1.iloc[:, k] - uk1.iloc[:, k+1]\n",
    "    dG_b.append(np.log(np.mean(np.exp(-1*w_b))))\n",
    "\n",
    "# plt.plot(l_mid, dG_f, '+', label=\"exp, fwd\", markersize=10)\n",
    "# plt.plot(l_mid, -1. * np.array(dG_b), '+', label=\"exp, bwd\", markersize=10)\n",
    "# plt.plot(l_mid, df, label=\"BAR\")\n",
    "plt.vlines(l_mid, np.zeros(len(l_mid)), dG_f + np.array(dG_b), label=\"fwd - bwd\", linewidth=3)\n",
    "plt.legend()\n",
    "plt.title('Fwd-bwd discrepancies by lambda')\n",
    "plt.xlabel('Lambda')\n",
    "plt.ylabel('Diff. in delta-G')"
   ]
  },
  {
   "cell_type": "code",
   "execution_count": null,
   "metadata": {},
   "outputs": [],
   "source": [
    "plt.hist(dG_f + np.array(dG_b), bins=50);\n",
    "plt.title('Distribution of fwd-bwd discrepancies')\n",
    "plt.xlabel('Difference in delta-G')\n",
    "plt.ylabel('Count')"
   ]
  },
  {
   "cell_type": "code",
   "execution_count": null,
   "metadata": {},
   "outputs": [],
   "source": []
  }
 ],
 "metadata": {
  "kernelspec": {
   "display_name": "Python 3",
   "language": "python",
   "name": "python3"
  },
  "language_info": {
   "codemirror_mode": {
    "name": "ipython",
    "version": 3
   },
   "file_extension": ".py",
   "mimetype": "text/x-python",
   "name": "python",
   "nbconvert_exporter": "python",
   "pygments_lexer": "ipython3",
   "version": "3.8.5"
  }
 },
 "nbformat": 4,
 "nbformat_minor": 4
}
