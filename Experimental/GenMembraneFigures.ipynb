{
 "cells": [
  {
   "cell_type": "markdown",
   "id": "fd0bd302",
   "metadata": {},
   "source": [
    "# Import necessary libraries\n",
    "SAFEP_parse.py contains all the functions and library calls necessary to run the notebook\n",
    "# Required libraries:\n",
    "- numpy\n",
    "- pandas\n",
    "- matplotlib\n",
    "- alchemlyb (pip install git+https://github.com/alchemistry/alchemlyb)\n",
    "- natsort (for sorting file names)\n",
    "- glob (for unix-like file paths)\n",
    "\n"
   ]
  },
  {
   "cell_type": "markdown",
   "id": "28c611cf-9400-4bbe-b8c1-fe4b8d66ab73",
   "metadata": {},
   "source": [
    "# IMPORTANT: Make sure the temperature (set below) matches the temperature you used to run the simulations."
   ]
  },
  {
   "cell_type": "code",
   "execution_count": null,
   "id": "24b359ee-0ad8-4cb8-8ff6-5e6d1f12ec40",
   "metadata": {},
   "outputs": [],
   "source": [
    "%cd ..\n",
    "%pwd"
   ]
  },
  {
   "cell_type": "code",
   "execution_count": null,
   "id": "708b4d0d",
   "metadata": {},
   "outputs": [],
   "source": [
    "import warnings\n",
    "import logging\n",
    "import copy\n",
    "from AFEP_parse import *\n",
    "import matplotlib as mpl\n",
    "plt.rcParams['figure.dpi'] = 150\n",
    "\n",
    "logging.captureWarnings(True)\n",
    "warnings.simplefilter(action='ignore', category=FutureWarning)\n",
    "#logger = logging.getLogger(\"alchemlyb.parsers.NAMD\")\n",
    "#logging.disable(level='CRITICAL')"
   ]
  },
  {
   "cell_type": "code",
   "execution_count": null,
   "id": "a8b847bd-0213-4ca9-8058-42da4be35497",
   "metadata": {},
   "outputs": [],
   "source": [
    "def checkPaths(paths, nDone):\n",
    "    goodpaths = []\n",
    "    for path in paths:\n",
    "        feps = glob(path+pattern)\n",
    "        countDone = 0\n",
    "        for fep in feps:\n",
    "            with open(fep) as f:\n",
    "                if 'Free' in f.read():\n",
    "                    countDone+=1\n",
    "        if countDone == nDone:\n",
    "            goodpaths.append(path)\n",
    "    \n",
    "    return goodpaths"
   ]
  },
  {
   "cell_type": "code",
   "execution_count": null,
   "id": "3a0ed1eb-ac97-4e8d-b61c-9dec823ae935",
   "metadata": {},
   "outputs": [],
   "source": [
    "def processLeg(paths, RT, decorrelate, pattern, temperature, detectEQ):\n",
    "    u_nks, cumulative, perWindow, affix = batchProcess(paths, RT, decorrelate, pattern, temperature, detectEQ)\n",
    "\n",
    "    perWindow[('mean', 'df')] = np.mean(perWindow.loc[:, (slice(None), 'df')], axis=1)\n",
    "    perWindow[('mean', 'ddf')] = np.mean(perWindow.loc[:, (slice(None), 'ddf')], axis=1)\n",
    "    perWindow[('mean', 'dG_f')] = np.mean(perWindow.loc[:, (slice(None), 'dG_f')], axis=1)\n",
    "    perWindow[('mean', 'dG_b')] = np.mean(perWindow.loc[:, (slice(None), 'dG_b')], axis=1)\n",
    "\n",
    "    reps = list(set(perWindow.columns.get_level_values(0)))\n",
    "    for key in reps:\n",
    "        perWindow[(key, 'diff')] = perWindow[(key, 'dG_f')]+perWindow[(key, 'dG_b')]\n",
    "\n",
    "    keys = set(cumulative.columns.get_level_values(0))\n",
    "    colors = ['#0072B2', '#D55E00', '#CC79A7', '#009E73', '#E69F00', '#56B4E9']\n",
    "    keyColors = {}\n",
    "    i = 0\n",
    "    for key in keys:\n",
    "        keyColors[key] = colors[i]\n",
    "        i += 1\n",
    "\n",
    "    return reps, keyColors, u_nks, cumulative, perWindow, affix"
   ]
  },
  {
   "cell_type": "code",
   "execution_count": null,
   "id": "7ff7e76f-9f53-4c02-8190-948581d710fb",
   "metadata": {},
   "outputs": [],
   "source": [
    "def processAllLegs(root, prefixes, nDone=41, checkReplicas=False, dry=False):\n",
    "    meta_unks = {}\n",
    "    meta_cumulative = {}\n",
    "    meta_perWindow = {}\n",
    "    meta_affix = {}\n",
    "    meta_keyColors = {}\n",
    "    meta_reps = {}\n",
    "    feps = np.round(np.linspace(0, 1, nDone),3)\n",
    "    meta_fs = {}\n",
    "    meta_bs = {}\n",
    "    meta_bes = {}\n",
    "    meta_fes = {}\n",
    "    for prefix in prefixes:\n",
    "        #print(root)\n",
    "        #print(prefix)\n",
    "        #print(glob(root+'/'+prefix+'*/'))\n",
    "        paths = glob(root+prefix+'*/')\n",
    "        if checkReplicas==True:\n",
    "            paths = checkPaths(paths, nDone)\n",
    "        if len(paths)==0:\n",
    "            print(f\"WARNING: Skipping {root+prefix}\")\n",
    "        elif not dry:\n",
    "            print(paths)\n",
    "            reps, keyColors, u_nks, cumulative, perWindow, affix = processLeg(paths, RT, decorrelate, pattern, temperature, detectEQ)\n",
    "\n",
    "            meta_reps[prefix] = reps\n",
    "            meta_keyColors[prefix] = keyColors\n",
    "            meta_unks[prefix] = u_nks\n",
    "            meta_cumulative[prefix] = cumulative\n",
    "            meta_perWindow[prefix] = perWindow\n",
    "            meta_affix[prefix] = affix\n",
    "\n",
    "            fs = {}\n",
    "            bs = {}\n",
    "            fes = {}\n",
    "            bes = {}\n",
    "\n",
    "            for l in [x for x in meta_reps[prefix] if x != \"mean\"]:\n",
    "                u_nks = meta_unks[prefix]\n",
    "                forward, forward_error, backward, backward_error = doConvergence(u_nks[l], feps)\n",
    "                fs[l] = forward\n",
    "                fes[l] = forward_error\n",
    "                bs[l] = backward\n",
    "                bes[l] = backward_error\n",
    "\n",
    "            meta_fs[prefix]=fs\n",
    "            meta_bs[prefix]=bs\n",
    "            meta_fes[prefix]=fes\n",
    "            meta_bes[prefix]=bes\n",
    "    \n",
    "    return {'unks':meta_unks, 'cumulatives':meta_cumulative, 'perWins':meta_perWindow, 'affixes':meta_affix, 'keyColors':meta_keyColors, 'reps':meta_reps, 'fs':meta_fs, 'bs':meta_bs, 'fes':meta_fs, 'bes':meta_bes}"
   ]
  },
  {
   "cell_type": "code",
   "execution_count": null,
   "id": "210c2d50",
   "metadata": {},
   "outputs": [],
   "source": [
    "## Membranes\n",
    "root = '/home/ems363/Documents/ELIC_DCDs_Analyses/'\n",
    "#root = '/home/ezry/winHome/Documents/ELIC_Data/ELIC/'\n",
    "systems = ['PCPGPE211', 'PCPG31', 'POPC120']\n",
    "longSysNames = {'PCPGPE211':r'$\\rm2_{POPC}:1_{POPE}:1_{POPG}$', 'PCPG31':r'$\\rm3_{POPC}:1_{POPG}$', 'POPC120':'POPC'}\n",
    "\n",
    "prefixes = ['POCE', 'POCG', 'POEG', 'POGE']\n",
    "longNames = {'POCE':'POPC to POPE', 'POCG':'POPC to POPG', 'POEG':'POPE to POPG', 'POGE':'POPG to POPE'}\n",
    "\n",
    "pattern = 'PO*fepout'\n",
    "checkReplicas = True"
   ]
  },
  {
   "cell_type": "code",
   "execution_count": null,
   "id": "8f690f64-6bef-4e59-a9b3-6d2432ffa0e3",
   "metadata": {},
   "outputs": [],
   "source": [
    "temperature = 303.15\n",
    "RT = 0.00198720650096 * temperature # ca. 0.59kcal/mol\n",
    "decorrelate = True #Flag for decorrelation of samples\n",
    "detectEQ = False #Flag for automated equilibrium detection\n",
    "DiscrepancyFitting = 'LS' #ML = fit PDF of discrepancies with a normal distribution maximum likelihood estimator. LS = fit CDF of discrepancies with a normal distribution least-squares estimator"
   ]
  },
  {
   "cell_type": "code",
   "execution_count": null,
   "id": "b7b04d2d-2fce-4651-8bf8-4586dd516b61",
   "metadata": {
    "tags": []
   },
   "outputs": [],
   "source": [
    "allSys = {}\n",
    "\n",
    "for sys in systems:\n",
    "    allSys[sys] = processAllLegs(root+sys+'/', prefixes, 41, checkReplicas=False, dry=False)"
   ]
  },
  {
   "cell_type": "code",
   "execution_count": null,
   "id": "2cef44ac-7953-4df9-b763-887e79410ce2",
   "metadata": {
    "tags": []
   },
   "outputs": [],
   "source": [
    "allSys['PCPGPE211'] = processAllLegs(root+'PCPGPE211'+'/', prefixes, 41)"
   ]
  },
  {
   "cell_type": "code",
   "execution_count": null,
   "id": "41c0c4f1-f271-4822-a0bf-5124df02683f",
   "metadata": {},
   "outputs": [],
   "source": []
  },
  {
   "cell_type": "code",
   "execution_count": null,
   "id": "986804ec-839d-447a-aa2f-c311fd4b5ac0",
   "metadata": {},
   "outputs": [],
   "source": [
    "#Uniquely necessary for PCPG3:1 membrane system\n",
    "\n",
    "for dat in allSys['PCPG31'].keys():\n",
    "    allSys['PCPG31'][dat]['POEG'] = copy.deepcopy(allSys['PCPG31'][dat]['POGE'])"
   ]
  },
  {
   "cell_type": "code",
   "execution_count": null,
   "id": "241eccac-5b9e-4033-b769-8aa650a91a1f",
   "metadata": {},
   "outputs": [],
   "source": [
    "def cumulativePlot(system, leg, keys, keyColors, theax):\n",
    "    cumulative = system['cumulatives'][leg]\n",
    "    X = cumulative.index\n",
    "    for key in keys:\n",
    "        Y = cumulative[(key, 'f')]*RT\n",
    "        theColor = keyColors[key]\n",
    "        theax.plot(X, Y, marker=None, label=key, linewidth=1, color=theColor)\n",
    "        #finalMean = cumulative.loc[1].iloc[0]*RT\n",
    "        finalMean = np.mean(cumulative.loc[1, (slice(None), 'f')])\n",
    "    theax.axhline(finalMean*RT, color='gray', linestyle='-.', linewidth=1)\n",
    "    \n",
    "    return theax\n",
    "\n",
    "\n",
    "def convergencePlot(system, leg, keys, keyColors, theax):\n",
    "    fs = system['fs'][leg]\n",
    "    bs = system['bs'][leg]\n",
    "    for l in [x for x in keys if x != \"mean\"]:\n",
    "        theax.plot(np.arange(len(fs[l]))/len(fs[l])+0.1, np.multiply(fs[l], RT), marker='o', linewidth=1, color=keyColors[l], markerfacecolor='white', markeredgewidth=1, markeredgecolor=keyColors[l], ms=5)\n",
    "        theax.plot(np.arange(len(bs[l]))/len(fs[l])+0.1, np.multiply(bs[l], RT), marker='o', linewidth=1, color=keyColors[l], markerfacecolor='white', markeredgewidth=1, markeredgecolor=keyColors[l], ms=5, linestyle='--')\n",
    "\n",
    "    theax.xaxis.set_ticks([0, 0.2, 0.4, 0.6, 0.8, 1])\n",
    "    \n",
    "    cumulative = system['cumulatives'][leg]\n",
    "    finalMean = np.mean(cumulative.loc[1, (slice(None), 'f')])\n",
    "    theax.axhline(y= finalMean*RT, linestyle='-.', color='gray')\n",
    "    theax.plot(0, finalMean*RT, linewidth=1, color='black', label='Forward Time Sampling')\n",
    "    theax.plot(0, finalMean*RT, linewidth=1, color='black', linestyle='--', label='Backward Time Sampling')\n",
    "\n",
    "    #theax.legend()\n",
    "    \n",
    "    return theax\n",
    "\n",
    "\n",
    "def hysteresisPlot(system, leg, keys, keyColors, theax):\n",
    "    perWindow = system['perWins'][leg]\n",
    "    # Hysteresis plot\n",
    "    for key in keys:\n",
    "        #plt.vlines(perWindow.index, np.zeros(len(perWindow)), perWindow[(key, 'dG_f')] + perWindow[(key, 'dG_b')], label=key, linewidth=2)\n",
    "        theax.plot(perWindow.index, perWindow[(key, 'diff')]*RT, label=key, linewidth=0.5, alpha=0.8, color=keyColors[key])\n",
    "\n",
    "    theax.plot(perWindow.index, perWindow[('mean', 'diff')]*RT, label='mean', linewidth=1.5, color='black')\n",
    "\n",
    "    theax.set(ylim=(-1.25, 1.25))\n",
    "\n",
    "    return theax\n",
    "\n",
    "    \n",
    "def hysteresisPDF(system, leg, keys, keyColors, theax):\n",
    "    \n",
    "    perWindow = system['perWins'][leg]\n",
    "    # Hysteresis PDF\n",
    "    diff = perWindow.loc[:, (slice(None), 'diff')]*RT\n",
    "    X = diff.drop(columns='mean') #Including the mean in here would underestimate the skewness of the distribution\n",
    "    Y = np.arange(len(X))/len(X)\n",
    "    binNum = 20\n",
    "    pdfY, pdfX = np.histogram(X, bins=binNum, density=True)\n",
    "    pdfX = (pdfX[1:]+pdfX[:-1])/2\n",
    "\n",
    "\n",
    "    #plot the data\n",
    "    theax.plot(pdfX, pdfY,  label=\"Estimated Distribution\")\n",
    "    theax.set(xlim=(-1.25, 1.25))\n",
    "    \n",
    "    return theax\n",
    "\n",
    "\n",
    "def makePlots(allSys, systems, prefixes, xlabel, ylabel, doPlot, sharey=True, sharex=True):\n",
    "    fig, theaxes = plt.subplots(3,len(systems), sharex=sharex, sharey=sharey)\n",
    "    pad = 5 # in points\n",
    "    \n",
    "    for sysID in np.arange(len(systems)):\n",
    "        sysName = systems[sysID]\n",
    "        system = allSys[sysName]\n",
    "        print(f'Now making figures for: {sysName}')\n",
    "        theaxes[2, sysID].set(xlabel=xlabel)\n",
    "        theaxes[0, sysID].annotate(longSysNames[sysName], xy=(0.5, 1), xytext=(0, pad),\n",
    "                    xycoords='axes fraction', textcoords='offset points',\n",
    "                    size='large', ha='center', va='baseline')\n",
    "        for prefID in np.arange(len(prefixes)):\n",
    "            # Cumulative change in kT \n",
    "            leg = prefixes[prefID]\n",
    "            try:\n",
    "                keys = system['keyColors'][leg]\n",
    "                keyColors = system['keyColors'][leg]\n",
    "                theaxes[prefID, 0].set(ylabel=ylabel)\n",
    "                theaxes[prefID, 0].annotate(longNames[leg], xy=(0, 0.5), xytext=(-theaxes[prefID, 0].yaxis.labelpad - pad, 0),\n",
    "                        xycoords=theaxes[prefID, 0].yaxis.label, textcoords='offset points',\n",
    "                        size='large', ha='right', va='center', rotation=90)\n",
    "\n",
    "                theax = doPlot(system, leg, keys, keyColors, theaxes[prefID, sysID])\n",
    "            except:\n",
    "                continue\n",
    "            \n",
    "    fig.set_figheight(10)\n",
    "    fig.set_figwidth(8)\n",
    "    fig.tight_layout()\n",
    "    \n",
    "    return fig, theaxes\n"
   ]
  },
  {
   "cell_type": "code",
   "execution_count": null,
   "id": "aa1a9195-61d1-4962-9beb-f5471e851d7c",
   "metadata": {},
   "outputs": [],
   "source": [
    "fig, theaxes = makePlots(allSys, systems, prefixes, xlabel=r'$\\rm\\delta_{\\lambda}$ (kcal/mol)', ylabel='PDF', doPlot=hysteresisPDF, sharey=True)\n",
    "plt.savefig(f\"{root}/DRAFT_S3.pdf\")"
   ]
  },
  {
   "cell_type": "code",
   "execution_count": null,
   "id": "85a977ef-1d3e-42a1-9ae4-84d2e5162a79",
   "metadata": {},
   "outputs": [],
   "source": [
    "fig, theaxes = makePlots(allSys, systems, prefixes, xlabel=r'$\\rm\\lambda$', ylabel=r'$\\rm\\delta_{\\lambda}$ (kcal/mol)', doPlot=hysteresisPlot, sharey='row')\n",
    "plt.savefig(f\"{root}/DRAFT_S2.pdf\")"
   ]
  },
  {
   "cell_type": "code",
   "execution_count": null,
   "id": "6355f0b4-4fb1-49de-aca6-48d538a9bdfc",
   "metadata": {},
   "outputs": [],
   "source": [
    "for x in allSys['PCPG31']['fs']['POGE'].keys():\n",
    "    allSys['PCPG31']['fs']['POEG'][x] = np.multiply(copy.deepcopy(allSys['PCPG31']['fs']['POGE'][x]), -1)\n",
    "    \n",
    "for x in allSys['PCPG31']['bs']['POGE'].keys():\n",
    "    allSys['PCPG31']['bs']['POEG'][x] = np.multiply(copy.deepcopy(allSys['PCPG31']['bs']['POGE'][x]), -1)\n",
    "                                                    "
   ]
  },
  {
   "cell_type": "code",
   "execution_count": null,
   "id": "165626f2-a336-4f1a-8509-b07e1deb9106",
   "metadata": {},
   "outputs": [],
   "source": [
    "fig, theaxes = makePlots(allSys, systems, prefixes, xlabel='Fraction of simulation time', ylabel=r'$\\rm\\Delta G (kcal/mol)$', doPlot=convergencePlot, sharey='row')\n",
    "plt.savefig(f\"{root}/DRAFT_S1.pdf\")"
   ]
  },
  {
   "cell_type": "code",
   "execution_count": null,
   "id": "144c94be-b557-4be8-bbaa-22c6b5b8e607",
   "metadata": {},
   "outputs": [],
   "source": [
    "for x in allSys['PCPG31']['cumulatives']['POEG'].keys():\n",
    "    baseline = allSys['PCPG31']['cumulatives']['POGE'][x].iloc[-1]*-1\n",
    "    allSys['PCPG31']['cumulatives']['POEG'][x] = (copy.deepcopy(allSys['PCPG31']['cumulatives']['POGE'][x]) + baseline)\n",
    "    temp = np.flip(allSys['PCPG31']['cumulatives']['POEG'][x])\n",
    "    temp.index = allSys['PCPG31']['cumulatives']['POEG'][x].index\n",
    "    \n",
    "    allSys['PCPG31']['cumulatives']['POEG'][x] = copy.deepcopy(temp)"
   ]
  },
  {
   "cell_type": "code",
   "execution_count": null,
   "id": "0e054182-fab3-484e-b7fe-9c8eb5898e59",
   "metadata": {},
   "outputs": [],
   "source": [
    "allSys['PCPGPE211']['keyColors']['POEG']['POEG_Good'] = '#000000'"
   ]
  },
  {
   "cell_type": "code",
   "execution_count": null,
   "id": "f5680e55-be50-4f13-8cd4-f982235522b6",
   "metadata": {},
   "outputs": [],
   "source": [
    "fig, dGaxes = makePlots(allSys, systems, prefixes, xlabel=r'$\\rm\\lambda$', ylabel=fr'Cumulative $\\rm\\Delta$G($\\rm\\lambda$) (kcal/mol)', doPlot=cumulativePlot)\n",
    "plt.savefig(f\"{root}/DRAFT_S4.pdf\")"
   ]
  },
  {
   "cell_type": "code",
   "execution_count": null,
   "id": "318dcde4-035c-49d6-bebc-52088920376b",
   "metadata": {},
   "outputs": [],
   "source": []
  },
  {
   "cell_type": "code",
   "execution_count": null,
   "id": "c594967a-e7ac-4bc9-87a9-753b43abe7df",
   "metadata": {},
   "outputs": [],
   "source": []
  },
  {
   "cell_type": "code",
   "execution_count": null,
   "id": "0596395a-70d2-49f8-be16-3ac4c9634aff",
   "metadata": {},
   "outputs": [],
   "source": []
  },
  {
   "cell_type": "code",
   "execution_count": null,
   "id": "2897f0f9-9e48-4e7f-bdb3-6a06317bd5a6",
   "metadata": {},
   "outputs": [],
   "source": []
  }
 ],
 "metadata": {
  "kernelspec": {
   "display_name": "Python 3 (ipykernel)",
   "language": "python",
   "name": "python3"
  },
  "language_info": {
   "codemirror_mode": {
    "name": "ipython",
    "version": 3
   },
   "file_extension": ".py",
   "mimetype": "text/x-python",
   "name": "python",
   "nbconvert_exporter": "python",
   "pygments_lexer": "ipython3",
   "version": "3.9.12"
  }
 },
 "nbformat": 4,
 "nbformat_minor": 5
}
