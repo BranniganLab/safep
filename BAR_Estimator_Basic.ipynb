{
 "cells": [
  {
   "cell_type": "markdown",
   "id": "a6967640",
   "metadata": {},
   "source": [
    "# Import AFEP_parse and dependencies\n",
    "AFEP_parse.py contains all the functions and library calls necessary to run the notebook\n",
    "\n",
    "# Required modules:\n",
    "- numpy\n",
    "- pandas\n",
    "- matplotlib\n",
    "- alchemlyb (`pip install git+https://github.com/alchemistry/alchemlyb`)\n",
    "- natsort (for sorting file names)\n",
    "- glob (for unix-like file paths)"
   ]
  },
  {
   "cell_type": "code",
   "execution_count": null,
   "id": "708b4d0d",
   "metadata": {},
   "outputs": [],
   "source": [
    "from AFEP_parse import *\n",
    "import warnings\n",
    "warnings.simplefilter(action='ignore', category=FutureWarning)\n",
    "\n",
    "import os"
   ]
  },
  {
   "cell_type": "markdown",
   "id": "a9d06104",
   "metadata": {},
   "source": [
    "# User parameters"
   ]
  },
  {
   "cell_type": "code",
   "execution_count": null,
   "id": "e67078a6",
   "metadata": {},
   "outputs": [],
   "source": [
    "path='/home/ems363/Documents/POEC_1/JH_data/POCG/FEP_data/'\n",
    "filename='*.fepout'\n",
    "\n",
    "temperature = 303.15\n",
    "RT = 0.00198720650096 * temperature"
   ]
  },
  {
   "cell_type": "markdown",
   "id": "33252809",
   "metadata": {},
   "source": [
    "## IMPORTANT: Make sure the temperature above matches the temperature used to run the simulations."
   ]
  },
  {
   "cell_type": "code",
   "execution_count": null,
   "id": "210c2d50",
   "metadata": {},
   "outputs": [],
   "source": [
    "fepoutFiles = glob(path+filename)\n",
    "totalSize = 0\n",
    "for file in fepoutFiles:\n",
    "    totalSize += os.path.getsize(file)\n",
    "print(f\"Will process {len(fepoutFiles)} fepout files.\\nTotal size:{np.round(totalSize/10**9, 2)}GB\")"
   ]
  },
  {
   "cell_type": "code",
   "execution_count": null,
   "id": "dfb3aa52-17f1-44fc-afd8-dfda2787cf32",
   "metadata": {},
   "outputs": [],
   "source": [
    "fepoutFiles = natsorted(fepoutFiles)\n",
    "maxSize = 10**9 #Don't use the alchemlyb parser if larger than this size. (bytes)\n",
    "decorrelate = True #Flag for decorrelation of samples\n",
    "detectEQ = True #Flag for automated equilibrium detection\n",
    "DiscrepancyFitting = 'LS' #ML = fit PDF of discrepancies with a normal distribution maximum likelihood estimator. LS = fit CDF of discrepancies with a normal distribution least-squares estimator"
   ]
  },
  {
   "cell_type": "markdown",
   "id": "a94bee8b",
   "metadata": {
    "tags": []
   },
   "source": [
    "# Read Data\n",
    "See Shirts and Chodera (2008) for more details\n",
    "\n",
    "\"Statistically optimal analysis of samples from multiple equilibrium states\" doi: 10.1063/1.2978177"
   ]
  },
  {
   "cell_type": "code",
   "execution_count": null,
   "id": "ab9fd1c6",
   "metadata": {},
   "outputs": [],
   "source": [
    "if totalSize < maxSize:\n",
    "    u_nk, affix = readAndProcess(fepoutFiles, temperature, decorrelate, detectEQ)\n",
    "    \n",
    "else:\n",
    "    print(f\"Warning: The files you are trying to read are quite large. Total size={totalSize}.\\nTry the read, decorrelate, save method in the Expanded version of this notebook or increase the maxSize variable above.\\nIn the future, consider using less frequent sampling (e.g. every 100 steps).\")"
   ]
  },
  {
   "cell_type": "markdown",
   "id": "9ea039c3",
   "metadata": {},
   "source": [
    "# Carry out MBAR Fitting and Analyses"
   ]
  },
  {
   "cell_type": "code",
   "execution_count": null,
   "id": "4d681247-b508-4940-9622-2650864e2425",
   "metadata": {},
   "outputs": [],
   "source": [
    "u_nk = u_nk.sort_index(level=1)"
   ]
  },
  {
   "cell_type": "code",
   "execution_count": null,
   "id": "b2c8683d",
   "metadata": {},
   "outputs": [],
   "source": [
    "bar = BAR()\n",
    "bar.fit(u_nk)"
   ]
  },
  {
   "cell_type": "markdown",
   "id": "30721156",
   "metadata": {},
   "source": [
    "# Extract key features from the MBAR fitting and get ΔG\n",
    "Note: alchemlyb operates in units of kT by default. We multiply by RT to convert to units of kcal/mol."
   ]
  },
  {
   "cell_type": "code",
   "execution_count": null,
   "id": "7e81f216",
   "metadata": {},
   "outputs": [],
   "source": [
    "l, l_mid, f, df, ddf, errors = get_BAR(bar)\n",
    "changeAndError = f'\\u0394G = {np.round(f.iloc[-1]*RT, 1)}\\u00B1{np.round(errors[-1]*RT, 3)} kcal/mol'\n",
    "print(changeAndError)"
   ]
  },
  {
   "cell_type": "markdown",
   "id": "a51aba3b",
   "metadata": {},
   "source": [
    "# Plot the change in free energy based on MBAR estimates"
   ]
  },
  {
   "cell_type": "code",
   "execution_count": null,
   "id": "bac26b22",
   "metadata": {},
   "outputs": [],
   "source": [
    "# Cumulative change in kT\n",
    "plt.errorbar(l, f, yerr=errors, marker='.')\n",
    "plt.xlabel('lambda')\n",
    "plt.ylabel('DeltaG(lambda) (kT)')\n",
    "plt.title(f'Cumulative dG with accumulated errors {affix}\\n{changeAndError}')\n",
    "plt.savefig(f'{path}dG_cumulative_kT_{affix}.png', dpi=600)\n",
    "plt.show()\n",
    "\n",
    "# Cumulative change in kcal/mol\n",
    "\"\"\"\n",
    "plt.errorbar(l, f * RT, yerr=errors*RT, marker='.')\n",
    "plt.xlabel('lambda')\n",
    "plt.ylabel('DeltaG(lambda)(kcal/mol)')\n",
    "plt.savefig(f'{path}dG_cumulative_kcal_per_mol_{affix}.png', dpi=600)\n",
    "plt.show()\n",
    "\"\"\"\n",
    "# Per-window change in kT\n",
    "plt.errorbar(l_mid, df, yerr=ddf, marker='.')\n",
    "plt.xlabel('lambda')\n",
    "plt.ylabel('Delta G per window (kT)')\n",
    "plt.title(f'Per-Window dG with individual errors {affix}')\n",
    "plt.savefig(f'{path}dG_{affix}.png', dpi=600)\n",
    "plt.show()\n",
    "\n",
    "# Per-window change in kT\n",
    "\n",
    "plt.errorbar(l[1:-1], np.diff(df), marker='.')\n",
    "plt.xlabel('lambda (L)')\n",
    "plt.ylabel(\"dG'(L)\")\n",
    "plt.title(f'derivative of dG {affix}')\n",
    "plt.savefig(f'{path}dG_prime_{affix}.png', dpi=600)\n",
    "plt.show()\n"
   ]
  },
  {
   "cell_type": "markdown",
   "id": "c7f90d8c",
   "metadata": {},
   "source": [
    "# Plot the estimated total change in free energy as a function of simulation time; contiguous subsets starting at t=0 (\"Forward\") and t=end (\"Reverse\")"
   ]
  },
  {
   "cell_type": "code",
   "execution_count": null,
   "id": "c61a5679-7583-4f68-8acc-a225d756cb9b",
   "metadata": {
    "tags": []
   },
   "outputs": [],
   "source": [
    "fs, ferr, bs, berr = doConvergence(u_nk)"
   ]
  },
  {
   "cell_type": "code",
   "execution_count": null,
   "id": "2949092b-d1b2-44a8-acb0-3dad78402c16",
   "metadata": {},
   "outputs": [],
   "source": [
    "fig, ax = plt.subplots(1,1, figsize=(8,6))\n",
    "ax = convergencePlot(ax, fs*RT, ferr*RT, bs*RT, berr*RT, fwdColor='#0072B2', bwdColor='#D55E00')\n",
    "ax.legend(fontsize=20)\n",
    "ax.set_ylabel(r'$\\rm\\Delta G$ (kcal/mol)', fontsize=20)\n",
    "ax.set_xlabel('Fraction of Simulation Time', fontsize=20)\n",
    "plt.xticks(fontsize=16)\n",
    "plt.yticks(fontsize=16)\n",
    "fig.tight_layout()\n",
    "plt.savefig(f'{path}convergence_{affix}.png', dpi=600)\n",
    "plt.savefig(f'{path}convergence_{affix}.pdf')\n",
    "plt.savefig(f'{path}FEP_convergence.pdf')"
   ]
  },
  {
   "cell_type": "markdown",
   "id": "9b6709db",
   "metadata": {},
   "source": [
    "# Use an exponential estimator to assess residual discrepancies and check for hysteresis"
   ]
  },
  {
   "cell_type": "code",
   "execution_count": null,
   "id": "b5da24e3",
   "metadata": {
    "tags": []
   },
   "outputs": [],
   "source": [
    "l, l_mid, dG_f, dG_b = get_EXP(u_nk)"
   ]
  },
  {
   "cell_type": "code",
   "execution_count": null,
   "id": "c3b501c4",
   "metadata": {},
   "outputs": [],
   "source": [
    "# fig, ax = plt.subplots(1,1, figsize=(6,6))\n",
    "# ax.vlines(l_mid, np.zeros(len(l_mid)), (dG_f + np.array(dG_b))*RT, linewidth=2)\n",
    "\n",
    "# #plt.title(f'Fwd-bwd discrepancies by lambda {affix}')\n",
    "# ax.set(ylim=(-1,1))\n",
    "# ax.set_xlabel(r'$\\rm\\lambda$', fontsize=20)\n",
    "# ax.set_ylabel(r\"$\\rm\\delta_\\lambda$ (kcal/mol)\", fontsize=20)\n",
    "# plt.savefig(f'{path}discrepancies_{affix}.png', dpi=600)\n",
    "# plt.savefig(f'{path}discrepancies_{affix}.pdf')"
   ]
  },
  {
   "cell_type": "markdown",
   "id": "6e9430c7-a886-4ab8-ac50-de42b7953460",
   "metadata": {},
   "source": [
    "# Estimate and plot the Probability Density Function (PDF) for the differences shown above."
   ]
  },
  {
   "cell_type": "markdown",
   "id": "2ec1e056-a550-4cb2-8548-37143beb1d06",
   "metadata": {},
   "source": [
    "Note: you may wish to adjust the numBins parameter below depending on the number of windows you ran in your FEP calculation."
   ]
  },
  {
   "cell_type": "code",
   "execution_count": null,
   "id": "88943b75-4c3f-4149-a58a-9284fff9957f",
   "metadata": {
    "tags": []
   },
   "outputs": [],
   "source": [
    "# X, Y, pdfX, pdfY, fitted, pdfXnorm, pdfYnorm, pdfYexpected = getPDF(dG_f, dG_b)\n",
    "\n",
    "# #plot the data\n",
    "# fig, pdfAx = plt.subplots(1, 1)\n",
    "# plt.xlabel('Difference in delta-G')\n",
    "\n",
    "# pdfAx.plot(pdfX, pdfY,  label=\"Estimated Distribution\")\n",
    "# pdfAx.set_ylabel(\"PDF\")\n",
    "\n",
    "# fig.set_figheight(5)\n",
    "# pdfAx.title.set_text(f\"Estimated PDF (fwd-bkwd)\\nSkewness: {np.round(skew(X),2)}\\nPopulation parameters: Mean={np.round(np.average(X),3)}, Stdv={np.round(np.std(X),3)}\")\n",
    "# plt.savefig(f\"{path}pdf_{affix}.png\", dpi=600)\n",
    "\n",
    "\n",
    "# plt.show()"
   ]
  },
  {
   "cell_type": "code",
   "execution_count": null,
   "id": "cf8bde17-c799-4d9e-82bb-e4d2698eff8a",
   "metadata": {},
   "outputs": [],
   "source": [
    "fig, (dAx, pdfAx) = plt.subplots(1,2, figsize=(8,6), sharey=True)\n",
    "dAx.vlines(l_mid, np.zeros(len(l_mid)), (dG_f + np.array(dG_b))*RT, linewidth=2)\n",
    "\n",
    "ymin = -1\n",
    "ymax = 1\n",
    "\n",
    "#plt.title(f'Fwd-bwd discrepancies by lambda {affix}')\n",
    "dAx.set(ylim=(ymin,ymax))\n",
    "dAx.set_xlabel(r'$\\rm\\lambda$', fontsize=20)\n",
    "dAx.set_ylabel(r\"$\\rm\\delta_\\lambda$ (kcal/mol)\", fontsize=20)\n",
    "\n",
    "#\n",
    "X, Y, pdfX, pdfY, fitted, pdfXnorm, pdfYnorm, pdfYexpected = getPDF(dG_f, dG_b)\n",
    "pdfAx.set_xlabel(\"PDF\", fontsize=20)\n",
    "pdfAx.plot(pdfY, pdfX*RT,  label=\"Estimated Distribution\")\n",
    "pdfAx.set_box_aspect(3)\n",
    "\n",
    "#fig.set_figheight(5)\n",
    "#pdfAx.title.set_text(f\"Estimated PDF\\nSkewness: {np.round(skew(X),2)}\\nPopulation parameters: Mean={np.round(np.average(X),3)}, Stdv={np.round(np.std(X),3)}\")\n",
    "\n",
    "dAx.set_xticks(np.round(np.linspace(0,1,6),1))\n",
    "dAx.set_yticks(np.round(np.linspace(ymin,ymax,11),1))\n",
    "pdfAx.set_xticks([0,1,2,3])\n",
    "\n",
    "\n",
    "dAx.set_xticklabels(np.round(np.linspace(0,1,6),1),fontsize=16)\n",
    "dAx.set_yticklabels(np.round(np.linspace(ymin,ymax,11),1),fontsize=16)\n",
    "pdfAx.set_xticklabels([0,1,2,3],fontsize=16)\n",
    "\n",
    "fig.tight_layout(w_pad=-2)\n",
    "plt.savefig(f'{path}discrepancies_{affix}.png', dpi=600)\n",
    "plt.savefig(f'{path}discrepancies_{affix}.pdf')\n",
    "plt.savefig(f'{path}hysteresis.pdf')"
   ]
  },
  {
   "cell_type": "code",
   "execution_count": null,
   "id": "885544b9-2fa1-4a74-b191-84d98273e97b",
   "metadata": {},
   "outputs": [],
   "source": []
  },
  {
   "cell_type": "code",
   "execution_count": null,
   "id": "2449ab1f-47f0-4b97-990b-9d1d43969a53",
   "metadata": {},
   "outputs": [],
   "source": [
    "u_nk[0.008333].dropna().reset_index().set_index('fep-lambda').loc[0.000000].set_index('time').plot()"
   ]
  },
  {
   "cell_type": "code",
   "execution_count": null,
   "id": "0f060d70-55fd-458a-9156-20349ae07b0a",
   "metadata": {},
   "outputs": [],
   "source": []
  }
 ],
 "metadata": {
  "kernelspec": {
   "display_name": "Python 3 (ipykernel)",
   "language": "python",
   "name": "python3"
  },
  "language_info": {
   "codemirror_mode": {
    "name": "ipython",
    "version": 3
   },
   "file_extension": ".py",
   "mimetype": "text/x-python",
   "name": "python",
   "nbconvert_exporter": "python",
   "pygments_lexer": "ipython3",
   "version": "3.9.12"
  }
 },
 "nbformat": 4,
 "nbformat_minor": 5
}
