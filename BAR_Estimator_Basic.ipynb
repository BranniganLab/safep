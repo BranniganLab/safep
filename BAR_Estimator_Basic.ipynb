{
 "cells": [
  {
   "cell_type": "code",
   "execution_count": null,
   "id": "f94f0ad2-5fe9-404a-950b-43f051170de2",
   "metadata": {},
   "outputs": [],
   "source": [
    "from AFEP_parse import *\n",
    "from alchemlyb.preprocessing import subsampling\n",
    "import os\n",
    "from scipy.signal import correlate\n",
    "import numpy as np\n",
    "import matplotlib.pyplot as plt\n",
    "import scipy as sp\n",
    "from scipy.optimize import curve_fit, leastsq"
   ]
  },
  {
   "cell_type": "markdown",
   "id": "e9c3eee0-c533-4408-9fac-93d624a52d58",
   "metadata": {},
   "source": [
    "# User parameters\n",
    "## IMPORTANT: Make sure the temperature matches the temperature used to run the simulations."
   ]
  },
  {
   "cell_type": "code",
   "execution_count": null,
   "id": "463bb934",
   "metadata": {},
   "outputs": [],
   "source": [
    "path='/home/ems363/Documents/ELIC_DCDs_Analyses/POPC120/POEG_23/'\n",
    "filename='PO*.fepout'\n",
    "\n",
    "temperature = 303.15\n",
    "decorrelate = True #Flag for automatic decorrelation\n",
    "detectEQ = False #Flag for automatic equilibrium detection"
   ]
  },
  {
   "cell_type": "code",
   "execution_count": null,
   "id": "210c2d50",
   "metadata": {},
   "outputs": [],
   "source": [
    "RT = 0.00198720650096 * temperature # RT in kcal/mol\n",
    "fepoutFiles = glob(path+filename)\n",
    "fepoutFiles = natsorted(fepoutFiles)\n",
    "maxSize = 10**9 #Don't use the alchemlyb parser if larger than this size. (bytes)\n",
    "totalSize = 0\n",
    "for file in fepoutFiles:\n",
    "    totalSize += os.path.getsize(file)\n",
    "print(f\"Will process {len(fepoutFiles)} fepout files with total size:{np.round(totalSize/10**9, 2)}GB\")\n",
    "\n",
    "if totalSize>maxSize:\n",
    "    print(f\"Warning: The files you are trying to read are quite large. Total size={totalSize}.\\nTry the read, decorrelate, save method in the Expanded version of this notebook or increase the maxSize variable above.\\nIn the future, consider using less frequent sampling (e.g. every 100 steps).\")"
   ]
  },
  {
   "cell_type": "markdown",
   "id": "cf11aee7-cd65-484d-a797-2fe8235c2492",
   "metadata": {
    "tags": []
   },
   "source": [
    "# Read and process files\n",
    "See Shirts and Chodera (2008) for more details\n",
    "\n",
    "\"Statistically optimal analysis of samples from multiple equilibrium states\" doi: 10.1063/1.2978177"
   ]
  },
  {
   "cell_type": "code",
   "execution_count": null,
   "id": "11188374-a36b-43e1-9e0f-a886a58a1c45",
   "metadata": {},
   "outputs": [],
   "source": [
    "u_nk, affix = readAndProcess(fepoutFiles, temperature, decorrelate, detectEQ) #u_nk stores the fep data, affix is a string for meaningful file naming"
   ]
  },
  {
   "cell_type": "code",
   "execution_count": null,
   "id": "ac7b3088-cb22-45eb-8f2a-18dbf9afecf0",
   "metadata": {},
   "outputs": [],
   "source": [
    "perWindow, cumulative = doEstimation(u_nk)"
   ]
  },
  {
   "cell_type": "code",
   "execution_count": null,
   "id": "6c8d78a2-5f23-4f03-a0c9-e2aafcea38eb",
   "metadata": {},
   "outputs": [],
   "source": [
    "changeAndError = f'\\u0394G = {np.round(cumulative.BAR.f.iloc[-1]*RT, 1)}\\u00B1{np.round(cumulative.BAR.errors.iloc[-1], 3)} kcal/mol'\n",
    "print(changeAndError)"
   ]
  },
  {
   "cell_type": "markdown",
   "id": "4bb552e8-9bdf-43ac-bf9c-09bbe301cab3",
   "metadata": {
    "tags": []
   },
   "source": [
    "# Plot the change in free energy based on MBAR estimates"
   ]
  },
  {
   "cell_type": "code",
   "execution_count": null,
   "id": "bac26b22",
   "metadata": {},
   "outputs": [],
   "source": [
    "fig, (cumAx, eachAx) = plt.subplots(2,1, sharex=True)\n",
    "# Cumulative change in kcal/mol\n",
    "cumAx.errorbar(cumulative.index, cumulative.BAR.f*RT, yerr=cumulative.BAR.errors, marker=None, linewidth=1)\n",
    "cumAx.set(ylabel=r'Cumulative $\\rm\\Delta G_{\\lambda}$'+'\\n(kcal/mol)')\n",
    "\n",
    "# Per-window change in kcal/mol\n",
    "eachAx.errorbar(perWindow.index, perWindow.BAR.df*RT, yerr=perWindow.BAR.ddf, marker=None, linewidth=1)\n",
    "eachAx.plot(perWindow.index, perWindow.EXP.dG_f*RT, marker=None, linewidth=1, alpha=0.5)\n",
    "eachAx.errorbar(perWindow.index, -perWindow.EXP.dG_b*RT, marker=None, linewidth=1, alpha=0.5)\n",
    "eachAx.set(xlabel=r'$\\lambda$', ylabel=r'$\\rm\\Delta G_{\\lambda}$'+'\\n(kcal/mol)')\n",
    "\n",
    "fig.set_figwidth(5)\n",
    "fig.set_figheight(8)\n",
    "fig.tight_layout()\n",
    "plt.savefig(f'{path}dG_{affix}.pdf')\n",
    "plt.savefig(f'{path}dG_{affix}.png', dpi=600)\n",
    "plt.show()"
   ]
  },
  {
   "cell_type": "markdown",
   "id": "e067232d-631f-4c83-b05c-e7fcd69febd4",
   "metadata": {},
   "source": [
    "# Plot the estimated total change in free energy as a function of simulation time; contiguous subsets starting at t=0 (\"Forward\") and t=end (\"Reverse\")"
   ]
  },
  {
   "cell_type": "code",
   "execution_count": null,
   "id": "3acac998-a629-41f3-a42f-d78f6be45fb8",
   "metadata": {},
   "outputs": [],
   "source": [
    "convergence_plot(u_nk, cumulative.index, units='kcal/mol', RT=RT)\n",
    "plt.savefig(f\"{path}_Convergence_{affix}.pdf\")\n",
    "plt.savefig(f\"{path}_Convergence_{affix}.png\", dpi=600)"
   ]
  },
  {
   "cell_type": "markdown",
   "id": "4869729d-bfc7-4348-9797-702a477a7295",
   "metadata": {},
   "source": [
    "\n",
    "# Check for hysteresis by comparing forward and backward samples using an exponential estimator"
   ]
  },
  {
   "cell_type": "code",
   "execution_count": null,
   "id": "64758c94-165d-4c0d-b456-2352f6ef4712",
   "metadata": {},
   "outputs": [],
   "source": [
    "fig, (histAx, pdfAx) = plt.subplots(2, 1)\n",
    "X, Y, pdfX, pdfY, fitted, pdfXnorm, pdfYnorm, pdfYexpected = getPDF(np.array(perWindow.EXP.dG_f)*RT, np.array(perWindow.EXP.dG_b)*RT)\n",
    "histAx.vlines(perWindow.index, np.zeros(len(perWindow)), perWindow.EXP['difference']*RT, label=\"fwd - bwd\", linewidth=2)\n",
    "\n",
    "std = np.std(X)\n",
    "mean = np.average(X)\n",
    "temp = pd.Series(pdfY, index=pdfX)\n",
    "mode = temp.idxmax()\n",
    "histAx.set(xlabel=r'$\\lambda$', ylabel=r'$\\delta_\\lambda$ (kcal/mol)')\n",
    "textstr = r\"$\\rm{mode_{pdf}=}$\"+f\"{np.round(mode,2)}\"+\"\\n\"+fr\"$\\mu$={np.round(mean,2)}\"+\"\\n\"+fr\"$\\sigma$={np.round(std,2)}\"\n",
    "props = dict(boxstyle='square', facecolor='white', alpha=0.5)\n",
    "pdfAx.text(0.15, 0.95, textstr, transform=pdfAx.transAxes, fontsize=14,\n",
    "        verticalalignment='top', bbox=props)\n",
    "\n",
    "\n",
    "pdfAx.plot(pdfX, pdfY,  label=\"Estimated Distribution\")\n",
    "pdfAx.set(xlabel=r'$\\delta_\\lambda$ (kcal/mol)', ylabel=\"PDF\")\n",
    "\n",
    "fig.set_figheight(8)\n",
    "fig.tight_layout()\n",
    "plt.savefig(f\"{path}pdf_{affix}.pdf\")\n",
    "plt.savefig(f\"{path}pdf_{affix}.png\", dpi=600)\n",
    "\n",
    "plt.show()"
   ]
  },
  {
   "cell_type": "code",
   "execution_count": null,
   "id": "b00f3305-9dfe-42f4-921e-75a9937ef65f",
   "metadata": {},
   "outputs": [],
   "source": []
  },
  {
   "cell_type": "code",
   "execution_count": null,
   "id": "0b85dd15-51da-41b8-8d05-4938ff99647d",
   "metadata": {},
   "outputs": [],
   "source": []
  },
  {
   "cell_type": "code",
   "execution_count": null,
   "id": "e69e0763-0fb3-4387-b54d-b8ed2d846cc2",
   "metadata": {},
   "outputs": [],
   "source": []
  }
 ],
 "metadata": {
  "kernelspec": {
   "display_name": "Python 3 (ipykernel)",
   "language": "python",
   "name": "python3"
  },
  "language_info": {
   "codemirror_mode": {
    "name": "ipython",
    "version": 3
   },
   "file_extension": ".py",
   "mimetype": "text/x-python",
   "name": "python",
   "nbconvert_exporter": "python",
   "pygments_lexer": "ipython3",
   "version": "3.9.12"
  }
 },
 "nbformat": 4,
 "nbformat_minor": 5
}
