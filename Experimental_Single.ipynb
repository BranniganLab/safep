{
 "cells": [
  {
   "cell_type": "markdown",
   "id": "f6eb0061-1d3d-40d6-94b3-ac5517dc3dd5",
   "metadata": {},
   "source": [
    "# This is an experimental notebook with charts currently under development"
   ]
  },
  {
   "cell_type": "code",
   "execution_count": null,
   "id": "f94f0ad2-5fe9-404a-950b-43f051170de2",
   "metadata": {},
   "outputs": [],
   "source": [
    "from AFEP_parse import *\n",
    "from alchemlyb.preprocessing import subsampling\n",
    "import os\n",
    "from scipy.signal import correlate\n",
    "import numpy as np\n",
    "import matplotlib.pyplot as plt\n",
    "import scipy as sp\n",
    "from scipy.optimize import curve_fit, leastsq"
   ]
  },
  {
   "cell_type": "markdown",
   "id": "66d5b1c8-d1f6-4087-a79f-a7ff2a7600b7",
   "metadata": {},
   "source": [
    "# User parameters\n",
    "## IMPORTANT: Make sure the temperature matches the temperature used to run the simulations."
   ]
  },
  {
   "cell_type": "code",
   "execution_count": null,
   "id": "463bb934",
   "metadata": {},
   "outputs": [],
   "source": [
    "#path='/home/ezry/winHome/Documents/ELIC_Data/PCPGPE211/Se'\n",
    "path='/home/ems363/Documents/ELIC_DCDs_Analyses/PCPGPE211/POEG_104_withZ/'\n",
    "filename='PO*.fepout'\n",
    "\n",
    "temperature = 303.15\n",
    "decorrelate = False #Flag for automatic decorrelation\n",
    "detectEQ = False #Flag for automatic equilibrium detection"
   ]
  },
  {
   "cell_type": "code",
   "execution_count": null,
   "id": "210c2d50",
   "metadata": {},
   "outputs": [],
   "source": [
    "RT = 0.00198720650096 * temperature\n",
    "fepoutFiles = glob(path+filename)\n",
    "fepoutFiles = natsorted(fepoutFiles)\n",
    "maxSize = 10**9 #Don't use the alchemlyb parser if larger than this size. (bytes)\n",
    "totalSize = 0\n",
    "for file in fepoutFiles:\n",
    "    totalSize += os.path.getsize(file)\n",
    "print(f\"Will process {len(fepoutFiles)} fepout files with total size:{np.round(totalSize/10**9, 2)}GB\")\n",
    "\n",
    "if totalSize>maxSize:\n",
    "    print(f\"Warning: The files you are trying to read are quite large. Total size={totalSize}.\\nTry the read, decorrelate, save method in the Expanded version of this notebook or increase the maxSize variable above.\\nIn the future, consider using less frequent sampling (e.g. every 100 steps).\")"
   ]
  },
  {
   "cell_type": "markdown",
   "id": "87d80337-79a8-4125-acbd-bb6421340e51",
   "metadata": {
    "tags": []
   },
   "source": [
    "# Read and process files\n",
    "See Shirts and Chodera (2008) for more details\n",
    "\n",
    "\"Statistically optimal analysis of samples from multiple equilibrium states\" doi: 10.1063/1.2978177"
   ]
  },
  {
   "cell_type": "code",
   "execution_count": null,
   "id": "11188374-a36b-43e1-9e0f-a886a58a1c45",
   "metadata": {},
   "outputs": [],
   "source": [
    "u_nk, affix = readAndProcess(fepoutFiles, temperature, decorrelate, detectEQ) #u_nk stores the fep data, affix is a string for meaningful file naming"
   ]
  },
  {
   "cell_type": "code",
   "execution_count": null,
   "id": "ac7b3088-cb22-45eb-8f2a-18dbf9afecf0",
   "metadata": {},
   "outputs": [],
   "source": [
    "perWindow, cumulative = doEstimation(u_nk)"
   ]
  },
  {
   "cell_type": "code",
   "execution_count": null,
   "id": "6c8d78a2-5f23-4f03-a0c9-e2aafcea38eb",
   "metadata": {},
   "outputs": [],
   "source": [
    "changeAndError = f'\\u0394G = {np.round(cumulative.BAR.f.iloc[-1]*RT, 1)}\\u00B1{np.round(cumulative.BAR.errors.iloc[-1], 3)} kcal/mol'\n",
    "print(changeAndError)"
   ]
  },
  {
   "cell_type": "markdown",
   "id": "bc18b27a-a4e4-49e2-8ffb-035505dbb88e",
   "metadata": {
    "tags": []
   },
   "source": [
    "# Plot the change in free energy based on MBAR estimates"
   ]
  },
  {
   "cell_type": "code",
   "execution_count": null,
   "id": "bac26b22",
   "metadata": {},
   "outputs": [],
   "source": [
    "fig, (cumAx, eachAx) = plt.subplots(2,1, sharex=True)\n",
    "# Cumulative change in kcal/mol\n",
    "cumAx.errorbar(cumulative.index, cumulative.BAR.f*RT, yerr=cumulative.BAR.errors, marker=None, linewidth=1)\n",
    "cumAx.set(ylabel=r'Cumulative $\\rm\\Delta G_{\\lambda}$'+'\\n(kcal/mol)')\n",
    "\n",
    "# Per-window change in kcal/mol\n",
    "eachAx.errorbar(perWindow.index, perWindow.BAR.df*RT, yerr=perWindow.BAR.ddf, marker=None, linewidth=1)\n",
    "eachAx.plot(perWindow.index, perWindow.EXP.dG_f*RT, marker=None, linewidth=1, alpha=0.5)\n",
    "eachAx.errorbar(perWindow.index, -perWindow.EXP.dG_b*RT, marker=None, linewidth=1, alpha=0.5)\n",
    "eachAx.xlabel(r'$\\lambda$')\n",
    "eachAx.ylabel(r'$\\rm\\Delta G_{\\lambda}$'+'\\n(kcal/mol)')\n",
    "\n",
    "fig.set_figwidth(4)\n",
    "fig.set_figheight(8)\n",
    "fig.tight_layout()\n",
    "plt.savefig(f'{path}dG_{affix}.pdf')\n",
    "plt.savefig(f'{path}dG_{affix}.png', dpi=600)\n",
    "plt.show()"
   ]
  },
  {
   "cell_type": "markdown",
   "id": "e4b9dd1c-465b-4546-9cf3-2bb2ecdf79ab",
   "metadata": {},
   "source": [
    "# Plot the estimated total change in free energy as a function of simulation time; contiguous subsets starting at t=0 (\"Forward\") and t=end (\"Reverse\")"
   ]
  },
  {
   "cell_type": "code",
   "execution_count": null,
   "id": "311362f8-da47-484c-b3de-945d1d879071",
   "metadata": {
    "jupyter": {
     "source_hidden": true
    },
    "tags": []
   },
   "outputs": [],
   "source": [
    "def convergencePlot(theax, fs, ferr, bs, berr, fwdColor='#0072B2', bwdColor='#D55E00', lgndF=None, lgndB=None):\n",
    "    if not lgndF:\n",
    "        lgndF=fwdColor\n",
    "        lgndB=bwdColor\n",
    "        \n",
    "    theax.errorbar(np.arange(len(fs))/len(fs)+0.1, fs, yerr=ferr, marker='o', linewidth=1, color=fwdColor, markerfacecolor='white', markeredgewidth=1, markeredgecolor=fwdColor, ms=5)\n",
    "    theax.errorbar(np.arange(len(bs))/len(fs)+0.1, bs, yerr=berr, marker='o', linewidth=1, color=bwdColor, markerfacecolor='white', markeredgewidth=1, markeredgecolor=bwdColor, ms=5, linestyle='--')\n",
    "\n",
    "    theax.xaxis.set_ticks([0, 0.2, 0.4, 0.6, 0.8, 1])\n",
    "    \n",
    "    finalMean = fs[-1]\n",
    "    theax.axhline(y= finalMean, linestyle='-.', color='gray')\n",
    "    theax.plot(0, finalMean, linewidth=1, color=lgndF, label='Forward Time Sampling')\n",
    "    theax.plot(0, finalMean, linewidth=1, color=lgndB, linestyle='--', label='Backward Time Sampling')\n",
    "    \n",
    "    return theax\n",
    "\n",
    "def doConvPlot(ax, X, fs, ferr, fwdColor, label=None):\n",
    "    ax.errorbar(X, fs, yerr=ferr, marker=None, linewidth=1, color=fwdColor, markerfacecolor='white', markeredgewidth=1, markeredgecolor=fwdColor, ms=5, label=label)\n",
    "    return ax\n",
    "\n",
    "def moving_average(x, w):\n",
    "    return np.convolve(x, np.ones(w), 'same') / w\n",
    "\n",
    "def subSample(unkGrps, lowPct, hiPct):\n",
    "    partial = []\n",
    "    for key, group in unkGrps:\n",
    "        idcs = group.index.get_level_values(0)\n",
    "        \n",
    "        lowBnd = np.percentile(idcs, lowPct, method='closest_observation')\n",
    "        hiBnd = np.percentile(idcs, hiPct, method='closest_observation')\n",
    "        mask = np.logical_and(idcs<=hiBnd, idcs>=lowBnd) \n",
    "        sample = group.loc[mask]\n",
    "        if len(sample)==0:\n",
    "            print(f\"ERROR: no samples in window {key}\")\n",
    "            print(f\"Upper bound: {hiBnd}\\nLower bound: {lowBnd}\")\n",
    "            raise\n",
    "            \n",
    "        partial.append(sample)\n",
    "\n",
    "    partial = pd.concat(partial)\n",
    "    \n",
    "    return partial\n",
    "    \n",
    "    \n",
    "def doConvergence(u_nk, tau=1):\n",
    "    groups = u_nk.groupby('fep-lambda')\n",
    "\n",
    "    #return data_list\n",
    "    \n",
    "    forward = []\n",
    "    forward_error = []\n",
    "    backward = []\n",
    "    backward_error = []\n",
    "    num_points = 10\n",
    "    for i in range(1, num_points+1):\n",
    "        # forward\n",
    "        partial = subSample(groups, 0, 100*i/num_points)\n",
    "        estimate = BAR().fit(partial)\n",
    "        l, l_mid, f, df, ddf, errors = get_BAR(estimate)\n",
    "        \n",
    "        forward.append(f.iloc[-1])\n",
    "        forward_error.append(errors[-1])\n",
    "        \n",
    "        partial = subSample(groups, 100*(1-i/num_points), 100)\n",
    "        estimate = BAR().fit(partial)\n",
    "        l, l_mid, f, df, ddf, errors = get_BAR(estimate)\n",
    "        \n",
    "        backward.append(f.iloc[-1])\n",
    "        backward_error.append(errors[-1])\n",
    "\n",
    "    return forward, forward_error, backward, backward_error\n",
    "\n",
    "    \n",
    "def altConvergence(u_nk, nbins):\n",
    "    groups = u_nk.groupby('fep-lambda')\n",
    "\n",
    "    #return data_list\n",
    "    \n",
    "    forward = []\n",
    "    forward_error = []\n",
    "    backward = []\n",
    "    backward_error = []\n",
    "    num_points = nbins\n",
    "    for i in range(1, num_points+1):\n",
    "        # forward\n",
    "        partial = subSample(groups, 100*(i-1)/num_points, 100*i/num_points)\n",
    "        estimate = BAR().fit(partial)\n",
    "        l, l_mid, f, df, ddf, errors = get_BAR(estimate)\n",
    "        \n",
    "        forward.append(f.iloc[-1])\n",
    "        forward_error.append(errors[-1])\n",
    "\n",
    "    return np.array(forward), np.array(forward_error)"
   ]
  },
  {
   "cell_type": "markdown",
   "id": "e5fd2112-d236-4eaf-9f2f-01515ddb8e54",
   "metadata": {},
   "source": [
    "## Two alternative convergence plots based on block-average like subsampling"
   ]
  },
  {
   "cell_type": "code",
   "execution_count": null,
   "id": "02d68e52-b9f2-4535-84ab-4f2841d3831c",
   "metadata": {},
   "outputs": [],
   "source": [
    "nbins=100\n",
    "fs, Err = altConvergence(trimmed, nbins)"
   ]
  },
  {
   "cell_type": "code",
   "execution_count": null,
   "id": "28fc9974-0ef7-4a01-a438-2d65d1781165",
   "metadata": {},
   "outputs": [],
   "source": [
    "fig, ax = plt.subplots(1,1)\n",
    "lspace = np.linspace(0,1,nbins+1)\n",
    "X = (lspace[1:]+lspace[:-1])/2\n",
    "#doConvPlot(ax, X, np.multiply(fs,RT), np.multiply(Err,RT), \"#310023\") \n",
    "doConvPlot(ax, X, np.multiply(fs,RT), None, \"#310023\", label=\"blocked averages\") \n",
    "\n",
    "#ax.plot(X, moving_average(fs, 4)*RT, label='moving average')\n",
    "\n",
    "cumMean = np.cumsum(fs)/np.arange(1,len(fs)+1)*RT\n",
    "ax.plot(X, cumMean, label='cumulative mean')\n",
    "\n",
    "cumStd = [RT*np.std(fs[:i]) for i in range(0,len(fs))]\n",
    "ax.fill_between(X, cumMean+cumStd, cumMean-cumStd, alpha=0.3, label='std of cumulative mean')\n",
    "\n",
    "ax.legend()\n",
    "\n",
    "ax.xaxis.set_ticks([0, 0.2, 0.4, 0.6, 0.8, 1])\n",
    "\n",
    "finalMean = f.iloc[-1]*RT\n",
    "ax.axhline(y= finalMean, linestyle='-.', color='gray')\n",
    "#ax.plot(0, finalMean, linewidth=1, color=fwdColor)\n",
    "ax.set(xlim=(0,1))\n",
    "#ax.legend()\n",
    "ax.set(ylabel=r'$\\rm\\Delta G_{\\lambda}$'+'\\n(kcal/mol)', xlabel='Fraction of simulation time')\n",
    "#plt.savefig(f'{path}convergence_BlocksWAve_n{nbins}{affix}.pdf')\n",
    "#plt.savefig(f'{path}convergence_BlocksWAve_n{nbins}{affix}.png', dpi=600)\n",
    "plt.show()"
   ]
  },
  {
   "cell_type": "code",
   "execution_count": null,
   "id": "d822d051-4733-48d8-9ad9-442ec743c164",
   "metadata": {},
   "outputs": [],
   "source": [
    "fwdColor='#0072B2'\n",
    "bwdColor='#D55E00'\n",
    "fig, ax = plt.subplots(1,1)\n",
    "\n",
    "nbins = 10\n",
    "fs, Err = altConvergence(u_nk, nbins)\n",
    "lspace = np.linspace(0,1,nbins+1)\n",
    "X = (lspace[1:]+lspace[:-1])/2\n",
    "doConvPlot(ax, X, fs*RT, Err*RT, fwdColor)\n",
    "\n",
    "nbins = 5\n",
    "fs, Err = altConvergence(u_nk, nbins)\n",
    "lspace = np.linspace(0,1,nbins+1)\n",
    "X = (lspace[1:]+lspace[:-1])/2\n",
    "doConvPlot(ax, X, fs*RT, Err*RT, bwdColor)\n",
    "\n",
    "nbins=3\n",
    "fs, Err = altConvergence(u_nk, nbins)\n",
    "lspace = np.linspace(0,1,nbins+1)\n",
    "X = (lspace[1:]+lspace[:-1])/2\n",
    "doConvPlot(ax, X, fs*RT, Err*RT, \"#310023\")\n",
    "\n",
    "ax.xaxis.set_ticks([0, 0.2, 0.4, 0.6, 0.8, 1])\n",
    "\n",
    "finalMean = f.iloc[-1]\n",
    "ax.axhline(y= finalMean*RT, linestyle='-.', color='gray')\n",
    "#ax.plot(0, finalMean, linewidth=1, color=fwdColor)\n",
    "ax.set(xlim=(0,1))\n",
    "#ax.legend()\n",
    "ax.set(ylabel=r'$\\rm\\Delta G_{\\lambda}$'+'\\n(kcal/mol)', xlabel='Fraction of simulation time')\n",
    "plt.savefig(f\"{path}_multiScaleBlockAves_{affix}.pdf\")\n",
    "plt.savefig(f\"{path}_multiScaleBlockAves_{affix}.png\", dpi=600)\n",
    "plt.show()"
   ]
  },
  {
   "cell_type": "markdown",
   "id": "4c2205eb-5204-4066-bf77-f9ec07ca0887",
   "metadata": {},
   "source": [
    "## Traditional convergence plots"
   ]
  },
  {
   "cell_type": "code",
   "execution_count": null,
   "id": "33c8b038-d26a-495f-b0ef-c3fe36805a9a",
   "metadata": {},
   "outputs": [],
   "source": [
    "forward, fwdErr, backward, bwdErr = doConvergence(u_nk)\n",
    "fig, ax = plt.subplots(1,1)\n",
    "convergencePlot(ax, np.array(forward)*RT, np.array(fwdErr)*RT, np.array(backward)*RT, np.array(bwdErr)*RT)\n",
    "ax.legend()\n",
    "ax.set(ylabel=r'$\\rm\\Delta G_{\\lambda}$'+'\\n(kcal/mol)', xlabel='Fraction of simulation time')\n",
    "plt.savefig(f'{path}_ES_Convergence_{affix}.pdf')\n",
    "plt.savefig(f'{path}_ES_Convergence_{affix}.png', dpi=600)"
   ]
  },
  {
   "cell_type": "code",
   "execution_count": null,
   "id": "3acac998-a629-41f3-a42f-d78f6be45fb8",
   "metadata": {},
   "outputs": [],
   "source": [
    "convergence_plot(u_nk, l)\n",
    "plt.savefig(f\"{path}_currentConvergence_{affix}.pdf\")"
   ]
  },
  {
   "cell_type": "markdown",
   "id": "28f5269a-2b6e-41bb-bb3e-37063cacef93",
   "metadata": {},
   "source": [
    "\n",
    "# Use an exponential estimator to assess residual discrepancies and check for hysteresis"
   ]
  },
  {
   "cell_type": "markdown",
   "id": "793a441d-b6e1-4ce6-901e-eb872adaa6ab",
   "metadata": {},
   "source": [
    "The PDF is estimated with Scipy's Gaussian Kernel with automatic bandwidth determination"
   ]
  },
  {
   "cell_type": "code",
   "execution_count": null,
   "id": "c3b501c4",
   "metadata": {},
   "outputs": [],
   "source": [
    "fig, (histAx, pdfAx) = plt.subplots(1, 2, sharey=True, gridspec_kw={'width_ratios': [3, 1]})\n",
    "X, Y, pdfX, pdfY, fitted, pdfXnorm, pdfYnorm, pdfYexpected = getPDF(dG_f, dG_b)\n",
    "\n",
    "diff = RT*perWindow.EXP['diff']\n",
    "histAx.plot(l_mid, diff, linewidth=2)\n",
    "histAx.set(xlabel=r'$\\lambda$', ylabel=r'$\\delta_\\lambda$ (kcal/mol)')\n",
    "plt.ylim(-1,1)\n",
    "\n",
    "\n",
    "pdfY, edges = np.histogram(diff, bins=20, density=True)\n",
    "pdfX = (edges[1:] + edges[:-1])/2\n",
    "#pdfAx.plot(pdfY, pdfX, label=\"histogrammed\")\n",
    "\n",
    "\n",
    "kernel = sp.stats.gaussian_kde(diff)\n",
    "samples = np.linspace(-1, 1, 1000)\n",
    "pdfAx.plot(kernel(samples), samples, label='KDE')\n",
    "\n",
    "pdfAx.set(xlabel=\"KDE\")\n",
    "std = np.std(X)\n",
    "mean = np.average(X)\n",
    "mode = pd.Series(kernel(samples), index=samples).idxmax()\n",
    "textstr = r\"$\\rm{mode_{KDE}=}$\"+f\"{np.round(mode,2)}\"+\"\\n\"+fr\"$\\mu$={np.round(mean,2)}\"+\"\\n\"+fr\"$\\sigma$={np.round(std,2)}\"\n",
    "props = dict(boxstyle='square', facecolor='white', alpha=0.5)\n",
    "hystAx.text(0.35, 0.95, textstr, transform=hystAx.transAxes, fontsize=14,\n",
    "        verticalalignment='top', bbox=props)\n",
    "\n",
    "fig.tight_layout()\n",
    "\n",
    "plt.savefig(f\"{path}discrepancies_{affix}.pdf\")\n",
    "plt.savefig(f\"{path}discrepancies_{affix}.png\", dpi=600)\n",
    "plt.show()"
   ]
  },
  {
   "cell_type": "code",
   "execution_count": null,
   "id": "64758c94-165d-4c0d-b456-2352f6ef4712",
   "metadata": {},
   "outputs": [],
   "source": [
    "plt.vlines(perWindow.index, np.zeros(len(perWindow)), perWindow.EXP['difference'], label=\"fwd - bwd\", linewidth=2)\n",
    "\n",
    "plt.legend()\n",
    "plt.title(f'Fwd-bwd discrepancies by lambda {affix}')\n",
    "plt.xlabel('Lambda')\n",
    "plt.ylabel('Diff. in delta-G (kT)')\n",
    "plt.savefig(f'{path}discrepancies_{affix}.png', dpi=600)\n",
    "\n",
    "\n",
    "\n",
    "#plot the data\n",
    "fig, pdfAx = plt.subplots(1, 1)\n",
    "plt.xlabel('Difference in delta-G')\n",
    "\n",
    "pdfAx.plot(pdfX, pdfY,  label=\"Estimated Distribution\")\n",
    "pdfAx.set_ylabel(\"PDF\")\n",
    "\n",
    "fig.set_figheight(5)\n",
    "pdfAx.title.set_text(f\"Estimated PDF (fwd-bkwd)\\nSkewness: {np.round(skew(X),2)}\\nPopulation parameters: Mean={np.round(np.average(X),3)}, Stdv={np.round(np.std(X),3)}\")\n",
    "plt.savefig(f\"{path}pdf_{affix}.png\", dpi=600)\n",
    "\n",
    "\n",
    "plt.show()"
   ]
  },
  {
   "cell_type": "code",
   "execution_count": null,
   "id": "0a1fa8ec-bcfd-4277-9906-35b2e1ce0548",
   "metadata": {},
   "outputs": [],
   "source": []
  }
 ],
 "metadata": {
  "kernelspec": {
   "display_name": "Python 3 (ipykernel)",
   "language": "python",
   "name": "python3"
  },
  "language_info": {
   "codemirror_mode": {
    "name": "ipython",
    "version": 3
   },
   "file_extension": ".py",
   "mimetype": "text/x-python",
   "name": "python",
   "nbconvert_exporter": "python",
   "pygments_lexer": "ipython3",
   "version": "3.9.5"
  }
 },
 "nbformat": 4,
 "nbformat_minor": 5
}
