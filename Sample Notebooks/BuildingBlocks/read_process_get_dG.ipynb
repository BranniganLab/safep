{
 "cells": [
  {
   "cell_type": "markdown",
   "id": "b391c77c-f383-4c2d-a8f7-5c33b2e63c20",
   "metadata": {
    "tags": []
   },
   "source": [
    "## Read and process"
   ]
  },
  {
   "cell_type": "code",
   "execution_count": null,
   "id": "3b596c43-214e-41de-a728-65b49a54da1a",
   "metadata": {},
   "outputs": [],
   "source": [
    "u_nk = safep.read_and_process(fepoutFiles, temperature, decorrelate, detectEQ)"
   ]
  },
  {
   "cell_type": "markdown",
   "id": "733bb0c9-f610-4618-a4a3-152cfd2835e2",
   "metadata": {
    "tags": []
   },
   "source": [
    "## Do the BAR fitting and get ΔG\n",
    "**Note: alchemlyb operates in units of kT by default. We multiply by RT to convert to units of kcal/mol.**"
   ]
  },
  {
   "cell_type": "code",
   "execution_count": null,
   "id": "1a2ee05f-a8a6-4f1b-8ebb-190e89f2fe40",
   "metadata": {},
   "outputs": [],
   "source": [
    "perWindow, cumulative = safep.do_estimation(u_nk) #Run the BAR estimator on the fep data\n",
    "forward, forward_error, backward, backward_error = safep.do_convergence(u_nk) #Used later in the convergence plot'\n",
    "per_lambda_convergence = safep.do_per_lambda_convergence(u_nk)"
   ]
  },
  {
   "cell_type": "code",
   "execution_count": null,
   "id": "c3045c81-9680-40ed-b7fc-474f0d315402",
   "metadata": {},
   "outputs": [],
   "source": [
    "dG = np.round(cumulative.BAR.f.iloc[-1]*RT, 1)\n",
    "error = np.round(cumulative.BAR.errors.iloc[-1]*RT, 1)\n",
    "\n",
    "changeAndError = f'\\u0394G = {dG}\\u00B1{error} kcal/mol'\n",
    "Markdown('<font size=5>{}</font><br/>'.format(changeAndError))"
   ]
  }
 ],
 "metadata": {
  "kernelspec": {
   "display_name": "Python 3 (ipykernel)",
   "language": "python",
   "name": "python3"
  },
  "language_info": {
   "codemirror_mode": {
    "name": "ipython",
    "version": 3
   },
   "file_extension": ".py",
   "mimetype": "text/x-python",
   "name": "python",
   "nbconvert_exporter": "python",
   "pygments_lexer": "ipython3",
   "version": "3.9.12"
  }
 },
 "nbformat": 4,
 "nbformat_minor": 5
}
