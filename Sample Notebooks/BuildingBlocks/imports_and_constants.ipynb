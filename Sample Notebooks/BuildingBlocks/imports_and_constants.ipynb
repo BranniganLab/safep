{
 "cells": [
  {
   "cell_type": "markdown",
   "id": "164b7c6d-70c2-4329-9748-dae169d68d7f",
   "metadata": {
    "tags": []
   },
   "source": [
    "## Imports and constants"
   ]
  },
  {
   "cell_type": "code",
   "execution_count": null,
   "id": "31f9d34e-e862-4bc6-aa1f-1a306e1b01d5",
   "metadata": {},
   "outputs": [],
   "source": [
    "import safep\n",
    "from safep import convergence_plot, plot_general\n",
    "from glob import glob\n",
    "import numpy as np\n",
    "import matplotlib.pyplot as plt\n",
    "from IPython.display import display, Markdown\n",
    "\n",
    "from scipy.constants import R\n",
    "from scipy.constants import calorie\n",
    "kcal = calorie*1000\n",
    "\n",
    "#Suppress Pandas future warnings\n",
    "import warnings\n",
    "warnings.simplefilter(action='ignore', category=FutureWarning)\n",
    "\n",
    "RT = (R/kcal) * temperature\n",
    "fepoutFiles = glob(path+filename)"
   ]
  }
 ],
 "metadata": {
  "kernelspec": {
   "display_name": "Python 3 (ipykernel)",
   "language": "python",
   "name": "python3"
  },
  "language_info": {
   "codemirror_mode": {
    "name": "ipython",
    "version": 3
   },
   "file_extension": ".py",
   "mimetype": "text/x-python",
   "name": "python",
   "nbconvert_exporter": "python",
   "pygments_lexer": "ipython3",
   "version": "3.9.12"
  }
 },
 "nbformat": 4,
 "nbformat_minor": 5
}
