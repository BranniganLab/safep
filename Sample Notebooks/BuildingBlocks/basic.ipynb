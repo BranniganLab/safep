{
 "cells": [
  {
   "cell_type": "markdown",
   "id": "7fad67e5-1d94-4ac2-b258-94265a85ac52",
   "metadata": {
    "tags": []
   },
   "source": [
    "## User parameters"
   ]
  },
  {
   "cell_type": "code",
   "execution_count": null,
   "id": "6ab69582-0b03-4a90-9953-a49d1efed50e",
   "metadata": {},
   "outputs": [],
   "source": [
    "path='/path/to/data'\n",
    "filename='*.fepout'\n",
    "\n",
    "temperature = 303.15 #in Kelvin\n",
    "\n",
    "decorrelate = True #Flag for decorrelation of samples\n",
    "detectEQ = True #Flag for automated equilibrium detection"
   ]
  },
  {
   "cell_type": "markdown",
   "id": "164b7c6d-70c2-4329-9748-dae169d68d7f",
   "metadata": {
    "tags": []
   },
   "source": [
    "## Imports and constants"
   ]
  },
  {
   "cell_type": "code",
   "execution_count": null,
   "id": "31f9d34e-e862-4bc6-aa1f-1a306e1b01d5",
   "metadata": {},
   "outputs": [],
   "source": [
    "import safep\n",
    "from safep import convergence_plot, plot_general\n",
    "from glob import glob\n",
    "import numpy as np\n",
    "import matplotlib.pyplot as plt\n",
    "from IPython.display import display, Markdown\n",
    "\n",
    "from scipy.constants import R\n",
    "from scipy.constants import calorie\n",
    "kcal = calorie*1000\n",
    "\n",
    "#Suppress Pandas future warnings\n",
    "import warnings\n",
    "warnings.simplefilter(action='ignore', category=FutureWarning)\n",
    "\n",
    "RT = (R/kcal) * temperature\n",
    "fepoutFiles = glob(path+filename)"
   ]
  },
  {
   "cell_type": "markdown",
   "id": "b391c77c-f383-4c2d-a8f7-5c33b2e63c20",
   "metadata": {
    "tags": []
   },
   "source": [
    "## Read and process"
   ]
  },
  {
   "cell_type": "code",
   "execution_count": null,
   "id": "3b596c43-214e-41de-a728-65b49a54da1a",
   "metadata": {},
   "outputs": [],
   "source": [
    "u_nk = safep.read_and_process(fepoutFiles, temperature, decorrelate, detectEQ)"
   ]
  },
  {
   "cell_type": "markdown",
   "id": "733bb0c9-f610-4618-a4a3-152cfd2835e2",
   "metadata": {
    "tags": []
   },
   "source": [
    "## Do the BAR fitting and get ΔG\n",
    "**Note: alchemlyb operates in units of kT by default. We multiply by RT to convert to units of kcal/mol.**"
   ]
  },
  {
   "cell_type": "code",
   "execution_count": null,
   "id": "1a2ee05f-a8a6-4f1b-8ebb-190e89f2fe40",
   "metadata": {},
   "outputs": [],
   "source": [
    "perWindow, cumulative = safep.do_estimation(u_nk) #Run the BAR estimator on the fep data\n",
    "forward, forward_error, backward, backward_error = safep.do_convergence(u_nk) #Used later in the convergence plot'\n",
    "per_lambda_convergence = safep.do_per_lambda_convergence(u_nk)"
   ]
  },
  {
   "cell_type": "code",
   "execution_count": null,
   "id": "c3045c81-9680-40ed-b7fc-474f0d315402",
   "metadata": {},
   "outputs": [],
   "source": [
    "dG = np.round(cumulative.BAR.f.iloc[-1]*RT, 1)\n",
    "error = np.round(cumulative.BAR.errors.iloc[-1]*RT, 1)\n",
    "\n",
    "changeAndError = f'\\u0394G = {dG}\\u00B1{error} kcal/mol'\n",
    "Markdown('<font size=5>{}</font><br/>'.format(changeAndError))"
   ]
  },
  {
   "cell_type": "markdown",
   "id": "d7785e45-4a7e-4d60-bb93-ade5a3e2b5ac",
   "metadata": {},
   "source": [
    "## Generate Plots \n",
    "- General plots:\n",
    "Cumulative and per-window delta G.\n",
    "- Convergence plots: \n",
    "Plot the estimated total change in free energy as a function of simulation time; contiguous subsets starting at t=0 (\"Forward\") and t=end (\"Reverse\")\n",
    "- Per-window Convergence:\n",
    "Difference between BAR estimates using first and last halves of the samples (with respect to simulation time)"
   ]
  },
  {
   "cell_type": "code",
   "execution_count": null,
   "id": "9171458d-af09-4e23-aa76-a59d04cd7aa9",
   "metadata": {},
   "outputs": [],
   "source": [
    "fig, axes = plot_general(cumulative, None, perWindow, None, RT)\n",
    "fig.suptitle(changeAndError)\n",
    "plt.savefig(f'{path}FEP_general_figures.pdf')"
   ]
  },
  {
   "cell_type": "code",
   "execution_count": null,
   "id": "06b4695b-0328-4816-8a9b-b9dede5bc404",
   "metadata": {},
   "outputs": [],
   "source": [
    "fig, convAx = plt.subplots(1,1)\n",
    "convAx = convergence_plot(convAx, forward*RT, forward_error*RT, backward*RT, backward_error*RT)\n",
    "plt.savefig(f'{path}FEP_convergence.pdf')"
   ]
  },
  {
   "cell_type": "code",
   "execution_count": null,
   "id": "93c17bf1-eed3-4d00-8fad-60e5171171c7",
   "metadata": {},
   "outputs": [],
   "source": [
    "fig, ax = plt.subplots()\n",
    "ax.errorbar(per_lambda_convergence.index, per_lambda_convergence.BAR.df*RT)\n",
    "ax.set_xlabel(r\"$\\lambda$\")\n",
    "ax.set_ylabel(r\"$D_{last-first}$ (kcal/mol)\")\n",
    "plt.savefig(f\"{path}FEP_perLambda_convergence.pdf\")"
   ]
  }
 ],
 "metadata": {
  "kernelspec": {
   "display_name": "Python 3 (ipykernel)",
   "language": "python",
   "name": "python3"
  },
  "language_info": {
   "codemirror_mode": {
    "name": "ipython",
    "version": 3
   },
   "file_extension": ".py",
   "mimetype": "text/x-python",
   "name": "python",
   "nbconvert_exporter": "python",
   "pygments_lexer": "ipython3",
   "version": "3.9.12"
  }
 },
 "nbformat": 4,
 "nbformat_minor": 5
}
