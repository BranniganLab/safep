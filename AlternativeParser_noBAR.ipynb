{
 "cells": [
  {
   "cell_type": "markdown",
   "id": "402c6899-31ba-4456-99a4-7c954acb9dda",
   "metadata": {},
   "source": [
    "User Settings:"
   ]
  },
  {
   "cell_type": "code",
   "execution_count": null,
   "id": "756687e0-01ab-4e37-b5d9-abd29841accb",
   "metadata": {},
   "outputs": [],
   "source": [
    "from glob import glob #file regexes\n",
    "\n",
    "files = glob(\"*.fep\")\n",
    "equil = 10000\n",
    "temperature = 300"
   ]
  },
  {
   "cell_type": "markdown",
   "id": "c4b4659e-0e6c-45ed-a66d-72c6976846a7",
   "metadata": {},
   "source": [
    "Imports"
   ]
  },
  {
   "cell_type": "code",
   "execution_count": null,
   "id": "601a682c-91a3-4c81-b2a7-d79b52bdfa43",
   "metadata": {
    "tags": []
   },
   "outputs": [],
   "source": [
    "import pandas as pd\n",
    "import matplotlib.pyplot as plt\n",
    "import numpy as np\n",
    "from tqdm import tqdm #for progress bars\n",
    "import re #regex\n",
    "from natsort import natsorted #for sorting \"naturally\" instead of alphabetically\n",
    "import Analysis_Scripts.py"
   ]
  },
  {
   "cell_type": "markdown",
   "id": "fadc5519-1348-4914-ba15-3ad0952db796",
   "metadata": {},
   "source": [
    "Read files"
   ]
  },
  {
   "cell_type": "code",
   "execution_count": null,
   "id": "43b54769-66f7-438b-a28d-f044031ee8eb",
   "metadata": {},
   "outputs": [],
   "source": [
    "files = natsorted(files)\n",
    "data = readFiles(files)"
   ]
  },
  {
   "cell_type": "code",
   "execution_count": null,
   "id": "201afee7-dd27-474f-925a-34305e8e50fa",
   "metadata": {},
   "outputs": [],
   "source": [
    "#data= pd.read_pickle(\"all_data.pkl\")"
   ]
  },
  {
   "cell_type": "markdown",
   "id": "6d86b077-5f69-482e-9188-32307ce16a63",
   "metadata": {},
   "source": [
    "Trim the data to remove pre-equilibration samples"
   ]
  },
  {
   "cell_type": "code",
   "execution_count": null,
   "id": "4e22cccd-360e-4814-bd53-93286d4fc77f",
   "metadata": {},
   "outputs": [],
   "source": [
    "dG_f, dG_b = get_dG_fromData(data)"
   ]
  },
  {
   "cell_type": "code",
   "execution_count": null,
   "id": "d61398c1-a28d-44c0-85ec-b6b5f55d15e4",
   "metadata": {},
   "outputs": [],
   "source": [
    "plt.plot(dG_f.window, dG_f.dG, label='dG_fwd')\n",
    "plt.plot(dG_b.window, -dG_b.dG, label='- dG_bwd')\n",
    "\n",
    "plt.title('Fwd and bwd free energy difference by lambda (exponential estimator)')\n",
    "plt.xlabel('Lambda')\n",
    "plt.ylabel('delta-G')\n",
    "plt.legend()\n",
    "plt.savefig(\"discrepancy_by_lambda.png\", dpi=1200)"
   ]
  },
  {
   "cell_type": "code",
   "execution_count": null,
   "id": "41c396a2-f520-4741-a74b-f666414b4aca",
   "metadata": {},
   "outputs": [],
   "source": [
    "plt.vlines(dG_f.window, np.zeros(len(dG_f.window)), dG_f.dG + np.array(dG_b.dG), label=\"fwd - bwd\", linewidth=3)\n",
    "\n",
    "plt.legend()\n",
    "plt.title('Fwd-bwd discrepencies by lambda')\n",
    "plt.xlabel('Lambda')\n",
    "plt.ylabel('Diff. in delta-G')\n",
    "plt.savefig(\"hysteresis_Exp_Nov30.png\", dpi=1200)"
   ]
  },
  {
   "cell_type": "code",
   "execution_count": null,
   "id": "36e940eb-8d23-4a32-9eff-f8e2058df669",
   "metadata": {},
   "outputs": [],
   "source": [
    "print(f'The rough estimate for total dG (forward windows only) is: {np.sum(dG_f.dG).round(2)}kT. The backward estimate is {-np.sum(dG_b.dG).round(2)}kT')"
   ]
  },
  {
   "cell_type": "markdown",
   "id": "a35778d8-f442-41fc-9927-231d8c90960c",
   "metadata": {},
   "source": [
    "Plot dE distributions for EACH complete window (may take several minutes)"
   ]
  },
  {
   "cell_type": "code",
   "execution_count": null,
   "id": "1246203b-3904-4dd8-a7b0-e10604006175",
   "metadata": {},
   "outputs": [],
   "source": [
    "#split into forward and backward values for each window\n",
    "backward = data.dE[~(data.up) * data.step>=equil].sort_index()*(-1)\n",
    "forward = data.dE[data.up * data.step>=equil].sort_index()\n",
    "print(f'equilibration Time: {equil}\\n backward: {backward.mean()}, forward: {forward.mean()}') "
   ]
  },
  {
   "cell_type": "code",
   "execution_count": null,
   "id": "712a19da-9279-46e0-b53d-42802e88f272",
   "metadata": {},
   "outputs": [],
   "source": [
    "import seaborn as sns"
   ]
  },
  {
   "cell_type": "code",
   "execution_count": null,
   "id": "00f15b36-d2a0-47bb-a652-a0030de7416e",
   "metadata": {},
   "outputs": [],
   "source": [
    "completeWindows = np.sort(list(set(backward.index) & set(forward.index))) #those windows which have both forward and backward data"
   ]
  },
  {
   "cell_type": "code",
   "execution_count": null,
   "id": "263e18e3-33e8-4cd8-84c5-cefbd99e8ce5",
   "metadata": {},
   "outputs": [],
   "source": [
    "for i in completeWindows:\n",
    "    \n",
    "    # creating a figure composed of two matplotlib.Axes objects (ax_box and ax_hist)\n",
    "    f, (ax_box, ax_hist) = plt.subplots(2, sharex=True, gridspec_kw={\"height_ratios\": (.15, .85)})\n",
    "\n",
    "    # assigning a graph to each ax\n",
    "    tempDat = [forward.loc[i], backward.loc[i]]\n",
    "    \n",
    "    ax_box.boxplot(tempDat, vert=False)\n",
    "    ax_box.set_yticklabels([\"forward\", \"backward\"])\n",
    "    plt.title(f'[{np.round(i-0.004,3)} {np.round(i+0.004, 3)}]')\n",
    "    # Remove x axis name for the boxplot\n",
    "    ax_box.set(xlabel='')\n",
    "\n",
    "    sns.histplot(backward.loc[i], bins=50, label=\"backward\", ax=ax_hist);\n",
    "    sns.histplot(forward.loc[i], bins=50, label=\"forward\", ax=ax_hist, color=\"orange\");\n",
    "    \n",
    "    plt.legend()\n",
    "    plt.show()\n",
    "    #plt.savefig(f'./diagnosticPlots/dE_SmallerWindows{np.round(i,3)}.svg')\n",
    "    plt.clf()\n",
    "    plt.close()"
   ]
  }
 ],
 "metadata": {
  "kernelspec": {
   "display_name": "Python 3 (ipykernel)",
   "language": "python",
   "name": "python3"
  },
  "language_info": {
   "codemirror_mode": {
    "name": "ipython",
    "version": 3
   },
   "file_extension": ".py",
   "mimetype": "text/x-python",
   "name": "python",
   "nbconvert_exporter": "python",
   "pygments_lexer": "ipython3",
   "version": "3.9.5"
  }
 },
 "nbformat": 4,
 "nbformat_minor": 5
}
