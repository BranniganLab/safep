{
 "cells": [
  {
   "cell_type": "markdown",
   "id": "402c6899-31ba-4456-99a4-7c954acb9dda",
   "metadata": {},
   "source": [
    "User Settings:"
   ]
  },
  {
   "cell_type": "code",
   "execution_count": null,
   "id": "756687e0-01ab-4e37-b5d9-abd29841accb",
   "metadata": {},
   "outputs": [],
   "source": [
    "from glob import glob #file regexes\n",
    "\n",
    "files = glob(\"*fixed.fepout\")\n",
    "equil = 10000\n",
    "temperature = 300"
   ]
  },
  {
   "cell_type": "markdown",
   "id": "c4b4659e-0e6c-45ed-a66d-72c6976846a7",
   "metadata": {},
   "source": [
    "Imports"
   ]
  },
  {
   "cell_type": "code",
   "execution_count": null,
   "id": "601a682c-91a3-4c81-b2a7-d79b52bdfa43",
   "metadata": {
    "tags": []
   },
   "outputs": [],
   "source": [
    "import pandas as pd\n",
    "import matplotlib.pyplot as plt\n",
    "import numpy as np\n",
    "from tqdm import tqdm #for progress bars\n",
    "import re #regex\n",
    "from natsort import natsorted #for sorting \"naturally\" instead of alphabetically"
   ]
  },
  {
   "cell_type": "code",
   "execution_count": null,
   "id": "d8cbcef6-4a1a-4771-8340-6dd59d34e63a",
   "metadata": {
    "tags": []
   },
   "outputs": [],
   "source": [
    "#Don't work right yet\n",
    "#from alchemlyb.estimators import BAR \n",
    "#from alchemlyb.visualisation.dF_state import plot_dF_state\n",
    "#from alchemlyb.visualisation import plot_convergence"
   ]
  },
  {
   "cell_type": "markdown",
   "id": "2dfb04b6-709e-4305-af24-80432a1dd9d3",
   "metadata": {},
   "source": [
    "Function Delcarations:"
   ]
  },
  {
   "cell_type": "code",
   "execution_count": null,
   "id": "67912cb6-0054-4923-9727-9073d82e7672",
   "metadata": {
    "tags": []
   },
   "outputs": [],
   "source": [
    "#redFEPOUT uses reads each file in a single pass: keeping track of lambda values and appending each line to an array. \n",
    "#The array is cast to a dataframe at the end to avoid appending to a dataframe\n",
    "def readFEPOUT(fileName, step=1):\n",
    "    colNames = [\"type\",'step', 'Elec_l', 'Elec_ldl', 'vdW_l', 'vdW_ldl', 'dE', 'dE_avg', 'Temp', 'dG', 'FromLambda', \"ToLambda\"]\n",
    "\n",
    "    data = []\n",
    "\n",
    "    L = np.nan\n",
    "    L2 = np.nan\n",
    "    LIDWS = np.nan\n",
    "    \n",
    "    frame = 0\n",
    "    with open(fileName) as downFile:\n",
    "        for line in downFile:\n",
    "            if line[0] == '#':\n",
    "                frame = 0\n",
    "                #print(line)\n",
    "                Lambda = re.search('LAMBDA SET TO (\\d+(\\.\\d+)*)', line)\n",
    "                Lambda2 = re.search('LAMBDA2 (\\d+(\\.\\d+)*)', line)\n",
    "                LambdaIDWS = re.search('LAMBDA_IDWS (\\d+(\\.\\d+)*)', line)\n",
    "                if Lambda:\n",
    "                    L = Lambda.group(1)\n",
    "                    #print(f'L={L}')\n",
    "                if Lambda2:\n",
    "                    L2 = Lambda2.group(1)\n",
    "                    #print(f'L2={L2}')\n",
    "                if LambdaIDWS:\n",
    "                    LIDWS = LambdaIDWS.group(1)\n",
    "                    #print(f'LIDWS={LIDWS}')\n",
    "            elif frame % step <= 1:\n",
    "                lineList = line.split()\n",
    "                lineList.append(L)\n",
    "                if lineList[0] == \"FepEnergy:\":\n",
    "                    lineList.append(L2)\n",
    "                elif lineList[0] == \"FepE_back:\":\n",
    "                    lineList.append(LIDWS)\n",
    "                else:\n",
    "                    print(f'Unexpected line start: {lineList[0]}')\n",
    "                    return 0\n",
    "                data.append(lineList)\n",
    "                frame = frame + 1\n",
    "            else:\n",
    "                frame = frame + 1\n",
    "\n",
    "    downFile.close()\n",
    "    \n",
    "    df = pd.DataFrame(data).dropna()\n",
    "    df.columns = colNames\n",
    "    df = df.iloc[:,1:].astype(float)\n",
    "    df[\"window\"]=np.mean([df.FromLambda,df.ToLambda], axis=0)\n",
    "    df[\"up\"]=df.ToLambda>df.FromLambda\n",
    "   \n",
    "    df = df.sort_index()\n",
    "    return df"
   ]
  },
  {
   "cell_type": "code",
   "execution_count": null,
   "id": "2f767ed0-d6f5-4ace-beb2-c3912e4cc0da",
   "metadata": {},
   "outputs": [],
   "source": [
    "def readFiles(files, step=1):\n",
    "    fileList = []\n",
    "    for file in tqdm(files):\n",
    "        df = readFEPOUT(file, step)\n",
    "        fileList.append(df)\n",
    "    data = pd.concat(fileList)\n",
    "    \n",
    "    data.index = data.window\n",
    "    data[\"dVdW\"] = data.vdW_ldl - data.vdW_l\n",
    "    \n",
    "    return data"
   ]
  },
  {
   "cell_type": "code",
   "execution_count": null,
   "id": "651730e5-8d38-406b-98cc-25373e7add5c",
   "metadata": {},
   "outputs": [],
   "source": [
    "def u_nk_fromDF(data, temperature):\n",
    "    from scipy.constants import R, calorie\n",
    "    beta = 1/(R/(1000*calorie) * temperature) #So that the final result is in kcal/mol\n",
    "    u_nk = pd.pivot_table(data, index=[\"step\", \"FromLambda\"], columns=\"ToLambda\", values=\"dE\")\n",
    "    u_nk = u_nk.sort_index(level=0).sort_index(axis='columns') #sort the data so it can be interpreted by the BAR estimator\n",
    "    u_nk = u_nk*beta\n",
    "    #u_nk = u_nk.sort_index(level=1).sort_index(axis='columns') #sort the data so it can be interpreted by the BAR estimator\n",
    "    \n",
    "    return u_nk"
   ]
  },
  {
   "cell_type": "code",
   "execution_count": null,
   "id": "c5cb7186-bbab-4f57-85df-294d72ebfbfc",
   "metadata": {},
   "outputs": [],
   "source": [
    "def get_dG(u_nk):\n",
    "    #the data frame is organized from index level 1 (fep-lambda) TO column\n",
    "    #dG will be FROM column TO index\n",
    "    groups = u_nk.groupby(level=1)\n",
    "    dG=pd.DataFrame([]) \n",
    "    for name, group in groups:\n",
    "        dG[name] = np.log(np.mean(np.exp(-1*data)))\n",
    "        dG = dG.copy() # this is actually faster than having a fragmented dataframe\n",
    "        \n",
    "    return dG"
   ]
  },
  {
   "cell_type": "markdown",
   "id": "fadc5519-1348-4914-ba15-3ad0952db796",
   "metadata": {},
   "source": [
    "Read files"
   ]
  },
  {
   "cell_type": "code",
   "execution_count": null,
   "id": "43b54769-66f7-438b-a28d-f044031ee8eb",
   "metadata": {},
   "outputs": [],
   "source": [
    "files = natsorted(files)\n",
    "data = readFiles(files)"
   ]
  },
  {
   "cell_type": "markdown",
   "id": "6d86b077-5f69-482e-9188-32307ce16a63",
   "metadata": {},
   "source": [
    "Trim the data to remove pre-equilibration samples"
   ]
  },
  {
   "cell_type": "code",
   "execution_count": null,
   "id": "a0312f83-1d0e-454f-9c78-3a00fbd730bf",
   "metadata": {},
   "outputs": [],
   "source": [
    "trimmedData = data.loc[data.step>=equil]\n",
    "u_nk = u_nk_fromDF(trimmedData, temperature)"
   ]
  },
  {
   "cell_type": "code",
   "execution_count": null,
   "id": "cc69fa39-d94a-4718-b1ce-eb0176b57c4e",
   "metadata": {},
   "outputs": [],
   "source": [
    "u_nk.sort_index(level=1)"
   ]
  },
  {
   "cell_type": "code",
   "execution_count": null,
   "id": "8c4b8947-6424-47fb-bb27-eea0bddff1b7",
   "metadata": {},
   "outputs": [],
   "source": [
    "dG = get_dG(u_nk, equil)\n",
    "dG_f=np.diag(dG, k=1)\n",
    "dG_b=np.diag(dG, k=-1)\n",
    "\n",
    "l=dG.columns.to_list()\n",
    "l_mid = np.mean([l[1:],l[:-1]], axis=0)"
   ]
  },
  {
   "cell_type": "code",
   "execution_count": null,
   "id": "d61398c1-a28d-44c0-85ec-b6b5f55d15e4",
   "metadata": {},
   "outputs": [],
   "source": [
    "plt.plot(l_mid, dG_f, label='dG_fwd')\n",
    "plt.plot(l_mid, -dG_b, label='- dG_bwd')\n",
    "\n",
    "plt.title('Fwd and bwd free energy difference by lambda (exponential estimator)')\n",
    "plt.xlabel('Lambda')\n",
    "plt.ylabel('delta-G')\n",
    "plt.legend()"
   ]
  },
  {
   "cell_type": "code",
   "execution_count": null,
   "id": "41c396a2-f520-4741-a74b-f666414b4aca",
   "metadata": {},
   "outputs": [],
   "source": [
    "plt.vlines(l_mid, np.zeros(len(l_mid)), dG_f + np.array(dG_b), label=\"fwd - bwd\", linewidth=3)\n",
    "\n",
    "plt.legend()\n",
    "plt.title('Fwd-bwd discrepencies by lambda')\n",
    "plt.xlabel('Lambda')\n",
    "plt.ylabel('Diff. in delta-G')\n",
    "plt.savefig(\"figure.png\", dpi=1200)"
   ]
  },
  {
   "cell_type": "code",
   "execution_count": null,
   "id": "36e940eb-8d23-4a32-9eff-f8e2058df669",
   "metadata": {},
   "outputs": [],
   "source": [
    "print(f'The rough estimate for total dG (forward windows only) is: {np.sum(dG_f[~np.isnan(dG_f)])}. The backward estimate is {-np.sum(dG_b[~np.isnan(dG_b)])}')"
   ]
  },
  {
   "cell_type": "markdown",
   "id": "a35778d8-f442-41fc-9927-231d8c90960c",
   "metadata": {},
   "source": [
    "Plot dE distributions for EACH complete window (may take several minutes)"
   ]
  },
  {
   "cell_type": "code",
   "execution_count": null,
   "id": "1246203b-3904-4dd8-a7b0-e10604006175",
   "metadata": {},
   "outputs": [],
   "source": [
    "#split into forward and backward values for each window\n",
    "backward = data.dE[~(data.up) * data.step>=equil].sort_index()*(-1)\n",
    "forward = data.dE[data.up * data.step>=equil].sort_index()\n",
    "print(f'equilibration Time: {equil}\\n backward: {backward.mean()}, forward: {forward.mean()}') "
   ]
  },
  {
   "cell_type": "code",
   "execution_count": 1,
   "id": "712a19da-9279-46e0-b53d-42802e88f272",
   "metadata": {},
   "outputs": [],
   "source": [
    "import seaborn as sns"
   ]
  },
  {
   "cell_type": "code",
   "execution_count": null,
   "id": "00f15b36-d2a0-47bb-a652-a0030de7416e",
   "metadata": {},
   "outputs": [],
   "source": [
    "completeWindows = np.sort(list(set(backward.index) & set(forward.index))) #those windows which have both forward and backward data"
   ]
  },
  {
   "cell_type": "code",
   "execution_count": null,
   "id": "263e18e3-33e8-4cd8-84c5-cefbd99e8ce5",
   "metadata": {},
   "outputs": [],
   "source": [
    "for i in completeWindows:\n",
    "    \n",
    "    # creating a figure composed of two matplotlib.Axes objects (ax_box and ax_hist)\n",
    "    f, (ax_box, ax_hist) = plt.subplots(2, sharex=True, gridspec_kw={\"height_ratios\": (.15, .85)})\n",
    "\n",
    "    # assigning a graph to each ax\n",
    "    tempDat = [forward.loc[i], backward.loc[i]]\n",
    "    \n",
    "    ax_box.boxplot(tempDat, vert=False)\n",
    "    ax_box.set_yticklabels([\"forward\", \"backward\"])\n",
    "    plt.title(f'[{np.round(i-0.004,3)} {np.round(i+0.004, 3)}]')\n",
    "    # Remove x axis name for the boxplot\n",
    "    ax_box.set(xlabel='')\n",
    "\n",
    "    sns.histplot(backward.loc[i], bins=50, label=\"backward\", ax=ax_hist);\n",
    "    sns.histplot(forward.loc[i], bins=50, label=\"forward\", ax=ax_hist, color=\"orange\");\n",
    "    \n",
    "    plt.legend()\n",
    "    plt.show()\n",
    "    #plt.savefig(f'./diagnosticPlots/dE_SmallerWindows{np.round(i,3)}.svg')\n",
    "    plt.clf()\n",
    "    plt.close()"
   ]
  }
 ],
 "metadata": {
  "kernelspec": {
   "display_name": "Python 3 (ipykernel)",
   "language": "python",
   "name": "python3"
  },
  "language_info": {
   "codemirror_mode": {
    "name": "ipython",
    "version": 3
   },
   "file_extension": ".py",
   "mimetype": "text/x-python",
   "name": "python",
   "nbconvert_exporter": "python",
   "pygments_lexer": "ipython3",
   "version": "3.9.5"
  }
 },
 "nbformat": 4,
 "nbformat_minor": 5
}
